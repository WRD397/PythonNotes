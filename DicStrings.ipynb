{
 "cells": [
  {
   "cell_type": "markdown",
   "metadata": {},
   "source": [
    "### S T R I N G S ###"
   ]
  },
  {
   "cell_type": "code",
   "execution_count": 8,
   "metadata": {},
   "outputs": [
    {
     "name": "stdout",
     "output_type": "stream",
     "text": [
      "False True\n"
     ]
    }
   ],
   "source": [
    "\"\"\"to know if the string contain digits\"\"\"\n",
    "\n",
    "x = '125D85'\n",
    "y = '15485800'\n",
    "print ( str.isdigit(x) , str.isdigit(y) )"
   ]
  },
  {
   "cell_type": "code",
   "execution_count": 1,
   "metadata": {},
   "outputs": [
    {
     "data": {
      "text/plain": [
       "['P!', 'l!', 'u!', 't!', 'o!']"
      ]
     },
     "execution_count": 1,
     "metadata": {},
     "output_type": "execute_result"
    }
   ],
   "source": [
    "\"\"\"LOOP Over a string\"\"\"\n",
    "planet = 'Pluto'\n",
    "[char + '!' for char in planet]"
   ]
  },
  {
   "cell_type": "code",
   "execution_count": 2,
   "metadata": {},
   "outputs": [
    {
     "data": {
      "text/plain": [
       "11"
      ]
     },
     "execution_count": 2,
     "metadata": {},
     "output_type": "execute_result"
    }
   ],
   "source": [
    "\"\"\"INDEXING\"\"\"\n",
    "claim = 'pLuto is a planet'\n",
    "claim.index('pla')    ##ie. the string 'pla' starts from 11th position."
   ]
  },
  {
   "cell_type": "code",
   "execution_count": null,
   "metadata": {},
   "outputs": [],
   "source": [
    "\"\"\" ENUMERATE \"\"\"\n",
    "pla"
   ]
  },
  {
   "cell_type": "code",
   "execution_count": 19,
   "metadata": {},
   "outputs": [
    {
     "name": "stdout",
     "output_type": "stream",
     "text": [
      "['pLuto', 'is', 'a', 'planet']\n",
      "['1956', '01', '31'] \n",
      "\n",
      "[['The', 'Learn', 'Python', 'Challenge', 'Casino.'], ['They', 'bought', 'a', 'car'], ['Casinoville'], [\"Casino's\", 'the', 'name', 'of', 'my', 'company']] \n",
      "\n",
      "1956/01/31\n",
      "1956 ## 01 ## 31\n"
     ]
    }
   ],
   "source": [
    "\"\"\"SPLITTING\"\"\"\n",
    "words = claim.split()    ###splitting on whitespace\n",
    "print (words)\n",
    "date = '1956-01-31'\n",
    "print (date.split('-'),'\\n')  ###splitting on other figures than whitespace\n",
    "\n",
    "doc_list = [\"The Learn Python Challenge Casino.\", \"They bought a car\", \"Casinoville\" , \"Casino's the name of my company\"]\n",
    "\n",
    "words = [doc.split() for doc in doc_list]\n",
    "print (words,'\\n')\n",
    "\n",
    "\"\"\"JOINING\"\"\"\n",
    "[date , mon , yr] = date.split('-')\n",
    "print('/'.join([date,mon,yr]))\n",
    "print(' ## '.join([date,mon,yr]))"
   ]
  },
  {
   "cell_type": "code",
   "execution_count": 7,
   "metadata": {},
   "outputs": [
    {
     "name": "stdout",
     "output_type": "stream",
     "text": [
      "Pluto is the 9th planet\n"
     ]
    }
   ],
   "source": [
    "\"\"\" .format \"\"\"\n",
    "planet = 'Pluto'\n",
    "position = 9\n",
    "print (\"{} is the {}th planet\".format(planet,position))"
   ]
  },
  {
   "cell_type": "code",
   "execution_count": 15,
   "metadata": {},
   "outputs": [
    {
     "name": "stdout",
     "output_type": "stream",
     "text": [
      "Mercury is the 1th planet of our solar sys\n",
      "Venus is the 2th planet of our solar sys\n",
      "Earth is the 3th planet of our solar sys\n",
      "Mars is the 4th planet of our solar sys\n",
      "Jupiter is the 5th planet of our solar sys\n",
      "Saturn is the 6th planet of our solar sys\n",
      "Uranus is the 7th planet of our solar sys\n",
      "Neptune is the 8th planet of our solar sys\n"
     ]
    }
   ],
   "source": [
    "\"\"\" ENUMERATE \"\"\"\n",
    "planets = ['Mercury', 'Venus', 'Earth', 'Mars', 'Jupiter', 'Saturn', 'Uranus', 'Neptune']\n",
    "\n",
    "\"\"\"ie. if we enumerate the list then the indices of the string items can also be accessed\"\"\"\n",
    "for i,planet in enumerate(planets) :\n",
    "    print ('{} is the {}th planet of our solar sys'.format(planet,i+1))\n"
   ]
  },
  {
   "cell_type": "code",
   "execution_count": 22,
   "metadata": {},
   "outputs": [
    {
     "data": {
      "text/plain": [
       "'PLUTO'"
      ]
     },
     "execution_count": 22,
     "metadata": {},
     "output_type": "execute_result"
    }
   ],
   "source": [
    "\"\"\" STRIPPING \"\"\"\n",
    "planet = ',pluto.'\n",
    "planet.strip(',.').upper()  ## stripping out comma and full stop from the string ',pluto.' and make it \n",
    "                            ## uppercase"
   ]
  },
  {
   "cell_type": "markdown",
   "metadata": {},
   "source": [
    "###"
   ]
  },
  {
   "cell_type": "markdown",
   "metadata": {},
   "source": [
    "###  D I C T I O N A R I E S  ###"
   ]
  },
  {
   "cell_type": "markdown",
   "metadata": {},
   "source": [
    "###"
   ]
  },
  {
   "cell_type": "code",
   "execution_count": 8,
   "metadata": {},
   "outputs": [
    {
     "data": {
      "text/plain": [
       "1"
      ]
     },
     "execution_count": 8,
     "metadata": {},
     "output_type": "execute_result"
    }
   ],
   "source": [
    "\"\"\"built in data structures for mapping key to values\"\"\"\n",
    "\n",
    "numbers = {'one':1 , 'two': 2 , 'three':3}\n",
    "numbers['one']"
   ]
  },
  {
   "cell_type": "code",
   "execution_count": 2,
   "metadata": {},
   "outputs": [
    {
     "name": "stdout",
     "output_type": "stream",
     "text": [
      "{'Mercury': 'M', 'Venus': 'V', 'Earth': 'E', 'Mars': 'M', 'Jupiter': 'J', 'Saturn': 'S', 'Uranus': 'U', 'Neptune': 'N'}\n"
     ]
    }
   ],
   "source": [
    "\"\"\"defining a Dictionary\"\"\"\n",
    "planets = ['Mercury', 'Venus', 'Earth', 'Mars', 'Jupiter', 'Saturn', 'Uranus', 'Neptune']\n",
    "planet_to_initials = {  planet: planet[0] for planet in planets  }\n",
    "print (planet_to_initials)"
   ]
  },
  {
   "cell_type": "code",
   "execution_count": 3,
   "metadata": {},
   "outputs": [
    {
     "name": "stdout",
     "output_type": "stream",
     "text": [
      "{'Mercury': 'M', 'Venus': 'V', 'Earth': 'E', 'Mars': 'M', 'Jupiter': 'J', 'Saturn': 'S', 'Uranus': 'U', 'Neptune': 'N', 'Pluto': 'P', 'kjhkjh': 5}\n"
     ]
    }
   ],
   "source": [
    "\"\"\"Adding Keys\"\"\"\n",
    "planet_to_initials['Pluto'] = 'P'\n",
    "planet_to_initials['kjhkjh'] = 5\n",
    "print(planet_to_initials)"
   ]
  },
  {
   "cell_type": "markdown",
   "metadata": {},
   "source": [
    "### A KAGGLE PROBLEM ###"
   ]
  },
  {
   "cell_type": "code",
   "execution_count": 5,
   "metadata": {},
   "outputs": [],
   "source": [
    "\"\"\"\n",
    "A researcher has gathered thousands of news articles. But she wants to focus her attention on articles including a specific word. Complete the function below to help her filter her list of articles.\n",
    "\n",
    "Your function should meet the following criteria:\n",
    "\n",
    "- Do not include documents where the keyword string shows up only as a part of a larger word. For example, if she were looking for the keyword “closed”, you would not include the string “enclosed.” \n",
    "- She does not want you to distinguish upper case from lower case letters. So the phrase “Closed the case.” would be included when the keyword is “closed”\n",
    "- Do not let periods or commas affect what is matched. “It is closed.” would be included when the keyword is “closed”. But you can assume there are no other types of punctuation.\n",
    "\n",
    "\n",
    "\n",
    "FOR THIS PART OF THE QUESTIION DEFINE A FUNC NAMED 'search()'\n",
    "\"\"\"\n",
    "\n",
    "\"\"\"\n",
    "Now the researcher wants to supply multiple keywords to search for. Complete the function below to help her.\n",
    "\n",
    "(You're encouraged to use the `word_search` function you just wrote when implementing this function. Reusing code in this way makes your programs more robust and readable - and it saves typing!)\n",
    "\n",
    "\n",
    "\n",
    "FOR THIS PART DEFINE A FUNCTION NAMED 'word_search()' AND THEN MERGE THE TWO.\n",
    "\"\"\"\n",
    "\n",
    "def word_search(z,keywords):\n",
    "    indices = {}\n",
    "    for key in keywords:\n",
    "        def search(z,key):\n",
    "            ind = []\n",
    "                \n",
    "            \n",
    "            for i,doc in enumerate(z) :\n",
    "                doc_list = doc.split()\n",
    "\n",
    "                for word in doc_list:\n",
    "                    if word.strip(',.').lower() == key.strip('.,').lower() :\n",
    "                        ind.append(i)\n",
    "                        break\n",
    "                    \n",
    "            return ind\n",
    "\n",
    "    \n",
    "        indices[key] = search(z,key) \n",
    "    return indices"
   ]
  },
  {
   "cell_type": "code",
   "execution_count": 6,
   "metadata": {},
   "outputs": [
    {
     "data": {
      "text/plain": [
       "{'car': [0, 1], 'casino': [0, 2]}"
      ]
     },
     "execution_count": 6,
     "metadata": {},
     "output_type": "execute_result"
    }
   ],
   "source": [
    "doc_list=['The Learn Python car Challenge Casino', 'They bought a car, and a horse', 'Casinoville? or casino Ville?']\n",
    "key = ['car','casino']\n",
    "word_search (doc_list,key)"
   ]
  },
  {
   "cell_type": "code",
   "execution_count": 7,
   "metadata": {},
   "outputs": [
    {
     "data": {
      "text/plain": [
       "{'is': [0, 1, 3], 'was': [2], 'the': [2, 3]}"
      ]
     },
     "execution_count": 7,
     "metadata": {},
     "output_type": "execute_result"
    }
   ],
   "source": [
    "z = ['Pluto is an ,amazing is planet','jupyter is. just huge','earth WAS the best','neptune is the green lokking planet']\n",
    "keywords = ['is','was','the']\n",
    "word_search(z,keywords)"
   ]
  }
 ],
 "metadata": {
  "interpreter": {
   "hash": "882a8addb5a32e5e18b8cddcdf3ac52d873ca6e47cfe2accaa2b2a4a7bd8ae01"
  },
  "kernelspec": {
   "display_name": "Python 3.10.4 64-bit",
   "language": "python",
   "name": "python3"
  },
  "language_info": {
   "codemirror_mode": {
    "name": "ipython",
    "version": 3
   },
   "file_extension": ".py",
   "mimetype": "text/x-python",
   "name": "python",
   "nbconvert_exporter": "python",
   "pygments_lexer": "ipython3",
   "version": "3.10.4"
  },
  "orig_nbformat": 4
 },
 "nbformat": 4,
 "nbformat_minor": 2
}
