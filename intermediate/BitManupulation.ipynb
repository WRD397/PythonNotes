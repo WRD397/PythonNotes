{
 "cells": [
  {
   "cell_type": "code",
   "execution_count": 2,
   "metadata": {},
   "outputs": [],
   "source": [
    "class File:\n",
    "    def __init__(self, name):\n",
    "        self.name = name\n",
    "        self.permissions = 0\n",
    "    READ_MASK = 0b100\n",
    "    WRITE_MASK = 0b010\n",
    "    EXECUTE_MASK = 0b001\n",
    "\n",
    "    def make_readable(self):\n",
    "        self.permissions |= self.READ_MASK\n",
    "    def make_writable(self):\n",
    "        self.permissions |= self.WRITE_MASK\n",
    "    def make_executable(self):\n",
    "        self.permissions |= self.EXECUTE_MASK\n",
    "\n",
    "    def is_readable(self):\n",
    "        return bool( self.permissions & 0b100 )\n",
    "    def is_writable(self):\n",
    "        return bool(self.permissions & 0b010)\n",
    "    def is_executable(self):\n",
    "        return bool(self.permissions & 0b001)"
   ]
  },
  {
   "cell_type": "markdown",
   "metadata": {},
   "source": [
    "these 0b100,0b001,0b010....are called Masks...like Read Mask, Write Mask, "
   ]
  },
  {
   "cell_type": "code",
   "execution_count": 4,
   "metadata": {},
   "outputs": [],
   "source": [
    "file = File(\"sample\")"
   ]
  },
  {
   "cell_type": "code",
   "execution_count": 5,
   "metadata": {},
   "outputs": [
    {
     "data": {
      "text/plain": [
       "False"
      ]
     },
     "execution_count": 5,
     "metadata": {},
     "output_type": "execute_result"
    }
   ],
   "source": [
    "file.is_readable()"
   ]
  },
  {
   "cell_type": "code",
   "execution_count": 6,
   "metadata": {},
   "outputs": [],
   "source": [
    "file.make_readable()"
   ]
  },
  {
   "cell_type": "code",
   "execution_count": 7,
   "metadata": {},
   "outputs": [
    {
     "data": {
      "text/plain": [
       "True"
      ]
     },
     "execution_count": 7,
     "metadata": {},
     "output_type": "execute_result"
    }
   ],
   "source": [
    "file.is_readable()"
   ]
  },
  {
   "cell_type": "code",
   "execution_count": 8,
   "metadata": {},
   "outputs": [],
   "source": [
    "def toggle_bit(number,i):\n",
    "    mask = 1 << i\n",
    "    return number ^ mask"
   ]
  },
  {
   "cell_type": "code",
   "execution_count": 9,
   "metadata": {},
   "outputs": [
    {
     "data": {
      "text/plain": [
       "'0b1110111'"
      ]
     },
     "execution_count": 9,
     "metadata": {},
     "output_type": "execute_result"
    }
   ],
   "source": [
    "bin(toggle_bit(0b1110011, 2))"
   ]
  },
  {
   "cell_type": "code",
   "execution_count": null,
   "metadata": {},
   "outputs": [],
   "source": [
    "def clear_bit(number, i):\n",
    "    "
   ]
  }
 ],
 "metadata": {
  "kernelspec": {
   "display_name": "Python 3.9.7 ('base')",
   "language": "python",
   "name": "python3"
  },
  "language_info": {
   "codemirror_mode": {
    "name": "ipython",
    "version": 3
   },
   "file_extension": ".py",
   "mimetype": "text/x-python",
   "name": "python",
   "nbconvert_exporter": "python",
   "pygments_lexer": "ipython3",
   "version": "3.9.7"
  },
  "orig_nbformat": 4,
  "vscode": {
   "interpreter": {
    "hash": "ac67a110c22b5a2dbfbee94e330edc65ab8c73ef4fe4729cecc84c9bf1ab600c"
   }
  }
 },
 "nbformat": 4,
 "nbformat_minor": 2
}
