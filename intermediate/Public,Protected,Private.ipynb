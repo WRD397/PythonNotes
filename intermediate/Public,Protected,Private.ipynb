{
 "cells": [
  {
   "cell_type": "markdown",
   "metadata": {},
   "source": [
    "##### There are 3 types of access specifiers...\n",
    "PUBLIC : Info. , available to ALL <br>\n",
    "PROTECTED : Info. available to few specifics members <br>\n",
    "PRIVATE : Info/. avalable to myself only. <br>"
   ]
  },
  {
   "cell_type": "markdown",
   "metadata": {},
   "source": [
    "But in Python, there is NOTHING called Protected or even Private in that sense. Everything can be accessed.<br>\n",
    "But, there are few naming conventions which denotes that these are Protected or Private objects. It just helps fellow devs to get an idea that should they accsess it or not. And they then maintain thet much ethics."
   ]
  },
  {
   "cell_type": "markdown",
   "metadata": {},
   "source": [
    "<b><big> Conventions : </big></b> <br>\n",
    "* Public : normal just, you dont have to use any extra key with the name. <br>\n",
    "* Protected : You gotta use one _ before the obj name.<br>\n",
    "* Priavte : You gotta use two _ before the obj name"
   ]
  },
  {
   "cell_type": "code",
   "execution_count": 3,
   "metadata": {},
   "outputs": [],
   "source": [
    "class Employee:\n",
    "    public_var = 150\n",
    "    _protected_var = 230\n",
    "    __private_var = 400          ## Notice here , in VSCode, the private variables become a bit dim visually.\n",
    "\n",
    "Harry = Employee()\n",
    "\n",
    "class Programmer(Employee):\n",
    "    pass \n",
    "Daryl = Programmer()\n",
    "\n",
    "\n",
    "\n",
    "\n",
    "class Staffs:\n",
    "    __staffs_private = 98\n",
    "    _staffs_protected = 87\n",
    "hugo = Staffs()"
   ]
  },
  {
   "cell_type": "code",
   "execution_count": 4,
   "metadata": {},
   "outputs": [
    {
     "name": "stdout",
     "output_type": "stream",
     "text": [
      "230\n",
      "230\n"
     ]
    },
    {
     "ename": "AttributeError",
     "evalue": "'Staffs' object has no attribute '_protected_var'",
     "output_type": "error",
     "traceback": [
      "\u001b[1;31m---------------------------------------------------------------------------\u001b[0m",
      "\u001b[1;31mAttributeError\u001b[0m                            Traceback (most recent call last)",
      "\u001b[1;32m~\\AppData\\Local\\Temp/ipykernel_1540/2978650403.py\u001b[0m in \u001b[0;36m<module>\u001b[1;34m\u001b[0m\n\u001b[0;32m      1\u001b[0m \u001b[0mprint\u001b[0m\u001b[1;33m(\u001b[0m\u001b[0mHarry\u001b[0m\u001b[1;33m.\u001b[0m\u001b[0m_protected_var\u001b[0m\u001b[1;33m)\u001b[0m\u001b[1;33m\u001b[0m\u001b[1;33m\u001b[0m\u001b[0m\n\u001b[0;32m      2\u001b[0m \u001b[0mprint\u001b[0m\u001b[1;33m(\u001b[0m\u001b[0mDaryl\u001b[0m\u001b[1;33m.\u001b[0m\u001b[0m_protected_var\u001b[0m\u001b[1;33m)\u001b[0m\u001b[1;33m\u001b[0m\u001b[1;33m\u001b[0m\u001b[0m\n\u001b[1;32m----> 3\u001b[1;33m \u001b[0mprint\u001b[0m\u001b[1;33m(\u001b[0m\u001b[0mhugo\u001b[0m\u001b[1;33m.\u001b[0m\u001b[0m_protected_var\u001b[0m\u001b[1;33m)\u001b[0m\u001b[1;33m\u001b[0m\u001b[1;33m\u001b[0m\u001b[0m\n\u001b[0m",
      "\u001b[1;31mAttributeError\u001b[0m: 'Staffs' object has no attribute '_protected_var'"
     ]
    }
   ],
   "source": [
    "print(Harry._protected_var)\n",
    "print(Daryl._protected_var)\n",
    "print(hugo._protected_var)"
   ]
  },
  {
   "cell_type": "markdown",
   "metadata": {},
   "source": [
    "as you can see another class can not access one's protected var, just like public vars as well. "
   ]
  },
  {
   "cell_type": "markdown",
   "metadata": {},
   "source": [
    "## NAME MANGLING"
   ]
  },
  {
   "cell_type": "code",
   "execution_count": 6,
   "metadata": {},
   "outputs": [
    {
     "ename": "AttributeError",
     "evalue": "'Employee' object has no attribute '__private_var'",
     "output_type": "error",
     "traceback": [
      "\u001b[1;31m---------------------------------------------------------------------------\u001b[0m",
      "\u001b[1;31mAttributeError\u001b[0m                            Traceback (most recent call last)",
      "\u001b[1;32m~\\AppData\\Local\\Temp/ipykernel_1540/2272605252.py\u001b[0m in \u001b[0;36m<module>\u001b[1;34m\u001b[0m\n\u001b[1;32m----> 1\u001b[1;33m \u001b[0mprint\u001b[0m\u001b[1;33m(\u001b[0m\u001b[0mHarry\u001b[0m\u001b[1;33m.\u001b[0m\u001b[0m__private_var\u001b[0m\u001b[1;33m)\u001b[0m\u001b[1;33m\u001b[0m\u001b[1;33m\u001b[0m\u001b[0m\n\u001b[0m",
      "\u001b[1;31mAttributeError\u001b[0m: 'Employee' object has no attribute '__private_var'"
     ]
    }
   ],
   "source": [
    "print(Harry.__private_var)"
   ]
  },
  {
   "cell_type": "markdown",
   "metadata": {},
   "source": [
    "but here u can see that even Harry, being an Employee instance, still cant access private variable. But in Python there's nothing hidden, we just need to use <b>NAME MANGLING</B> here."
   ]
  },
  {
   "cell_type": "code",
   "execution_count": 8,
   "metadata": {},
   "outputs": [
    {
     "name": "stdout",
     "output_type": "stream",
     "text": [
      "400\n"
     ]
    }
   ],
   "source": [
    "print(Harry._Employee__private_var)"
   ]
  },
  {
   "cell_type": "markdown",
   "metadata": {},
   "source": [
    "So, the name mangling here is that we need to use <big><b>\" instance._className__variableName \"</b><big>"
   ]
  },
  {
   "cell_type": "code",
   "execution_count": 9,
   "metadata": {},
   "outputs": [
    {
     "name": "stdout",
     "output_type": "stream",
     "text": [
      "400\n"
     ]
    }
   ],
   "source": [
    "print(Daryl._Employee__private_var)"
   ]
  },
  {
   "cell_type": "code",
   "execution_count": 10,
   "metadata": {},
   "outputs": [
    {
     "ename": "AttributeError",
     "evalue": "'Staffs' object has no attribute '_Employee__private_var'",
     "output_type": "error",
     "traceback": [
      "\u001b[1;31m---------------------------------------------------------------------------\u001b[0m",
      "\u001b[1;31mAttributeError\u001b[0m                            Traceback (most recent call last)",
      "\u001b[1;32m~\\AppData\\Local\\Temp/ipykernel_1540/3487863290.py\u001b[0m in \u001b[0;36m<module>\u001b[1;34m\u001b[0m\n\u001b[1;32m----> 1\u001b[1;33m \u001b[0mprint\u001b[0m\u001b[1;33m(\u001b[0m\u001b[0mhugo\u001b[0m\u001b[1;33m.\u001b[0m\u001b[0m_Employee__private_var\u001b[0m\u001b[1;33m)\u001b[0m\u001b[1;33m\u001b[0m\u001b[1;33m\u001b[0m\u001b[0m\n\u001b[0m",
      "\u001b[1;31mAttributeError\u001b[0m: 'Staffs' object has no attribute '_Employee__private_var'"
     ]
    }
   ],
   "source": [
    "print(hugo._Employee__private_var)"
   ]
  },
  {
   "cell_type": "markdown",
   "metadata": {},
   "source": [
    "Thus, like any other variables, be it, private, protected or public, ONLY CLASS INSTANCES AND SUBCLASS INSTANCES can access it."
   ]
  }
 ],
 "metadata": {
  "interpreter": {
   "hash": "ac67a110c22b5a2dbfbee94e330edc65ab8c73ef4fe4729cecc84c9bf1ab600c"
  },
  "kernelspec": {
   "display_name": "Python 3.9.7 ('base')",
   "language": "python",
   "name": "python3"
  },
  "language_info": {
   "codemirror_mode": {
    "name": "ipython",
    "version": 3
   },
   "file_extension": ".py",
   "mimetype": "text/x-python",
   "name": "python",
   "nbconvert_exporter": "python",
   "pygments_lexer": "ipython3",
   "version": "3.9.7"
  },
  "orig_nbformat": 4
 },
 "nbformat": 4,
 "nbformat_minor": 2
}
