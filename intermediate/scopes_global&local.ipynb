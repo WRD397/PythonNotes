{
 "cells": [
  {
   "cell_type": "markdown",
   "metadata": {},
   "source": [
    "Not all objects are accessible everywhere in a script<br>\n",
    "Scope : part of the program where an obj or anme may be accessible<br>\n",
    "<ul>\n",
    "Global scope - defined in the main body of the script<br>\n",
    "Local scope - defined inside a function<br>\n",
    "Built-in-scope - names in the predefined built-ins module<br>\n",
    "</ul>"
   ]
  },
  {
   "cell_type": "markdown",
   "metadata": {},
   "source": [
    "#### contents\n",
    "[Altering Global Variable](#altering-global-var) <br>\n",
    "[Altering NonLocal Variable](#altering-nonlocal-variable) <br>"
   ]
  },
  {
   "cell_type": "markdown",
   "metadata": {},
   "source": [
    "#### First the <b>Local scope</b> is searched and then the <b>Nonlocal</b> or <b>Enclosing function</b> scopes (ie the variable in the parent function) then the <b>Global</b> scope is searched and atlast the <b>Built-ins</b>.<br>\n",
    "#### This is known as the <b>LEGB rule</b>"
   ]
  },
  {
   "cell_type": "code",
   "execution_count": 3,
   "metadata": {},
   "outputs": [],
   "source": [
    "value = 5\n",
    "def sqr():\n",
    "    value = 3\n",
    "    result = value ** 3\n",
    "    return result\n",
    "\n",
    "value = 10"
   ]
  },
  {
   "cell_type": "code",
   "execution_count": 5,
   "metadata": {},
   "outputs": [
    {
     "data": {
      "text/plain": [
       "27"
      ]
     },
     "execution_count": 5,
     "metadata": {},
     "output_type": "execute_result"
    }
   ],
   "source": [
    "sqr()  ### ie. here the global values are value = 5 and value = 10; both were ignored as there is local value = 3"
   ]
  },
  {
   "cell_type": "code",
   "execution_count": 12,
   "metadata": {},
   "outputs": [],
   "source": [
    "value = 5 \n",
    "def sqr1():\n",
    "    #value = 3\n",
    "    result = value ** 3\n",
    "    return result\n",
    "value = 10"
   ]
  },
  {
   "cell_type": "code",
   "execution_count": 13,
   "metadata": {},
   "outputs": [
    {
     "data": {
      "text/plain": [
       "1000"
      ]
     },
     "execution_count": 13,
     "metadata": {},
     "output_type": "execute_result"
    }
   ],
   "source": [
    "sqr1()  ## coz, at last the value variable got reassigned by 10 in place of 5. here first it tried to find the local variable value, didn't get it so took the global variable value."
   ]
  },
  {
   "cell_type": "markdown",
   "metadata": {},
   "source": [
    "[back to top](#contents)"
   ]
  },
  {
   "cell_type": "markdown",
   "metadata": {},
   "source": [
    "#### Altering Global Var"
   ]
  },
  {
   "cell_type": "markdown",
   "metadata": {},
   "source": [
    "Alter the value of global name or bringing the value of global name within the local scope of the function."
   ]
  },
  {
   "cell_type": "code",
   "execution_count": 12,
   "metadata": {},
   "outputs": [],
   "source": [
    "new_val = 10\n",
    "def square(value):\n",
    "    global new_val\n",
    "    new_val = new_val**2\n",
    "    return new_val"
   ]
  },
  {
   "cell_type": "code",
   "execution_count": 13,
   "metadata": {},
   "outputs": [
    {
     "data": {
      "text/plain": [
       "100"
      ]
     },
     "execution_count": 13,
     "metadata": {},
     "output_type": "execute_result"
    }
   ],
   "source": [
    "square(7)"
   ]
  },
  {
   "cell_type": "markdown",
   "metadata": {},
   "source": [
    "[back to top](#contents)"
   ]
  },
  {
   "cell_type": "markdown",
   "metadata": {},
   "source": [
    "### Altering NonLocal Variable"
   ]
  },
  {
   "cell_type": "code",
   "execution_count": 24,
   "metadata": {},
   "outputs": [],
   "source": [
    "def outer():\n",
    "    n = 1\n",
    "    def inner():\n",
    "        #nonlocal n \n",
    "        n = 5\n",
    "        print(n)\n",
    "    inner()\n",
    "    print(n)"
   ]
  },
  {
   "cell_type": "code",
   "execution_count": 25,
   "metadata": {},
   "outputs": [
    {
     "name": "stdout",
     "output_type": "stream",
     "text": [
      "5\n",
      "1\n"
     ]
    }
   ],
   "source": [
    "outer()"
   ]
  },
  {
   "cell_type": "markdown",
   "metadata": {},
   "source": [
    "Here the call of outer() function is basically calling the inner() function and then printing the local variable of <b>outer</b> ie. n = 1. But when inner is being called first then, inner will print the local variable of <b>inner()</b> ie. n = 5. <br> \n",
    "Now lets involve <b>NonLocal</b>"
   ]
  },
  {
   "cell_type": "code",
   "execution_count": 22,
   "metadata": {},
   "outputs": [],
   "source": [
    "def outer():\n",
    "    n = 1\n",
    "    def inner():\n",
    "        nonlocal n \n",
    "        n = 5\n",
    "        print(n)\n",
    "    inner()\n",
    "    print(n)"
   ]
  },
  {
   "cell_type": "code",
   "execution_count": 23,
   "metadata": {},
   "outputs": [
    {
     "name": "stdout",
     "output_type": "stream",
     "text": [
      "5\n",
      "5\n"
     ]
    }
   ],
   "source": [
    "outer()"
   ]
  },
  {
   "cell_type": "markdown",
   "metadata": {},
   "source": [
    "here the mometn we include <b>nonlocal</b> before declaring n=5 , it will change the nonlocal var value of n=1 to n=5 "
   ]
  },
  {
   "cell_type": "markdown",
   "metadata": {},
   "source": [
    "[back to top](#contents)"
   ]
  }
 ],
 "metadata": {
  "interpreter": {
   "hash": "ac67a110c22b5a2dbfbee94e330edc65ab8c73ef4fe4729cecc84c9bf1ab600c"
  },
  "kernelspec": {
   "display_name": "Python 3.9.7 ('base')",
   "language": "python",
   "name": "python3"
  },
  "language_info": {
   "codemirror_mode": {
    "name": "ipython",
    "version": 3
   },
   "file_extension": ".py",
   "mimetype": "text/x-python",
   "name": "python",
   "nbconvert_exporter": "python",
   "pygments_lexer": "ipython3",
   "version": "3.9.7"
  },
  "orig_nbformat": 4
 },
 "nbformat": 4,
 "nbformat_minor": 2
}
