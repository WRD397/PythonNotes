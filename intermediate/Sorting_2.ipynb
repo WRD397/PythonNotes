{
  "cells": [
    {
      "cell_type": "markdown",
      "metadata": {
        "id": "lBZ-wIMgY6p1"
      },
      "source": [
        "## Bubble Sort"
      ]
    },
    {
      "cell_type": "markdown",
      "metadata": {},
      "source": [
        "We take the 0th term and compare it with the next term and swap if neecssary, thus we will bring this 0th term at the right most possible position.Then we will Againn take the 0th element and again compare and swap and bring the 0th term at the right most possible place. Now as the last term already fixed at the first iteation so we go upto the 2nd last position while comparing n swapping. then on the third iteration we will go upto 3rd last position as the last two term is fixed already."
      ]
    },
    {
      "cell_type": "code",
      "execution_count": 3,
      "metadata": {
        "id": "R4KVrlAmUcFF"
      },
      "outputs": [],
      "source": [
        "def bubble(arr, comparator = lambda a,b : a>b):\n",
        "  # at the last iteration if there are only two terms left then after swapping our result would be ready, we dont have to run the iteration for the very last term again, so i value would read upto len-1\n",
        "  i_limit = len(arr)-1\n",
        "  for i in range(i_limit): # i value will not be used, just to enter the loop these many times.\n",
        "    #sort = True\n",
        "    for j in range(i_limit-i): # when first iteration is completed thn the last term is fixed at its position. So the next iteration will be upto (len-1)-i value. \n",
        "      if comparator(arr[j], arr[j+1]): # here arr[j] = a and arr[j+1] = b. So this line basically denotes that if a is bigger than than b thn swap the two.\n",
        "        arr[j], arr[j+1] = arr[j+1], arr[j]\n",
        "        #sort = False\n",
        "    #if sort:\n",
        "      #break\n",
        "  return arr"
      ]
    },
    {
      "cell_type": "code",
      "execution_count": 4,
      "metadata": {},
      "outputs": [
        {
          "data": {
            "text/plain": [
              "[1, 2, 2, 3, 4, 5, 6, 8, 9]"
            ]
          },
          "execution_count": 4,
          "metadata": {},
          "output_type": "execute_result"
        }
      ],
      "source": [
        "A = [6,5,2,3,4,8,9,2,1]\n",
        "bubble(A)"
      ]
    },
    {
      "cell_type": "markdown",
      "metadata": {},
      "source": [
        "<b>WorstCase</b> : the reversed order of the sorted array is basically the worst case in bubble sort. TC is O(n^2)<br>\n",
        "<b>best case</b> : ie. the array is already sorted, TC is still O(n^2) as no matter what the two loops has to run to compare.<br>\n",
        " <b>Stability</b> : Stable. as, if the comparator False thn the swapping wont occur. so same digits iwll be at their own place."
      ]
    },
    {
      "cell_type": "markdown",
      "metadata": {},
      "source": [
        "### Modification with Flag :\n",
        "to improve the best case from O(n^2) to O(n) we implement the sort flag. as after implementation, now if the array is already sorted, then the compaartor will be false for all j values and sort variable wont be assigned to False. Before changing the i value it checks if sort true or false, and then it will see that is true and it will break put of the loop. <br>\n",
        "so, the code runs for n times only. --> O(n)"
      ]
    },
    {
      "cell_type": "markdown",
      "metadata": {
        "id": "AnVMrMU7Y-LL"
      },
      "source": [
        "## Selection Sort"
      ]
    },
    {
      "cell_type": "code",
      "execution_count": null,
      "metadata": {
        "id": "qdNIED6JY9Ne"
      },
      "outputs": [],
      "source": [
        "arr = [5, 1, 2, 4, 3]"
      ]
    },
    {
      "cell_type": "code",
      "execution_count": null,
      "metadata": {
        "id": "3IFbRt_sZCZ7"
      },
      "outputs": [],
      "source": [
        "def sort(arr, comparator = lambda a, b: a > b):\n",
        "  arr = arr.copy()\n",
        "\n",
        "  sorted = True\n",
        "  for i in range(len(arr)-1):\n",
        "    if comparator(arr[i], arr[i+1]):\n",
        "      sorted = False\n",
        "      break\n",
        "  \n",
        "  if sorted:\n",
        "    return arr\n",
        "\n",
        "  for i in range(len(arr)-1): # n-1\n",
        "    min_idx = i\n",
        "\n",
        "    for j in range(i+1, len(arr)):\n",
        "      if comparator(arr[min_idx], arr[j]):\n",
        "        min_idx = j\n",
        "    \n",
        "    if min_idx != i:\n",
        "      arr[i], arr[min_idx] = arr[min_idx], arr[i]\n",
        "\n",
        "  return arr"
      ]
    },
    {
      "cell_type": "code",
      "execution_count": null,
      "metadata": {
        "colab": {
          "base_uri": "https://localhost:8080/"
        },
        "id": "KnOCXckaaubS",
        "outputId": "7dec2541-2c8a-4254-f02e-503967f8ae8a"
      },
      "outputs": [
        {
          "data": {
            "text/plain": [
              "[5, 4, 3, 2, 1]"
            ]
          },
          "execution_count": 7,
          "metadata": {},
          "output_type": "execute_result"
        }
      ],
      "source": [
        "sort(arr, comparator = lambda a, b: a < b)"
      ]
    },
    {
      "cell_type": "code",
      "execution_count": null,
      "metadata": {
        "colab": {
          "base_uri": "https://localhost:8080/"
        },
        "id": "1pNGyMQUl3f3",
        "outputId": "dfab0098-9e91-4f2b-afc2-edcab80a0abe"
      },
      "outputs": [
        {
          "data": {
            "text/plain": [
              "[10, 9, 8, 7, 6, 5, 4, 3, 2, 1]"
            ]
          },
          "execution_count": 8,
          "metadata": {},
          "output_type": "execute_result"
        }
      ],
      "source": [
        "list(range(10, 0, -1))"
      ]
    },
    {
      "cell_type": "markdown",
      "metadata": {},
      "source": [
        "## Insertion Sort"
      ]
    },
    {
      "cell_type": "code",
      "execution_count": 9,
      "metadata": {
        "id": "opTgcXbncnSY"
      },
      "outputs": [],
      "source": [
        "def insertion_sort(arr):\n",
        "  arr = arr.copy()\n",
        "\n",
        "  for i in range(1, len(arr)): # n- 1\n",
        "    index_to_insert = i\n",
        "\n",
        "    for j in range(i-1, -1, -1):\n",
        "      if arr[j] < arr[index_to_insert]:\n",
        "        break\n",
        "      \n",
        "      arr[j], arr[index_to_insert] = arr[index_to_insert], arr[j]\n",
        "      index_to_insert = j\n",
        "\n",
        "  return arr"
      ]
    },
    {
      "cell_type": "code",
      "execution_count": 11,
      "metadata": {
        "colab": {
          "base_uri": "https://localhost:8080/"
        },
        "id": "5wvLOUbQmTs6",
        "outputId": "9df9fd24-9975-46b5-b174-0a11ea4f30f9"
      },
      "outputs": [
        {
          "data": {
            "text/plain": [
              "[1, 2, 3, 4, 5]"
            ]
          },
          "execution_count": 11,
          "metadata": {},
          "output_type": "execute_result"
        }
      ],
      "source": [
        "a = [5, 1, 2, 4, 3]\n",
        "insertion_sort(a)"
      ]
    },
    {
      "cell_type": "code",
      "execution_count": null,
      "metadata": {
        "colab": {
          "base_uri": "https://localhost:8080/"
        },
        "id": "-Imyc1yYmVMo",
        "outputId": "aa8715c6-5cda-4a6d-b743-1d71f8bfafdd"
      },
      "outputs": [
        {
          "data": {
            "text/plain": [
              "[1, 3, 5, 6, 7, 8, 9, 2]"
            ]
          },
          "execution_count": 16,
          "metadata": {},
          "output_type": "execute_result"
        }
      ],
      "source": [
        "arr = [1,4,5,6,7,8,9,2, 3]\n",
        "for i in range(1, len(arr)):\n",
        "  if arr[len(arr)-1] < arr[i]:\n",
        "    break\n",
        "arr = arr[:i] + [arr[len(arr)-1]] + arr[i+1:len(arr)-1]\n",
        "\n",
        "arr"
      ]
    },
    {
      "cell_type": "code",
      "execution_count": null,
      "metadata": {
        "id": "UFJIDpLOqTC1"
      },
      "outputs": [],
      "source": []
    }
  ],
  "metadata": {
    "colab": {
      "collapsed_sections": [],
      "name": "Sorting 2",
      "provenance": []
    },
    "interpreter": {
      "hash": "ac67a110c22b5a2dbfbee94e330edc65ab8c73ef4fe4729cecc84c9bf1ab600c"
    },
    "kernelspec": {
      "display_name": "Python 3.9.7 ('base')",
      "language": "python",
      "name": "python3"
    },
    "language_info": {
      "codemirror_mode": {
        "name": "ipython",
        "version": 3
      },
      "file_extension": ".py",
      "mimetype": "text/x-python",
      "name": "python",
      "nbconvert_exporter": "python",
      "pygments_lexer": "ipython3",
      "version": "3.9.7"
    }
  },
  "nbformat": 4,
  "nbformat_minor": 0
}
