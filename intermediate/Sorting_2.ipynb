{
  "cells": [
    {
      "cell_type": "markdown",
      "metadata": {},
      "source": [
        "[Building 8 bit Computer tutorial](https://www.youtube.com/watch?v=HyznrdDSSGM&list=PLowKtXNTBypGqImE405J2565dvjafglHU)"
      ]
    },
    {
      "cell_type": "markdown",
      "metadata": {
        "id": "lBZ-wIMgY6p1"
      },
      "source": [
        "## Bubble Sort :\n",
        "Each iteration, find the biggest one and bubble up along the array."
      ]
    },
    {
      "cell_type": "markdown",
      "metadata": {},
      "source": [
        "We take the 0th term and compare it with the next term and swap if neecssary, thus we will bring this 0th term at the right most possible position.Then we will Againn take the 0th element and again compare and swap and bring the 0th term at the right most possible place. Now as the last term already fixed at the first iteation so we go upto the 2nd last position while comparing n swapping. then on the third iteration we will go upto 3rd last position as the last two term is fixed already."
      ]
    },
    {
      "cell_type": "code",
      "execution_count": 3,
      "metadata": {
        "id": "R4KVrlAmUcFF"
      },
      "outputs": [],
      "source": [
        "def bubble(arr, comparator = lambda a,b : a>b):\n",
        "  # at the last iteration if there are only two terms left then after swapping our result would be ready, we dont have to run the iteration for the very last term again, so i value would read upto len-1\n",
        "  i_limit = len(arr)-1\n",
        "  for i in range(i_limit): # i value will not be used, just to enter the loop these many times.\n",
        "    #sort = True\n",
        "    for j in range(i_limit-i): # when first iteration is completed thn the last term is fixed at its position. So the next iteration will be upto (len-1)-i value. \n",
        "      if comparator(arr[j], arr[j+1]): # here arr[j] = a and arr[j+1] = b. So this line basically denotes that if a is bigger than than b thn swap the two.\n",
        "        arr[j], arr[j+1] = arr[j+1], arr[j]\n",
        "        #sort = False\n",
        "    #if sort:\n",
        "      #break\n",
        "  return arr"
      ]
    },
    {
      "cell_type": "code",
      "execution_count": 4,
      "metadata": {},
      "outputs": [
        {
          "data": {
            "text/plain": [
              "[1, 2, 2, 3, 4, 5, 6, 8, 9]"
            ]
          },
          "execution_count": 4,
          "metadata": {},
          "output_type": "execute_result"
        }
      ],
      "source": [
        "A = [6,5,2,3,4,8,9,2,1]\n",
        "bubble(A)"
      ]
    },
    {
      "cell_type": "markdown",
      "metadata": {},
      "source": [
        "<b>WorstCase</b> : the reversed order of the sorted array is basically the worst case in bubble sort. TC is O(n^2)<br>\n",
        "<b>best case</b> : ie. the array is already sorted, TC is still O(n^2) as no matter what the two loops has to run to compare.<br>\n",
        " <b>Stability</b> : Stable. as, if the comparator False thn the swapping wont occur. so same digits iwll be at their own place."
      ]
    },
    {
      "cell_type": "markdown",
      "metadata": {},
      "source": [
        "### Modification with Flag :\n",
        "to improve the best case from O(n^2) to O(n) we implement the sort flag. as after implementation, now if the array is already sorted, then the compaartor will be false for all j values and sort variable wont be assigned to False. Before changing the i value it checks if sort true or false, and then it will see that is true and it will break out of the loop. <br>\n",
        "so, the code runs for n times only. --> O(n)"
      ]
    },
    {
      "cell_type": "code",
      "execution_count": 2,
      "metadata": {},
      "outputs": [],
      "source": [
        "def bubble1(arr, comparator = lambda a,b : a>b):\n",
        "  i_limit = len(arr)-1\n",
        "  for i in range(i_limit):\n",
        "    sort = True                ###### it will remain True only when we will not enter into the if condition ie. the array get sorted. So, then it will simply break out of all the for loops, instead of looping again n times for all the i values even afetr knowing that the array is sortd.\n",
        "    for j in range(i_limit-i): # when first iteration is completed thn the last term is fixed at its position. So the next iteration will be upto (len-1)-i value. \n",
        "      if comparator(arr[j], arr[j+1]): # here arr[j] = a and arr[j+1] = b. So this line basically denotes that if a is bigger than than b thn swap the two.\n",
        "        arr[j], arr[j+1] = arr[j+1], arr[j]\n",
        "        sort = False\n",
        "    if sort:\n",
        "      break\n",
        "  return arr"
      ]
    },
    {
      "cell_type": "code",
      "execution_count": 3,
      "metadata": {},
      "outputs": [
        {
          "data": {
            "text/plain": [
              "[1, 2, 2, 3, 4, 5, 6, 8, 9]"
            ]
          },
          "execution_count": 3,
          "metadata": {},
          "output_type": "execute_result"
        }
      ],
      "source": [
        "A = [6,5,2,3,4,8,9,2,1]\n",
        "bubble1(A)"
      ]
    },
    {
      "cell_type": "markdown",
      "metadata": {
        "id": "AnVMrMU7Y-LL"
      },
      "source": [
        "# Selection Sort\n",
        "in one line, from an unsorted array, select the Smallest element and put it in another aray."
      ]
    },
    {
      "cell_type": "code",
      "execution_count": 4,
      "metadata": {},
      "outputs": [],
      "source": [
        "def selection1(arr):\n",
        "    z = []                                 \n",
        "    while len(arr) != 0:\n",
        "        z.append(min(arr))\n",
        "        arr.remove(min(arr))\n",
        "    return z"
      ]
    },
    {
      "cell_type": "code",
      "execution_count": 5,
      "metadata": {},
      "outputs": [
        {
          "data": {
            "text/plain": [
              "[1, 2, 3, 4, 5]"
            ]
          },
          "execution_count": 5,
          "metadata": {},
          "output_type": "execute_result"
        }
      ],
      "source": [
        "A = [5, 1, 2, 4, 3]\n",
        "selection1(A)"
      ]
    },
    {
      "cell_type": "markdown",
      "metadata": {},
      "source": [
        "But, here when we are defining an array, we are basically assigning a memory slot in Heap memory for a whole new array. This is basically usage of ewxtra space which is not good according to the space complexity term."
      ]
    },
    {
      "cell_type": "markdown",
      "metadata": {},
      "source": [
        "Let's try to improve the space complexity"
      ]
    },
    {
      "cell_type": "markdown",
      "metadata": {},
      "source": [
        "Simply taking the very fist element and then comparing with every next element if its smaller, then swap the indices. Then my min idx element becomes the new smaller element. Then again compare with the other element if this smaller is again smaller than other elements or not. Thus we will get the smallest element then we just swap it with the element with which we started."
      ]
    },
    {
      "cell_type": "code",
      "execution_count": 14,
      "metadata": {},
      "outputs": [],
      "source": [
        "def selection2(arr, comparator = lambda a,b : a>b) :\n",
        "    for i in range(len(arr)-1):    #Because for the 2nd last term if u just compare with the last term, the sorting will be completed. You dont need to run an entire lopp for the last term also.\n",
        "        min_idx = i\n",
        "\n",
        "        ## Finding min(rest of the array)0000\n",
        "        for j in range (i+1, len(arr)):\n",
        "            if comparator(arr[min_idx], arr[j]) :\n",
        "                min_idx = j\n",
        "        \n",
        "        ## Now simply swap the newly found smallest element with the element with which we started\n",
        "        if min_idx != i:        # otherwise it will be like a,a = a,a ie. a meaningless swap or an unnecesary swap\n",
        "            arr[i], arr[min_idx] = arr[min_idx], arr[i]\n",
        "            ###########Thus no wxtra space is being fomred.\n",
        "    return arr"
      ]
    },
    {
      "cell_type": "code",
      "execution_count": 15,
      "metadata": {},
      "outputs": [
        {
          "data": {
            "text/plain": [
              "[1, 2, 3, 4, 5]"
            ]
          },
          "execution_count": 15,
          "metadata": {},
          "output_type": "execute_result"
        }
      ],
      "source": [
        "a = [5,1,3,4,2]\n",
        "selection2(a)"
      ]
    },
    {
      "cell_type": "markdown",
      "metadata": {},
      "source": [
        "### Properties:\n",
        "<b>worst Case:</b> The cost function : (n-1)(n-1 + 1) / 2. So, Big O is O(n^2) <br>\n",
        "<b>Best Case:</b> for a completely sorted array, min_idx will be EQUAL with i for every single i value. So, NO SWAPPING. BUT, both loops have to run, no escaping from that. So, for the best case its still <b>O(n**2)</b>. <br>\n",
        "<b>stability : </b> the last filter 'min_idx != i' make the whole thing a stable sort. As, if two elements were equal then also this simple filter would prevent swapping. So, STABLE."
      ]
    },
    {
      "cell_type": "markdown",
      "metadata": {},
      "source": [
        "### Modification (O(n^2) ---> O(n))"
      ]
    },
    {
      "cell_type": "code",
      "execution_count": 17,
      "metadata": {
        "id": "3IFbRt_sZCZ7"
      },
      "outputs": [],
      "source": [
        "def sort(arr, comparator = lambda a, b: a > b):\n",
        "\n",
        "  \"\"\" Checking first if the whole array is already sorted or not. If this is the case, ie. the best case then this secton wll return the array as it is. Improving the Best Case from BigO(n^2) to BigO(n)  \"\"\"\n",
        "  sorted = True\n",
        "  for i in range(len(arr)-1):\n",
        "    if comparator(arr[i], arr[i+1]):\n",
        "      sorted = False\n",
        "  \n",
        "  if sorted:\n",
        "    return arr\n",
        "\n",
        "\n",
        "### now, this section is as it is from the previous code snippet.\n",
        "  for i in range(len(arr)-1): # n-1\n",
        "    min_idx = i\n",
        "\n",
        "    for j in range(i+1, len(arr)):\n",
        "      if comparator(arr[min_idx], arr[j]):\n",
        "        min_idx = j\n",
        "    \n",
        "    if min_idx != i:\n",
        "      arr[i], arr[min_idx] = arr[min_idx], arr[i]\n",
        "\n",
        "  return arr"
      ]
    },
    {
      "cell_type": "code",
      "execution_count": 21,
      "metadata": {
        "colab": {
          "base_uri": "https://localhost:8080/"
        },
        "id": "KnOCXckaaubS",
        "outputId": "7dec2541-2c8a-4254-f02e-503967f8ae8a"
      },
      "outputs": [
        {
          "data": {
            "text/plain": [
              "[5, 4, 3, 2, 1]"
            ]
          },
          "execution_count": 21,
          "metadata": {},
          "output_type": "execute_result"
        }
      ],
      "source": [
        "a = [5,1,3,4,2]\n",
        "sort(a, comparator = lambda a, b: a < b)  ## Thus as our requirement we can modify the function from ascending to decending functipon"
      ]
    },
    {
      "cell_type": "code",
      "execution_count": null,
      "metadata": {
        "colab": {
          "base_uri": "https://localhost:8080/"
        },
        "id": "1pNGyMQUl3f3",
        "outputId": "dfab0098-9e91-4f2b-afc2-edcab80a0abe"
      },
      "outputs": [
        {
          "data": {
            "text/plain": [
              "[10, 9, 8, 7, 6, 5, 4, 3, 2, 1]"
            ]
          },
          "execution_count": 8,
          "metadata": {},
          "output_type": "execute_result"
        }
      ],
      "source": [
        "list(range(10, 0, -1))"
      ]
    },
    {
      "cell_type": "markdown",
      "metadata": {},
      "source": [
        "# Insertion Sort"
      ]
    },
    {
      "cell_type": "markdown",
      "metadata": {},
      "source": [
        "If we have a sorted array already, now we have to enter an extra element into the array, we will use INSERTION SORT."
      ]
    },
    {
      "cell_type": "markdown",
      "metadata": {},
      "source": [
        "Here we use the concept that an array with a single element can be said SORTED. \n",
        "* So, basicallly, keeping the first element aside, we will check if the next element will reside after that or before that and swap it accordingly. Then we have a sorted array of 2 elements. \n",
        "* Now, we will see if the third ele is bigger or smaller than the second ele, and swap it accordingly. Then compare with the first ele and swap it accordingly. Now we have a sorted array of 3 elements. <br>\n",
        "<b>(Here, if the 3rd ele is already bigger than 2nd ele, we are not comparing with the 1st ele anymore, as the aray of 2 ele was already a sorted array, so the first ele will of corse be smaller than the 2nd ele. Thus we can avoid unnecessary comparisons in Insertion sort)</b>\n",
        "* Same goes for the further elements.<br>\n",
        "ie. we are basically making sorted arrays and inserting elements into it."
      ]
    },
    {
      "cell_type": "code",
      "execution_count": null,
      "metadata": {},
      "outputs": [],
      "source": [
        "def insert_sort(arr):\n",
        "    for i in range(1, len(arr):\n",
        "        j = i-1\n",
        "        while j >= 0 ad arr[j]:\n"
      ]
    },
    {
      "cell_type": "code",
      "execution_count": 9,
      "metadata": {
        "id": "opTgcXbncnSY"
      },
      "outputs": [],
      "source": [
        "def insertion_sort(arr):\n",
        "\n",
        "  for i in range(1, len(arr)): # starting form 1, as the 0th elemeent is assumed to be the singleton array which is sorted.\n",
        "    index_to_insert = i\n",
        "\n",
        "    for j in range(i-1, -1, -1):\n",
        "      if arr[j] < arr[index_to_insert]:\n",
        "        break\n",
        "      \n",
        "      arr[j], arr[index_to_insert] = arr[index_to_insert], arr[j]\n",
        "      index_to_insert = j\n",
        "\n",
        "  return arr"
      ]
    },
    {
      "cell_type": "code",
      "execution_count": 11,
      "metadata": {
        "colab": {
          "base_uri": "https://localhost:8080/"
        },
        "id": "5wvLOUbQmTs6",
        "outputId": "9df9fd24-9975-46b5-b174-0a11ea4f30f9"
      },
      "outputs": [
        {
          "data": {
            "text/plain": [
              "[1, 2, 3, 4, 5]"
            ]
          },
          "execution_count": 11,
          "metadata": {},
          "output_type": "execute_result"
        }
      ],
      "source": [
        "a = [5, 1, 2, 4, 3]\n",
        "insertion_sort(a)"
      ]
    },
    {
      "cell_type": "markdown",
      "metadata": {},
      "source": [
        "### Properties :\n",
        "* <b>WORST CASE :</b> Cost function is n(n-1)/2. So, Big O(n^2)\n",
        "* <b>BEST CASE :</b> TC for insertion sort ---> Big O(nk). where k is the distance of an element from its would be position in the sorted array to its current position. So, in insertion sort we can avoid unnecessary comparisons. "
      ]
    },
    {
      "cell_type": "code",
      "execution_count": null,
      "metadata": {
        "colab": {
          "base_uri": "https://localhost:8080/"
        },
        "id": "-Imyc1yYmVMo",
        "outputId": "aa8715c6-5cda-4a6d-b743-1d71f8bfafdd"
      },
      "outputs": [
        {
          "data": {
            "text/plain": [
              "[1, 3, 5, 6, 7, 8, 9, 2]"
            ]
          },
          "execution_count": 16,
          "metadata": {},
          "output_type": "execute_result"
        }
      ],
      "source": [
        "arr = [1,4,5,6,7,8,9,2, 3]\n",
        "for i in range(1, len(arr)):\n",
        "  if arr[len(arr)-1] < arr[i]:\n",
        "    break\n",
        "arr = arr[:i] + [arr[len(arr)-1]] + arr[i+1:len(arr)-1]\n",
        "\n",
        "arr"
      ]
    },
    {
      "cell_type": "markdown",
      "metadata": {},
      "source": [
        "# MERGE SORT"
      ]
    },
    {
      "cell_type": "code",
      "execution_count": 7,
      "metadata": {},
      "outputs": [],
      "source": [
        "def merge(arr):\n",
        "    if len(arr) <= 1 : return arr\n",
        "    n = len(arr)\n",
        "    left = merge(arr[: n//2])\n",
        "    right = merge(arr[n//2 : ])\n",
        "\n",
        "    result = []\n",
        "    i, j =0, 0\n",
        "    while i < len(left) and j < len(right) :\n",
        "        if left[i] < right[j] :\n",
        "            result.append(left[i])\n",
        "            i += 1\n",
        "        else :\n",
        "            result.append(right[j])\n",
        "            j += 1\n",
        "\n",
        "    if i < len(left) : result += left[i:]\n",
        "    elif j < len(right) : result += right[j:]\n",
        "    \n",
        "    return result"
      ]
    },
    {
      "cell_type": "code",
      "execution_count": 8,
      "metadata": {},
      "outputs": [
        {
          "data": {
            "text/plain": [
              "[1, 2, 3, 4, 5, 6, 8, 9]"
            ]
          },
          "execution_count": 8,
          "metadata": {},
          "output_type": "execute_result"
        }
      ],
      "source": [
        "arr = [5,1,2,4,3,6,9,8]\n",
        "merge(arr)"
      ]
    },
    {
      "cell_type": "code",
      "execution_count": 1,
      "metadata": {},
      "outputs": [],
      "source": [
        "def sentinelSearch(ar,target,n):\n",
        "  last = ar[n-1]\n",
        "  ar[n-1] = target\n",
        "  i = 0\n",
        "  while ar[i]!=target:\n",
        "    i+=1\n",
        "  ar[n-1] = last\n",
        "  if (i<n-1) or target==ar[n-1]:\n",
        "    return i\n",
        "  else:\n",
        "    return -1"
      ]
    },
    {
      "cell_type": "code",
      "execution_count": 3,
      "metadata": {},
      "outputs": [
        {
          "name": "stdout",
          "output_type": "stream",
          "text": [
            "110"
          ]
        }
      ],
      "source": [
        "l = [ ]\n",
        "def convert(b):\n",
        "  if(b==0):\n",
        "    return l\n",
        "  digit=b%2\n",
        "  l.append(digit)\n",
        "  convert(b//2)\n",
        "\n",
        "convert(6)\n",
        "l.reverse()\n",
        "for i in l:\n",
        "  print(i,end=\"\")"
      ]
    },
    {
      "cell_type": "code",
      "execution_count": 4,
      "metadata": {},
      "outputs": [
        {
          "name": "stdout",
          "output_type": "stream",
          "text": [
            "-7\n"
          ]
        }
      ],
      "source": [
        "def fun(i,j):\n",
        "  if(i==0):\n",
        "    return j\n",
        "  else:\n",
        "    return fun(j,i-5)\n",
        "\n",
        "print(fun(15,8))"
      ]
    }
  ],
  "metadata": {
    "colab": {
      "collapsed_sections": [],
      "name": "Sorting 2",
      "provenance": []
    },
    "interpreter": {
      "hash": "ac67a110c22b5a2dbfbee94e330edc65ab8c73ef4fe4729cecc84c9bf1ab600c"
    },
    "kernelspec": {
      "display_name": "Python 3.9.7 ('base')",
      "language": "python",
      "name": "python3"
    },
    "language_info": {
      "codemirror_mode": {
        "name": "ipython",
        "version": 3
      },
      "file_extension": ".py",
      "mimetype": "text/x-python",
      "name": "python",
      "nbconvert_exporter": "python",
      "pygments_lexer": "ipython3",
      "version": "3.9.7"
    }
  },
  "nbformat": 4,
  "nbformat_minor": 0
}
