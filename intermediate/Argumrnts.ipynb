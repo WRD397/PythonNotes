{
 "cells": [
  {
   "cell_type": "markdown",
   "metadata": {},
   "source": [
    "#### Contents\n",
    "[*args](#flexible-arguments-bargsb)<br>\n",
    "[**kwargs](#keyword-arguments-bkwargsb)"
   ]
  },
  {
   "cell_type": "markdown",
   "metadata": {},
   "source": [
    "### Dafault Argument"
   ]
  },
  {
   "cell_type": "code",
   "execution_count": 3,
   "metadata": {},
   "outputs": [],
   "source": [
    "def power(number, pow = 2):\n",
    "    new_value = number** pow\n",
    "    print (new_value)"
   ]
  },
  {
   "cell_type": "code",
   "execution_count": 4,
   "metadata": {},
   "outputs": [
    {
     "name": "stdout",
     "output_type": "stream",
     "text": [
      "729\n",
      "81\n"
     ]
    }
   ],
   "source": [
    "power(9,3)\n",
    "power(9)"
   ]
  },
  {
   "cell_type": "markdown",
   "metadata": {},
   "source": [
    "thus, default arg is the arg , by default which will be considered always. But if u mention anything diff thn that will be considered"
   ]
  },
  {
   "cell_type": "markdown",
   "metadata": {},
   "source": [
    "## Flexible Arguments <b>*args()</b>"
   ]
  },
  {
   "cell_type": "markdown",
   "metadata": {},
   "source": [
    "if ur not sure exactly how many arguments a user gonna enter into thje function...use flexible arguments...<br>\n",
    "#### it's IMPORTANT that, <b>kwargs or when we pass a key-value pair, it starts with **</b> but when we pass <b>multiple individual arguments ie. no pairs or something we use args and it starts with *</b>. The stars matter, not teh term args or kwargs. "
   ]
  },
  {
   "cell_type": "code",
   "execution_count": 5,
   "metadata": {},
   "outputs": [],
   "source": [
    "def add_all(*args):\n",
    "    \"\"\" sum of all values of args \"\"\"\n",
    "    sum_all = 0\n",
    "    for num in args: sum_all += num\n",
    "    print (sum_all)"
   ]
  },
  {
   "cell_type": "code",
   "execution_count": 6,
   "metadata": {},
   "outputs": [
    {
     "name": "stdout",
     "output_type": "stream",
     "text": [
      "1\n",
      "4\n",
      "147\n"
     ]
    }
   ],
   "source": [
    "add_all(1)\n",
    "add_all(1,3)\n",
    "add_all(10,52,41,2,32,10)"
   ]
  },
  {
   "cell_type": "markdown",
   "metadata": {},
   "source": [
    "when a user basically pass multiple arguments here, the function store them into a tuple ultimately and the operate the particular operation on the elements..."
   ]
  },
  {
   "cell_type": "markdown",
   "metadata": {},
   "source": [
    "[back to top](#contents)"
   ]
  },
  {
   "cell_type": "markdown",
   "metadata": {},
   "source": [
    "## Keyword Arguments <b>**kwargs()</b>"
   ]
  },
  {
   "cell_type": "markdown",
   "metadata": {},
   "source": [
    "when we wanna use arguments preceded by Identitfiers...then this Identifier-Keyword pair turned into a dictionary bunch of key-value pairs<br>\n",
    "#### it's IMPORTANT that, <b>kwargs or when we pass a key-value pair, it starts with **</b> but when we pass <b>multiple individual arguments ie. no pairs or something we use args and it starts with *</b>. The stars matter, not teh term args or kwargs "
   ]
  },
  {
   "cell_type": "code",
   "execution_count": 13,
   "metadata": {},
   "outputs": [],
   "source": [
    "def print_all(**kwargs):\n",
    "    \"\"\" print all the key-value pairs \"\"\"\n",
    "    for key, value in kwargs.items(): print(key + ': ' + value)"
   ]
  },
  {
   "cell_type": "code",
   "execution_count": 14,
   "metadata": {},
   "outputs": [
    {
     "name": "stdout",
     "output_type": "stream",
     "text": [
      "name: dumbledore\n",
      "job: headmaster\n"
     ]
    }
   ],
   "source": [
    "print_all(name = \"dumbledore\", job = 'headmaster')"
   ]
  },
  {
   "cell_type": "code",
   "execution_count": null,
   "metadata": {},
   "outputs": [],
   "source": []
  }
 ],
 "metadata": {
  "interpreter": {
   "hash": "ac67a110c22b5a2dbfbee94e330edc65ab8c73ef4fe4729cecc84c9bf1ab600c"
  },
  "kernelspec": {
   "display_name": "Python 3.9.7 ('base')",
   "language": "python",
   "name": "python3"
  },
  "language_info": {
   "codemirror_mode": {
    "name": "ipython",
    "version": 3
   },
   "file_extension": ".py",
   "mimetype": "text/x-python",
   "name": "python",
   "nbconvert_exporter": "python",
   "pygments_lexer": "ipython3",
   "version": "3.9.7"
  },
  "orig_nbformat": 4
 },
 "nbformat": 4,
 "nbformat_minor": 2
}
