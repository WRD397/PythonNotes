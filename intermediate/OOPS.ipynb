{
 "cells": [
  {
   "cell_type": "markdown",
   "metadata": {},
   "source": [
    "OOPS ( Object Oriented Programing ) has different concepts...                                                                              \n",
    "OBJECT,  CLASS,  ENCAPSULATION,  ABSTRACTION,  POLYMORPHISM"
   ]
  },
  {
   "cell_type": "markdown",
   "metadata": {},
   "source": [
    "#### CLASS "
   ]
  },
  {
   "cell_type": "markdown",
   "metadata": {},
   "source": [
    "..Class is basically a blueprint or a design, which can produce lots of Objects...So Class provides the design and Objects are the Instances...                                                           \n",
    "..in more detailed...u dont wanna specify attributes for every single objects again and again...so u declare them once in a Class...and then it will assign those attributes to every objects of that class. So A class is more like a template.              \n",
    "..more over if u wanna specify extra attribute to specific objects then u can do that also later."
   ]
  },
  {
   "cell_type": "markdown",
   "metadata": {},
   "source": [
    "#### OBJECT"
   ]
  },
  {
   "cell_type": "markdown",
   "metadata": {},
   "source": [
    "each object has Atribute and Behaviour."
   ]
  },
  {
   "cell_type": "markdown",
   "metadata": {},
   "source": [
    "ATRIBUTE : the property...eg: if we think ourselves as objects, then our heights, voice, skin colors are atributes... \n",
    "BEHAVIOUR : what an object do is basically the Behaviour...to define behaviour we use methods.        \n",
    "VARIABLES : If we wnana store something in an objects we need variables.                              \n",
    "METHODS : Basically, Functions in OOPS are named Methods here..."
   ]
  },
  {
   "cell_type": "code",
   "execution_count": 1,
   "metadata": {},
   "outputs": [],
   "source": [
    "class Computer :    ###let's the name of the class we wanna create is Computer\n",
    "\n",
    "    def __init__(self):    ###__init__ is a Special Method just like __name__ is a Special Variable\n",
    "        print (\"in init \")          ### this __inti__ section is called the Constructor\n",
    "\n",
    "\n",
    "    def config(self):             ### its the Method part of the Class\n",
    "        print(\"i5, 16GB ,1TB\")     ###the Atribute of the object"
   ]
  },
  {
   "cell_type": "code",
   "execution_count": 2,
   "metadata": {},
   "outputs": [
    {
     "data": {
      "text/plain": [
       "__main__.Computer"
      ]
     },
     "execution_count": 2,
     "metadata": {},
     "output_type": "execute_result"
    }
   ],
   "source": [
    "com1=Computer()       ###it means that com1 is an object of Computer\n",
    "type(com1)              ###it shows that indeed com1 is an Object of the  Class Computer.\n",
    "com2 = Computer()"
   ]
  },
  {
   "cell_type": "code",
   "execution_count": 5,
   "metadata": {},
   "outputs": [
    {
     "name": "stdout",
     "output_type": "stream",
     "text": [
      "i5, 16GB ,1TB\n"
     ]
    }
   ],
   "source": [
    "Computer.config(com1)    ##config is a method or function of the class Computer and com1 is an object of the class. The object always passes through the self position of the method."
   ]
  },
  {
   "cell_type": "code",
   "execution_count": 6,
   "metadata": {},
   "outputs": [
    {
     "name": "stdout",
     "output_type": "stream",
     "text": [
      "i5, 16GB ,1TB\n"
     ]
    }
   ],
   "source": [
    "com1.config() ###this syntax also works...basically behind the scene, config actually takes the com1 object as it's self argument"
   ]
  },
  {
   "cell_type": "markdown",
   "metadata": {},
   "source": [
    "Another CLASS example..."
   ]
  },
  {
   "cell_type": "code",
   "execution_count": 11,
   "metadata": {},
   "outputs": [
    {
     "name": "stdout",
     "output_type": "stream",
     "text": [
      "in init \n",
      "in init \n"
     ]
    }
   ],
   "source": [
    "class Computer :    ###let's the name of the class we wanna create is Computer\n",
    "\n",
    "    def __init__(self,cpu,ram):    ###here as we are mentioning two variables inside the object com1 and com2 so we need to pass these two values inside __init__\n",
    "        print (\"in init \")      ###if we wanna work with config then we gotta call config. But the idea of __init__ is that it is called AUTOMATICALLY.\n",
    "        self.cpu = cpu            ### this __inti__ section is called the Constructor\n",
    "        self.ram = ram     ##This basically means we make the __init__ method to ACCEPT the variables cpu and ram.              \n",
    "\n",
    "\n",
    "    def config(self):                             \n",
    "        print(\"config is\", self.cpu, self.ram)   ##we have to mention self.cpu and self.ram as, cpu and ram are not some local variables...they belomgs to different objects..so we need to mention self.\n",
    "\n",
    "\n",
    "\"\"\"\n",
    "here we are passing actually 3 arguments, the first oen is the Object itself then 'cpu' and then 'ram' as when we call com1.Computer() then that actually means Computer.config(com1,'i5',8)\n",
    "\"\"\"\n",
    "com1 = Computer('i5',8)     \n",
    "com2 = Computer('Ryzen 5',16)"
   ]
  },
  {
   "cell_type": "markdown",
   "metadata": {},
   "source": [
    "...thus basically, we dont need to call the __init__ method, it will automatically be called...and as here, two object is present com1 and com2, so __init__ was called twice"
   ]
  },
  {
   "cell_type": "markdown",
   "metadata": {},
   "source": [
    "So each object has its own variables ie. its own cpu and its own ram values..then we basically assign the values to the object itself by mentioning self.cpu=cpu and self.ram=ram. IF we didnt mention them then 'cpu' and 'ram' would be just two arguments"
   ]
  },
  {
   "cell_type": "code",
   "execution_count": 12,
   "metadata": {},
   "outputs": [
    {
     "name": "stdout",
     "output_type": "stream",
     "text": [
      "config is i5 8\n",
      "config is Ryzen 5 16\n"
     ]
    }
   ],
   "source": [
    "com1.config()\n",
    "com2.config()"
   ]
  },
  {
   "cell_type": "markdown",
   "metadata": {},
   "source": [
    "## Concept of SELF and CONSTRUCTOR"
   ]
  },
  {
   "cell_type": "markdown",
   "metadata": {},
   "source": [
    "#### Address of an Obejct ::"
   ]
  },
  {
   "cell_type": "markdown",
   "metadata": {},
   "source": [
    "HEAP MEMORY :: All the objects are stored in the HEAP MEMORY of the machine. Each object has its own different addresses."
   ]
  },
  {
   "cell_type": "code",
   "execution_count": 19,
   "metadata": {},
   "outputs": [],
   "source": [
    "class computer : \n",
    "    pass      ####it's just the fact that a Class can NEVER BE EMPTY. So we gotta mention 'pass' argument to make the machine understand that u dont need to look for anything inside the CLass and just pass on..\n",
    "c1 = computer()\n",
    "c2 = computer() "
   ]
  },
  {
   "cell_type": "code",
   "execution_count": 20,
   "metadata": {},
   "outputs": [
    {
     "name": "stdout",
     "output_type": "stream",
     "text": [
      "2956588103232\n",
      "2956569564048\n"
     ]
    }
   ],
   "source": [
    "print( id(c1) )\n",
    "print( id(c2) )"
   ]
  },
  {
   "cell_type": "markdown",
   "metadata": {},
   "source": [
    "EACH TIME U RUN THE CLASS CELL, IT WILL CREATE THE OBJECTS C1 AND C2 IN DIFFERENT ADDRESSES !!"
   ]
  },
  {
   "cell_type": "markdown",
   "metadata": {},
   "source": [
    "#### SIZE of the Objects ::"
   ]
  },
  {
   "cell_type": "markdown",
   "metadata": {},
   "source": [
    ".. size of the objects will depend upon the size of the vriables and on the number of variables.             \n",
    ".. we need something called CONSTRUCTOR to assign that memory space or to calculate to decide how much size would that object have."
   ]
  },
  {
   "cell_type": "markdown",
   "metadata": {},
   "source": [
    "### Another Example"
   ]
  },
  {
   "cell_type": "markdown",
   "metadata": {},
   "source": [
    "Suppose we have employees and we wanna make a class named Employee and then we assign different employees as the different ojects of that class."
   ]
  },
  {
   "cell_type": "code",
   "execution_count": 1,
   "metadata": {},
   "outputs": [],
   "source": [
    "class Employee:\n",
    "    pass\n",
    "E1 = Employee()\n",
    "E2 = Employee()\n",
    "\n",
    "E1.fname = 'Harry'\n",
    "E1.lname = 'jackson'\n",
    "E1.salary = 44000\n",
    "\n",
    "E2.fname = 'Rohan'\n",
    "E2.lname = 'Das'\n",
    "E2.salary = 44000\n"
   ]
  },
  {
   "cell_type": "code",
   "execution_count": 2,
   "metadata": {},
   "outputs": [
    {
     "name": "stdout",
     "output_type": "stream",
     "text": [
      "Harry\n"
     ]
    }
   ],
   "source": [
    "print(E1.fname)"
   ]
  },
  {
   "cell_type": "markdown",
   "metadata": {},
   "source": [
    "but here we needed to declare the info about each employee agan and again. Now we use the real power of the Class concept below.\n"
   ]
  },
  {
   "cell_type": "code",
   "execution_count": 3,
   "metadata": {},
   "outputs": [],
   "source": [
    "class Employee:\n",
    "    def __init__(self,fname,lname,salary):  \n",
    "        self.fname = fname              ####fname, lname, salary were different local variables before, so we assign them to the object ie we made them as attributes of the object.\n",
    "        self.lname = lname\n",
    "        self.salary = salary\n",
    "\n",
    "E1 = Employee('harry','jackson',44000)\n",
    "E2 = Employee('Rohan','Das',44000)"
   ]
  },
  {
   "cell_type": "code",
   "execution_count": 5,
   "metadata": {},
   "outputs": [
    {
     "name": "stdout",
     "output_type": "stream",
     "text": [
      "harry\n"
     ]
    }
   ],
   "source": [
    "print(E1.fname)"
   ]
  },
  {
   "cell_type": "markdown",
   "metadata": {},
   "source": [
    "thus we didnt need to specify the different attributes of different employyees "
   ]
  },
  {
   "cell_type": "markdown",
   "metadata": {},
   "source": [
    "## age comparison"
   ]
  },
  {
   "cell_type": "code",
   "execution_count": 23,
   "metadata": {},
   "outputs": [
    {
     "name": "stdout",
     "output_type": "stream",
     "text": [
      "Navin\n",
      "Navin\n"
     ]
    }
   ],
   "source": [
    "class Comp :\n",
    "    def __init__(self):              \n",
    "        self.name = \"Navin\"\n",
    "        self.age = 28\n",
    "\n",
    "c1 = Comp()\n",
    "c2 = Comp()\n",
    "\n",
    "print (c1.name)\n",
    "print (c2.name)"
   ]
  },
  {
   "cell_type": "markdown",
   "metadata": {},
   "source": [
    "...its showing same name of course as there is only once the name is mentioned inside __init__ "
   ]
  },
  {
   "cell_type": "markdown",
   "metadata": {},
   "source": [
    "### update.()"
   ]
  },
  {
   "cell_type": "code",
   "execution_count": 25,
   "metadata": {},
   "outputs": [
    {
     "data": {
      "text/plain": [
       "'same'"
      ]
     },
     "execution_count": 25,
     "metadata": {},
     "output_type": "execute_result"
    }
   ],
   "source": [
    "class Person:\n",
    "    def __init__(self):\n",
    "        self.name = \"Navin\"\n",
    "        self.age = 28\n",
    "\n",
    "    def update(self):  ###the function of this method will be explained in the next cell\n",
    "        self.age = 30\n",
    "\n",
    "    def compare(self,other):\n",
    "        if self.age == other.age :\n",
    "            return \"same\"\n",
    "        else :\n",
    "            return \"different\"\n",
    "\n",
    "c1 = Person()\n",
    "c2 = Person()\n",
    "\n",
    "c1.compare(c2)"
   ]
  },
  {
   "cell_type": "markdown",
   "metadata": {},
   "source": [
    "...result is as expected as age is mentioned only in __init__ . Not specified whose age is what..."
   ]
  },
  {
   "cell_type": "code",
   "execution_count": 26,
   "metadata": {},
   "outputs": [
    {
     "data": {
      "text/plain": [
       "'different'"
      ]
     },
     "execution_count": 26,
     "metadata": {},
     "output_type": "execute_result"
    }
   ],
   "source": [
    "##now let's update the age...\n",
    "\n",
    "class Person:\n",
    "    def __init__(self):\n",
    "        self.name = \"Navin\"\n",
    "        self.age = 28\n",
    "\n",
    "    def update(self):\n",
    "        self.age = 30\n",
    "\n",
    "    def compare(self,other):\n",
    "        if self.age == other.age :\n",
    "            return \"same\"\n",
    "        else :\n",
    "            return \"different\"\n",
    "\n",
    "c1 = Person()\n",
    "c2 = Person()\n",
    "\n",
    "c1.update()\n",
    "c1.compare(c2)"
   ]
  },
  {
   "cell_type": "markdown",
   "metadata": {},
   "source": [
    "Thus c1.update line will update the age number in __init__ for self...ie object c1 is the self here ( simply because c1 is calling the update() function(C1.update)... )"
   ]
  },
  {
   "cell_type": "markdown",
   "metadata": {},
   "source": []
  },
  {
   "cell_type": "markdown",
   "metadata": {},
   "source": [
    "# question"
   ]
  },
  {
   "cell_type": "code",
   "execution_count": 1,
   "metadata": {},
   "outputs": [
    {
     "name": "stdout",
     "output_type": "stream",
     "text": [
      "Roll: 34 Marks: A None Age: 17\n"
     ]
    }
   ],
   "source": [
    "class Student:\n",
    "    def __init__(self,roll,marks):\n",
    "        self.roll = roll\n",
    "        self.marks=marks\n",
    "    def display(self):\n",
    "        print('Roll:', self.roll,'Marks:',self.marks, end=\" \")\n",
    "\n",
    "student1= Student(34,'A')\n",
    "student1.age=17\n",
    "print(student1.display(), 'Age:',student1.age)"
   ]
  },
  {
   "cell_type": "markdown",
   "metadata": {},
   "source": [
    "none is coming because display method already printed the stuffs\n"
   ]
  },
  {
   "cell_type": "markdown",
   "metadata": {},
   "source": [
    "# Question2"
   ]
  },
  {
   "cell_type": "code",
   "execution_count": 2,
   "metadata": {},
   "outputs": [],
   "source": [
    "class Student():\n",
    "    \n",
    "    def __init__(self, marks1,marks2,credits1, credits2):\n",
    "        #YOUR CODE GOES HERE\n",
    "        self.marks1 = marks1\n",
    "        self.marks2 = marks2\n",
    "        self.credits1 = credits1\n",
    "        self.credits2 = credits2\n",
    "    \n",
    "    def grade_point_average(self):\n",
    "        self.points_list = []\n",
    "        self.marks_list = [self.marks1,self.marks2]\n",
    "        for self.item in self.marks_list:\n",
    "            if self.item >= 90: self.points_list.append(10)\n",
    "            elif 90 > self.item >= 75: self.points_list.append(9)\n",
    "            elif 75 > self.item >= 60: self.points_list.append(8)\n",
    "            elif 60 > self.item >= 45: self.points_list.append(7)\n",
    "            elif 45 > self.item >= 0: self.points_list.append(0)\n",
    "        \n",
    "        \n",
    "        self.points1 , self.points2 = tuple(self.points_list)\n",
    "        #self.gpa = print(self.points_list)\n",
    "        #self.gpa1 = print(self.marks_list)\n",
    "        #YOUR CODE GOES HERE\n",
    "    \n",
    "        return self.points1, self.points2"
   ]
  },
  {
   "cell_type": "code",
   "execution_count": 3,
   "metadata": {},
   "outputs": [
    {
     "data": {
      "text/plain": [
       "(9, 9)"
      ]
     },
     "execution_count": 3,
     "metadata": {},
     "output_type": "execute_result"
    }
   ],
   "source": [
    "Amal = Student(85,76,3,4)\n",
    "Amal.grade_point_average()"
   ]
  }
 ],
 "metadata": {
  "interpreter": {
   "hash": "ac67a110c22b5a2dbfbee94e330edc65ab8c73ef4fe4729cecc84c9bf1ab600c"
  },
  "kernelspec": {
   "display_name": "Python 3.9.7 ('base')",
   "language": "python",
   "name": "python3"
  },
  "language_info": {
   "codemirror_mode": {
    "name": "ipython",
    "version": 3
   },
   "file_extension": ".py",
   "mimetype": "text/x-python",
   "name": "python",
   "nbconvert_exporter": "python",
   "pygments_lexer": "ipython3",
   "version": "3.9.7"
  },
  "orig_nbformat": 4
 },
 "nbformat": 4,
 "nbformat_minor": 2
}
