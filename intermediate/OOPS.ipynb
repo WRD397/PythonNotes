{
 "cells": [
  {
   "cell_type": "markdown",
   "metadata": {},
   "source": [
    "## Contents\n",
    "[1. Class](#class)<br>\n",
    "[2. Instances](#instances)<br>\n",
    "[3. Class, Instance creation](#creating-a-class-and-its-instances)<br>\n",
    "[3.1   Address of an Object](#address-of-an-obejct) <br>\n",
    "[4. Variables](#class-variables-and-instance-variables)<br>\n",
    "[5. Changing Variables](#chaning-the-variables)<br>\n",
    "[6. Methods](#methods)<br>\n",
    "[7. Constructor __init__](#constructor) <br>\n",
    "[8. Class Methods](#class-method) <br>\n",
    "[9. Class Method as Constructor](#class-method-as-a-constructor) <br>\n",
    "[10.Static Method](#static-method)<br>"
   ]
  },
  {
   "cell_type": "markdown",
   "metadata": {},
   "source": [
    "OOPS ( Object Oriented Programing ) is just a procedure of writing code. nothing new. Just like FP(FUNCTIONAL PROGRAMING), OOP is just a convention to write a program. All the codes bedlow can also be written in Functional Programming form.<br> \n",
    "It has two main concepts...<br>\n",
    "<b>CLASS</B> AND <B>OBJECT (METHODS, INSTANCES)</B>. <BR>\n",
    "Now <b>\"EVERY SINGLE THING IN PYTHON IS AN OBJECT. Be it, a variable, a function, a class, a constructor every single thing is called an Object.</B>They just have different <b>attributes</b> or properties."
   ]
  },
  {
   "cell_type": "markdown",
   "metadata": {},
   "source": [
    "#### CLASS \n",
    "..Class is basically a blueprint or a design, which can produce lots of Objects...So <b>Class</b> provides the design and <b>Instances</B> are created based on that design.                                                          \n",
    "..in more detailed...u dont wanna specify attributes for every single <b>Instances</b> again and again...so u declare them once in a Class...and then it will assign those attributes to every objects(be it, functions or <b>Methods</b>, Instances etc..) of that class. So A class is more like a template.              \n",
    "..more over if u wanna specify extra attribute to specific objects then u can do that also later."
   ]
  },
  {
   "cell_type": "markdown",
   "metadata": {},
   "source": [
    "#### INSTANCES\n",
    "They are the objects that are built on the basis of the design of the Class. It's like, if 'CAR' is a class, then 'Alto', 'Wagonr', 'Hyundai' all can be called different INSTANCES. They may be different on the basis of their own individual attributes, still they carry some common attributes, on the basis of which they are grouped under a Same Class 'CAR'."
   ]
  },
  {
   "cell_type": "markdown",
   "metadata": {},
   "source": [
    "ATRIBUTE : the property...eg: if we think ourselves as objects, then our heights, voice, skin colors are atributes... \n",
    "BEHAVIOUR : what an object do is basically the Behaviour...to define behaviour we use methods.        \n",
    "VARIABLES : If we wnana store something in an objects we need variables.                              \n",
    "METHODS : Basically, Functions in OOPS are named Methods here..."
   ]
  },
  {
   "cell_type": "markdown",
   "metadata": {},
   "source": [
    "## Creating a Class and it's Instances"
   ]
  },
  {
   "cell_type": "code",
   "execution_count": 3,
   "metadata": {},
   "outputs": [],
   "source": [
    "\"\"\"\n",
    "Suppose we run a company and we wanna specify some common attributes for all the employee of the company. So we can define a class Employee under which different Instances will be all the the Staffs, Programmers, Recruiters and all. So we create Instances as 'harry = Employee()', ie. the person harry is an Instance of the class Employee.\n",
    "\"\"\"\n",
    "\n",
    "class Employee:         \n",
    "    pass              ## Here we haven't specify any attributes for all the Instances yet, So to simply keep the inside of a class empty, we wrote pass.\n",
    "\n",
    "harry = Employee()      \n",
    "rohan = Employee()"
   ]
  },
  {
   "cell_type": "code",
   "execution_count": 7,
   "metadata": {},
   "outputs": [
    {
     "name": "stdout",
     "output_type": "stream",
     "text": [
      "<class 'type'>\n",
      "<class '__main__.Employee'>\n"
     ]
    }
   ],
   "source": [
    "#thus now if we check the type of the different objects created just now, we will see...\n",
    "print(type(Employee))\n",
    "print(type(harry))"
   ]
  },
  {
   "cell_type": "markdown",
   "metadata": {},
   "source": [
    "thus we can see Employee is a Class object and 'harry' is an instance of Employee class. --main-- means simply the main module where all the execution is being done by the Python interpreter."
   ]
  },
  {
   "cell_type": "markdown",
   "metadata": {},
   "source": [
    "[back to top](#contents)"
   ]
  },
  {
   "cell_type": "markdown",
   "metadata": {},
   "source": [
    "## Address of an Obejct"
   ]
  },
  {
   "cell_type": "markdown",
   "metadata": {},
   "source": [
    "Here basically the elements of the list string.split() automaticaly being assigned to fname, lname and all. * here helps to make the argument a flexible argument like *args, ie. we can pass any number of variables to the argumets <br>\n",
    "<b><big>HEAP MEMORY ::</big></b> All the objects are stored in the HEAP MEMORY of the machine. Each object has its own different addresses."
   ]
  },
  {
   "cell_type": "code",
   "execution_count": 44,
   "metadata": {},
   "outputs": [
    {
     "name": "stdout",
     "output_type": "stream",
     "text": [
      "3135016126208\n",
      "3135016125872\n"
     ]
    }
   ],
   "source": [
    "print(id(harry))\n",
    "print(id(rohan))"
   ]
  },
  {
   "cell_type": "markdown",
   "metadata": {},
   "source": []
  },
  {
   "cell_type": "markdown",
   "metadata": {},
   "source": [
    "## Class Variables and Instance Variables."
   ]
  },
  {
   "cell_type": "code",
   "execution_count": 9,
   "metadata": {},
   "outputs": [],
   "source": [
    "class Employee:         \n",
    "    no_of_employee = 500\n",
    "    bonus = 8\n",
    "    no_of_leaves = 80\n",
    "\n",
    "\n",
    "harry = Employee()      \n",
    "rohan = Employee()\n",
    "\n",
    "harry.fname = \"Harry\"\n",
    "harry.lname = \"Jackson\"\n",
    "harry.salary = 45000\n",
    "harry.role = \"Instructor\"\n",
    "\n",
    "rohan.fname = \"Rohan\"\n",
    "rohan.lname = \"Das\"\n",
    "rohan.salary = 50000\n",
    "rohan.role = \"Intern\""
   ]
  },
  {
   "cell_type": "code",
   "execution_count": 11,
   "metadata": {},
   "outputs": [
    {
     "name": "stdout",
     "output_type": "stream",
     "text": [
      "Harry Jackson\n",
      "Intern\n"
     ]
    }
   ],
   "source": [
    "#Now if we wanna print the name of the employee harry...\n",
    "print(harry.fname, harry.lname)\n",
    "##if we wanna print the role of rohan\n",
    "print(rohan.role)"
   ]
  },
  {
   "cell_type": "markdown",
   "metadata": {},
   "source": [
    "Thus fname, lname, roles etc are the different Attributes of the instances. They personal proeprties of the instances.<br>\n",
    "Now lets try to see, what are the common properties, shared among all the Instances."
   ]
  },
  {
   "cell_type": "code",
   "execution_count": 12,
   "metadata": {},
   "outputs": [
    {
     "name": "stdout",
     "output_type": "stream",
     "text": [
      "80\n",
      "80\n"
     ]
    }
   ],
   "source": [
    "print(harry.no_of_leaves)\n",
    "print(rohan.no_of_leaves)"
   ]
  },
  {
   "cell_type": "markdown",
   "metadata": {},
   "source": [
    "so, the variables mentioned directly under the class sections...are the general properties , ie. which are same for all the instances. <br>\n",
    "But if we wanna go vice versa ie try to print Employee.fname, lets see what happen"
   ]
  },
  {
   "cell_type": "code",
   "execution_count": 13,
   "metadata": {},
   "outputs": [
    {
     "ename": "AttributeError",
     "evalue": "type object 'Employee' has no attribute 'fname'",
     "output_type": "error",
     "traceback": [
      "\u001b[1;31m---------------------------------------------------------------------------\u001b[0m",
      "\u001b[1;31mAttributeError\u001b[0m                            Traceback (most recent call last)",
      "\u001b[1;32m~\\AppData\\Local\\Temp/ipykernel_13180/1021297779.py\u001b[0m in \u001b[0;36m<module>\u001b[1;34m\u001b[0m\n\u001b[1;32m----> 1\u001b[1;33m \u001b[0mprint\u001b[0m\u001b[1;33m(\u001b[0m\u001b[0mEmployee\u001b[0m\u001b[1;33m.\u001b[0m\u001b[0mfname\u001b[0m\u001b[1;33m)\u001b[0m\u001b[1;33m\u001b[0m\u001b[1;33m\u001b[0m\u001b[0m\n\u001b[0m",
      "\u001b[1;31mAttributeError\u001b[0m: type object 'Employee' has no attribute 'fname'"
     ]
    }
   ],
   "source": [
    "print(Employee.fname)"
   ]
  },
  {
   "cell_type": "markdown",
   "metadata": {},
   "source": [
    "Thus, fname, lname these are <B>INSTANCE VARIABLES</B> and no_of_employee, bonus...these are <b>CLASS VARIABLES</B>. So, the Class Variables can be accessed by the Instances as well as Class...ie. harry.bonus, rohan.bonus and Employee.bonus will result the same. BUT Instance Variables can ONLY be accessed by the Instances, NOT by the Class."
   ]
  },
  {
   "cell_type": "markdown",
   "metadata": {},
   "source": [
    "[back to top](#contents)"
   ]
  },
  {
   "cell_type": "markdown",
   "metadata": {},
   "source": [
    "## Chaning the Variables"
   ]
  },
  {
   "cell_type": "markdown",
   "metadata": {},
   "source": [
    "if we wanna change a variable by accessing through Class, then it wil be changed for ALLL the instances. BUT, if we do the change by accessing throgh a particular Instance, thn it will be changed for that PARTICULAR Instance, not for other instances or for the class."
   ]
  },
  {
   "cell_type": "code",
   "execution_count": 15,
   "metadata": {},
   "outputs": [
    {
     "name": "stdout",
     "output_type": "stream",
     "text": [
      "Employee bonus :  8\n",
      "rohan bonus :  8\n",
      "Harry bonus :  12\n"
     ]
    }
   ],
   "source": [
    "harry.bonus = 12\n",
    "print('Employee bonus : ',Employee.bonus)\n",
    "print('rohan bonus : ',rohan.bonus)\n",
    "print('Harry bonus : ',harry.bonus)\n"
   ]
  },
  {
   "cell_type": "code",
   "execution_count": 16,
   "metadata": {},
   "outputs": [
    {
     "name": "stdout",
     "output_type": "stream",
     "text": [
      "Employee bonus :  15\n",
      "rohan bonus :  15\n",
      "Harry bonus :  12\n"
     ]
    }
   ],
   "source": [
    "Employee.bonus = 15\n",
    "print('Employee bonus : ',Employee.bonus)\n",
    "print('rohan bonus : ',rohan.bonus)\n",
    "print('Harry bonus : ',harry.bonus)"
   ]
  },
  {
   "cell_type": "markdown",
   "metadata": {},
   "source": [
    "##### Changing the class variable through an Instance, is actually Creating a NEW Instance Variable for that particular Instance.\n",
    "<b>As we assigned harry.bonus individually, so it will remain as that, ie. the class variable changing wont affect this. </B> We didnt hamper the bonus variable for rohan, so simply class variable modification also affected the rohan's variables."
   ]
  },
  {
   "cell_type": "markdown",
   "metadata": {},
   "source": [
    "##### __ dict __"
   ]
  },
  {
   "cell_type": "code",
   "execution_count": 18,
   "metadata": {},
   "outputs": [
    {
     "name": "stdout",
     "output_type": "stream",
     "text": [
      "{'fname': 'Rohan', 'lname': 'Das', 'salary': 50000, 'role': 'Intern'}\n",
      "{'fname': 'Harry', 'lname': 'Jackson', 'salary': 45000, 'role': 'Instructor', 'bonus': 12}\n",
      "{'__module__': '__main__', 'no_of_employee': 500, 'bonus': 15, 'no_of_leaves': 80, '__dict__': <attribute '__dict__' of 'Employee' objects>, '__weakref__': <attribute '__weakref__' of 'Employee' objects>, '__doc__': None}\n"
     ]
    }
   ],
   "source": [
    "print(rohan.__dict__)\n",
    "print(harry.__dict__)\n",
    "print(Employee.__dict__)"
   ]
  },
  {
   "cell_type": "markdown",
   "metadata": {},
   "source": [
    "It shows all the variables in the dictionary of rohan and harry and the class Employee. You can see, may be harry, rohan are the Instances of the Employee class, their variables still ARE NOT the variables of the class, they are only of the instances."
   ]
  },
  {
   "cell_type": "markdown",
   "metadata": {},
   "source": [
    "[back to top](#contents)"
   ]
  },
  {
   "cell_type": "markdown",
   "metadata": {},
   "source": [
    "## METHODS"
   ]
  },
  {
   "cell_type": "markdown",
   "metadata": {},
   "source": [
    "let's define a method or function print_details"
   ]
  },
  {
   "cell_type": "code",
   "execution_count": 21,
   "metadata": {},
   "outputs": [],
   "source": [
    "class Employee:         \n",
    "    no_of_employee = 500\n",
    "    bonus = 8\n",
    "    no_of_leaves = 80\n",
    "\n",
    "    def print_details(self):\n",
    "        return f\"Name is {self.fname} {self.lname}. Salary is {self.salary}. Role is {self.role}\"\n",
    "\n",
    "\n",
    "harry = Employee()      \n",
    "rohan = Employee()\n",
    "\n",
    "harry.fname = \"Harry\"\n",
    "harry.lname = \"Jackson\"\n",
    "harry.salary = 45000\n",
    "harry.role = \"Instructor\"\n",
    "\n",
    "rohan.fname = \"Rohan\"\n",
    "rohan.lname = \"Das\"\n",
    "rohan.salary = 50000\n",
    "rohan.role = \"Intern\""
   ]
  },
  {
   "cell_type": "code",
   "execution_count": 24,
   "metadata": {},
   "outputs": [
    {
     "name": "stdout",
     "output_type": "stream",
     "text": [
      "Name is Harry Jackson. Salary is 45000. Role is Instructor\n",
      "Name is Rohan Das. Salary is 50000. Role is Intern\n"
     ]
    }
   ],
   "source": [
    "print(harry.print_details())\n",
    "print(rohan.print_details())"
   ]
  },
  {
   "cell_type": "markdown",
   "metadata": {},
   "source": [
    "<b><big>self</big> : </b><br>\n",
    "The argument self is just taking the instance names through which we are calling the method peint_details. When, we are calling through 'harry', self becomes 'harry', and same for rohan..."
   ]
  },
  {
   "cell_type": "markdown",
   "metadata": {},
   "source": [
    "## How to call a Method"
   ]
  },
  {
   "cell_type": "markdown",
   "metadata": {},
   "source": [
    "Now, let's see how exactly self is working."
   ]
  },
  {
   "cell_type": "code",
   "execution_count": 26,
   "metadata": {},
   "outputs": [
    {
     "name": "stdout",
     "output_type": "stream",
     "text": [
      "Name is Rohan Das. Salary is 50000. Role is Intern\n",
      "Name is Rohan Das. Salary is 50000. Role is Intern\n"
     ]
    }
   ],
   "source": [
    "print(Employee.print_details(rohan))\n",
    "print(rohan.print_details())"
   ]
  },
  {
   "cell_type": "markdown",
   "metadata": {},
   "source": [
    "Thus, when we say, rohan.print_details(), python basically passing the word 'rohan' inside the bracket as an argument by default. Thus self is becoming 'rohan'. The upper format shows clearly that rohan is basically inside the brackets as an argument. It's just stay hidden when we write in the second format."
   ]
  },
  {
   "cell_type": "markdown",
   "metadata": {},
   "source": [
    "[back to top](#contents)"
   ]
  },
  {
   "cell_type": "markdown",
   "metadata": {},
   "source": [
    "## CONSTRUCTOR "
   ]
  },
  {
   "cell_type": "markdown",
   "metadata": {},
   "source": [
    "Consider one thing that, when we are declaring the instance variables individually then we are reusing our codes or we are violating a principle called DRY (Donot Repeat Yourself !). So we will try to implement a thing called Constructor which will <b>Initialize</b> all the common variables needed for all the instances."
   ]
  },
  {
   "cell_type": "code",
   "execution_count": 27,
   "metadata": {},
   "outputs": [],
   "source": [
    "class Employee:         \n",
    "    no_of_employee = 500\n",
    "    bonus = 8\n",
    "    no_of_leaves = 80\n",
    "\n",
    "    def __init__(self, First_name, Last_name, Salary, Role):\n",
    "        self.fname = First_name\n",
    "        self.lname = Last_name\n",
    "        self.salary = Salary\n",
    "        self.role = Role\n",
    "### Here fname, lname... are the instance variables, Firts_name, LAst_name are just random variables, assigned to instance variabes.\n",
    "\n",
    "    def print_details(self):\n",
    "        return f\"Name is {self.fname} {self.lname}. Salary is {self.salary}. Role is {self.role}\"\n",
    "\n",
    "\n",
    "harry = Employee(\"Harry\", \"Jackson\", 50000, \"Instructor\")      \n",
    "rohan = Employee(\"Rohan\", \"Das\", 40000, \"Intern\")\n",
    "\n",
    "### The moment we are creating an Instance here, the constructor being automatically called, "
   ]
  },
  {
   "cell_type": "code",
   "execution_count": 29,
   "metadata": {},
   "outputs": [
    {
     "data": {
      "text/plain": [
       "'Harry'"
      ]
     },
     "execution_count": 29,
     "metadata": {},
     "output_type": "execute_result"
    }
   ],
   "source": [
    "harry.fname"
   ]
  },
  {
   "cell_type": "code",
   "execution_count": 30,
   "metadata": {},
   "outputs": [
    {
     "data": {
      "text/plain": [
       "'Name is Rohan Das. Salary is 40000. Role is Intern'"
      ]
     },
     "execution_count": 30,
     "metadata": {},
     "output_type": "execute_result"
    }
   ],
   "source": [
    "rohan.print_details()"
   ]
  },
  {
   "cell_type": "markdown",
   "metadata": {},
   "source": [
    "Thus the same operation which was taking a lot more time and space, now taking much less time and space and energy due to the usage of a constructor. "
   ]
  },
  {
   "cell_type": "markdown",
   "metadata": {},
   "source": [
    "[back to top](#contents)"
   ]
  },
  {
   "cell_type": "markdown",
   "metadata": {},
   "source": [
    "## CLASS METHOD"
   ]
  },
  {
   "cell_type": "code",
   "execution_count": 31,
   "metadata": {},
   "outputs": [],
   "source": [
    "class Employee:         \n",
    "    no_of_employee = 500\n",
    "    bonus = 8\n",
    "    no_of_leaves = 80\n",
    "\n",
    "    def __init__(self, First_name, Last_name, Salary, Role):\n",
    "        self.fname = First_name\n",
    "        self.lname = Last_name\n",
    "        self.salary = Salary\n",
    "        self.role = Role\n",
    "### Here fname, lname... are the instance variables, Firts_name, LAst_name are just random variables, assigned to instance variabes.\n",
    "\n",
    "    def print_details(self):\n",
    "        return f\"Name is {self.fname} {self.lname}. Salary is {self.salary}. Role is {self.role}\"\n",
    "\n",
    "    @classmethod\n",
    "    def change_leaves(cls, new_leaves):\n",
    "        cls.no_of_leaves = new_leaves\n",
    "\n",
    "\n",
    "harry = Employee(\"Harry\", \"Jackson\", 50000, \"Instructor\")      \n",
    "rohan = Employee(\"Rohan\", \"Das\", 40000, \"Intern\")\n",
    "\n",
    "### The moment we are creating an Instance here, the constructor being automatically called, "
   ]
  },
  {
   "cell_type": "code",
   "execution_count": 36,
   "metadata": {},
   "outputs": [
    {
     "name": "stdout",
     "output_type": "stream",
     "text": [
      "100\n",
      "100\n",
      "100\n"
     ]
    }
   ],
   "source": [
    "Employee.change_leaves(100)\n",
    "print(Employee.no_of_leaves)\n",
    "print(harry.no_of_leaves)\n",
    "print(rohan.no_of_leaves)"
   ]
  },
  {
   "cell_type": "code",
   "execution_count": 35,
   "metadata": {},
   "outputs": [
    {
     "name": "stdout",
     "output_type": "stream",
     "text": [
      "125\n",
      "125\n",
      "125\n"
     ]
    }
   ],
   "source": [
    "harry.change_leaves(125)\n",
    "print(Employee.no_of_leaves)\n",
    "print(harry.no_of_leaves)\n",
    "print(rohan.no_of_leaves)"
   ]
  },
  {
   "cell_type": "markdown",
   "metadata": {},
   "source": [
    "Thus we can call a class method through instances as well as class name."
   ]
  },
  {
   "cell_type": "markdown",
   "metadata": {},
   "source": [
    "[back to top](#contents)"
   ]
  },
  {
   "cell_type": "markdown",
   "metadata": {},
   "source": [
    "## Class Method as a Constructor"
   ]
  },
  {
   "cell_type": "code",
   "execution_count": 6,
   "metadata": {},
   "outputs": [],
   "source": [
    "class Employee:         \n",
    "    no_of_employee = 500\n",
    "    bonus = 8\n",
    "    no_of_leaves = 80\n",
    "\n",
    "    def __init__(self, First_name, Last_name, Salary, Role):\n",
    "        self.fname = First_name\n",
    "        self.lname = Last_name\n",
    "        self.salary = Salary\n",
    "        self.role = Role\n",
    "### Here fname, lname... are the instance variables, Firts_name, LAst_name are just random variables, assigned to instance variabes.\n",
    "\n",
    "    def print_details(self):\n",
    "        return f\"Name is {self.fname} {self.lname}. Salary is {self.salary}. Role is {self.role}\"\n",
    "\n",
    "    @classmethod\n",
    "    def from_string(cls, string):\n",
    "        string_to_list = string.split('-')\n",
    "        return cls(string_to_list[0], string_to_list[1], string_to_list[2], string_to_list[3])\n",
    "\n",
    "\n",
    "\n",
    "harry = Employee(\"Harry\", \"Jackson\", 50000, \"Instructor\")      \n",
    "rohan = Employee(\"Rohan\", \"Das\", 40000, \"Intern\")\n",
    "karan = Employee.from_string(\"Karan-Johar-551-Joker\")\n",
    "\n",
    "### The moment we are creating an Instance here, the constructor being automatically called, "
   ]
  },
  {
   "cell_type": "code",
   "execution_count": 2,
   "metadata": {},
   "outputs": [
    {
     "name": "stdout",
     "output_type": "stream",
     "text": [
      "Name is Harry Jackson. Salary is 50000. Role is Instructor\n",
      "Name is Karan Johar. Salary is 551. Role is Joker\n"
     ]
    }
   ],
   "source": [
    "print(harry.print_details())\n",
    "print(karan.print_details())"
   ]
  },
  {
   "cell_type": "markdown",
   "metadata": {},
   "source": [
    "Thus the class method from_string exactly is behaving like a constructor --init-- . we just need to mention Employee.from_strng() then automatically the execution is being done and 0th, 1st , 2nd... elements in the bracket is being assigned to fname lname salary..."
   ]
  },
  {
   "cell_type": "markdown",
   "metadata": {},
   "source": [
    "### <b>same class method we can write using *args</b>"
   ]
  },
  {
   "cell_type": "code",
   "execution_count": 3,
   "metadata": {},
   "outputs": [],
   "source": [
    "@classmethod\n",
    "def from_string(cls, string):\n",
    "    return cls(*string.split())"
   ]
  },
  {
   "cell_type": "code",
   "execution_count": 4,
   "metadata": {},
   "outputs": [
    {
     "name": "stdout",
     "output_type": "stream",
     "text": [
      "Name is Karan Johar. Salary is 551. Role is Joker\n"
     ]
    }
   ],
   "source": [
    "print(karan.print_details())"
   ]
  },
  {
   "cell_type": "markdown",
   "metadata": {},
   "source": [
    "[back to top](#contents)"
   ]
  },
  {
   "cell_type": "markdown",
   "metadata": {},
   "source": [
    "## STATIC METHOD"
   ]
  },
  {
   "cell_type": "markdown",
   "metadata": {},
   "source": [
    "When we dont need either self, or Class name inside a method, we use static method."
   ]
  },
  {
   "cell_type": "code",
   "execution_count": 54,
   "metadata": {},
   "outputs": [
    {
     "name": "stdout",
     "output_type": "stream",
     "text": [
      "Always Display : Good Eve\n"
     ]
    }
   ],
   "source": [
    "class Employee :\n",
    "    pass \n",
    "\n",
    "    @staticmethod\n",
    "    def print_this(string):\n",
    "        print (\"Always Display :\", string)\n",
    "    \n",
    "    suresh = Employee()\n",
    "    suresh.print_this(\"Good Eve\")"
   ]
  },
  {
   "cell_type": "code",
   "execution_count": 51,
   "metadata": {},
   "outputs": [
    {
     "name": "stdout",
     "output_type": "stream",
     "text": [
      "Always Display : Good Morning\n"
     ]
    }
   ],
   "source": [
    "Employee.print_this(\"Good Morning\")"
   ]
  },
  {
   "cell_type": "markdown",
   "metadata": {},
   "source": [
    "Thus you can call this static method through Class or Instance whatever u want"
   ]
  },
  {
   "cell_type": "markdown",
   "metadata": {},
   "source": [
    "[back to top](#contents)"
   ]
  }
 ],
 "metadata": {
  "interpreter": {
   "hash": "ac67a110c22b5a2dbfbee94e330edc65ab8c73ef4fe4729cecc84c9bf1ab600c"
  },
  "kernelspec": {
   "display_name": "Python 3.9.7 ('base')",
   "language": "python",
   "name": "python3"
  },
  "language_info": {
   "codemirror_mode": {
    "name": "ipython",
    "version": 3
   },
   "file_extension": ".py",
   "mimetype": "text/x-python",
   "name": "python",
   "nbconvert_exporter": "python",
   "pygments_lexer": "ipython3",
   "version": "3.9.7"
  },
  "orig_nbformat": 4
 },
 "nbformat": 4,
 "nbformat_minor": 2
}
