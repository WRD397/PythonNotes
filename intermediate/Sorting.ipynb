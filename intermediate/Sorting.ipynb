{
 "cells": [
  {
   "cell_type": "code",
   "execution_count": 6,
   "metadata": {},
   "outputs": [],
   "source": [
    "A = [1,4,3,8,9,23,12,45,11,10,1]"
   ]
  },
  {
   "cell_type": "code",
   "execution_count": 7,
   "metadata": {},
   "outputs": [
    {
     "name": "stdout",
     "output_type": "stream",
     "text": [
      "[1, 3, 4, 8, 9, 12, 23, 11, 10, 1, 45]\n"
     ]
    }
   ],
   "source": [
    "for i in range(0,len(A)-1):\n",
    "    if A[i] > A[i+1]:\n",
    "        A[i], A[i+1] = A[i+1], A[i]\n",
    "print(A)"
   ]
  },
  {
   "cell_type": "markdown",
   "metadata": {},
   "source": [
    "## INSERTION "
   ]
  },
  {
   "cell_type": "markdown",
   "metadata": {},
   "source": [
    "#### Inserting an Element inside an already sorted array. the element will compare itself with all the elements of the array and then shift the elements one by one.\n",
    "* Time Complexity : O(n^2) as the number of steps for worst case, n(n+1)/2\n",
    "* Adaptive : Yes. if the array is already sorted then the alogo is adapting and the time complexity becomes O(n)\n",
    "* Stable : Yes. If there are two same numbers, then the order or the two numgbers remain same."
   ]
  },
  {
   "cell_type": "code",
   "execution_count": 3,
   "metadata": {},
   "outputs": [],
   "source": [
    "def foo(A):\n",
    "    for i in range(1,len(A)):\n",
    "        anchor = A[i]\n",
    "        j = i - 1\n",
    "        while j >= 0 and anchor < A[j]:\n",
    "            A[j+1] = A[j]\n",
    "            j -= 1\n",
    "        A[j + 1] = anchor\n",
    "\n",
    "    return A"
   ]
  },
  {
   "cell_type": "code",
   "execution_count": 4,
   "metadata": {},
   "outputs": [
    {
     "data": {
      "text/plain": [
       "[2, 7, 9, 11, 15, 28, 29]"
      ]
     },
     "execution_count": 4,
     "metadata": {},
     "output_type": "execute_result"
    }
   ],
   "source": [
    "A = [11,9,29,7,2,15,28] \n",
    "foo(A)"
   ]
  }
 ],
 "metadata": {
  "interpreter": {
   "hash": "ac67a110c22b5a2dbfbee94e330edc65ab8c73ef4fe4729cecc84c9bf1ab600c"
  },
  "kernelspec": {
   "display_name": "Python 3.9.7 ('base')",
   "language": "python",
   "name": "python3"
  },
  "language_info": {
   "codemirror_mode": {
    "name": "ipython",
    "version": 3
   },
   "file_extension": ".py",
   "mimetype": "text/x-python",
   "name": "python",
   "nbconvert_exporter": "python",
   "pygments_lexer": "ipython3",
   "version": "3.9.7"
  },
  "orig_nbformat": 4
 },
 "nbformat": 4,
 "nbformat_minor": 2
}
