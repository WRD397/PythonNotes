{
 "cells": [
  {
   "cell_type": "markdown",
   "metadata": {},
   "source": [
    "<b>any arbitrary functions</b> "
   ]
  },
  {
   "cell_type": "code",
   "execution_count": 69,
   "metadata": {},
   "outputs": [],
   "source": [
    "def func1():\n",
    "    print(\"Hello world\")\n",
    "\n",
    "def func2(a,b):\n",
    "    print(\"addition :\", a+b)"
   ]
  },
  {
   "cell_type": "markdown",
   "metadata": {},
   "source": [
    "<b>decorator</b>"
   ]
  },
  {
   "cell_type": "code",
   "execution_count": 101,
   "metadata": {},
   "outputs": [],
   "source": [
    "def decorator(function):\n",
    "    def wrapper(*args):  ## *args is used so that the function being called inside can have *args ie. it can have as many arguments needed.\n",
    "        print(\"-\"*10)\n",
    "        function(*args)\n",
    "        print(\"-\"*10)\n",
    "    return wrapper"
   ]
  },
  {
   "cell_type": "code",
   "execution_count": 53,
   "metadata": {},
   "outputs": [
    {
     "name": "stdout",
     "output_type": "stream",
     "text": [
      "Hello world\n"
     ]
    }
   ],
   "source": [
    "func1()"
   ]
  },
  {
   "cell_type": "markdown",
   "metadata": {},
   "source": [
    "implementation with the decorator"
   ]
  },
  {
   "cell_type": "code",
   "execution_count": 102,
   "metadata": {},
   "outputs": [
    {
     "name": "stdout",
     "output_type": "stream",
     "text": [
      "----------\n",
      "Hello world\n",
      "----------\n"
     ]
    }
   ],
   "source": [
    "func1_decorated = decorator(func1)\n",
    "func1_decorated()"
   ]
  },
  {
   "cell_type": "markdown",
   "metadata": {},
   "source": [
    "As, decorator is returning 'wrapper' not 'wrapper()'...so decorator(func1) wont print anything, as its a function object...it has to be called to execute some operation. So we are calling the function object func1_decorated"
   ]
  },
  {
   "cell_type": "markdown",
   "metadata": {},
   "source": [
    "Another procedure to write the first line of cell 75"
   ]
  },
  {
   "cell_type": "code",
   "execution_count": 103,
   "metadata": {},
   "outputs": [],
   "source": [
    "@decorator\n",
    "def func3():\n",
    "    print(\"wow, That's Noice !!\")"
   ]
  },
  {
   "cell_type": "code",
   "execution_count": 104,
   "metadata": {},
   "outputs": [
    {
     "name": "stdout",
     "output_type": "stream",
     "text": [
      "----------\n",
      "wow, That's Noice !!\n",
      "----------\n"
     ]
    }
   ],
   "source": [
    "func3()"
   ]
  },
  {
   "cell_type": "markdown",
   "metadata": {},
   "source": [
    "Now, the decorator gonna work for functions with different numbers of arguments as we used *args in the argument of wrapper.."
   ]
  },
  {
   "cell_type": "code",
   "execution_count": 105,
   "metadata": {},
   "outputs": [],
   "source": [
    "@decorator\n",
    "def func4(a,b):\n",
    "    print(a+b)"
   ]
  },
  {
   "cell_type": "code",
   "execution_count": 106,
   "metadata": {},
   "outputs": [
    {
     "name": "stdout",
     "output_type": "stream",
     "text": [
      "----------\n",
      "7\n",
      "----------\n"
     ]
    }
   ],
   "source": [
    "func4(3,4)"
   ]
  },
  {
   "cell_type": "code",
   "execution_count": 107,
   "metadata": {},
   "outputs": [],
   "source": [
    "@decorator\n",
    "def func5(*args):          ### *args is used so that we can enter as many arguments as we want.\n",
    "    arguments = [argument for argument in args]\n",
    "    from functools import reduce\n",
    "    product_of_args = print(reduce(lambda a,b: a*b ,arguments ))\n",
    "    return product_of_args"
   ]
  },
  {
   "cell_type": "code",
   "execution_count": 108,
   "metadata": {},
   "outputs": [
    {
     "name": "stdout",
     "output_type": "stream",
     "text": [
      "----------\n",
      "120\n",
      "----------\n"
     ]
    }
   ],
   "source": [
    "func5(3,4,5,2,1)     "
   ]
  }
 ],
 "metadata": {
  "interpreter": {
   "hash": "ac67a110c22b5a2dbfbee94e330edc65ab8c73ef4fe4729cecc84c9bf1ab600c"
  },
  "kernelspec": {
   "display_name": "Python 3.9.7 ('base')",
   "language": "python",
   "name": "python3"
  },
  "language_info": {
   "codemirror_mode": {
    "name": "ipython",
    "version": 3
   },
   "file_extension": ".py",
   "mimetype": "text/x-python",
   "name": "python",
   "nbconvert_exporter": "python",
   "pygments_lexer": "ipython3",
   "version": "3.9.7"
  },
  "orig_nbformat": 4
 },
 "nbformat": 4,
 "nbformat_minor": 2
}
