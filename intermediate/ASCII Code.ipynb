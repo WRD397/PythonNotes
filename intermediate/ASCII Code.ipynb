{
 "cells": [
  {
   "cell_type": "markdown",
   "metadata": {},
   "source": [
    "## ASCII CODE\n",
    "\n",
    "### 0       ---> NULL\n",
    "### 32      ---> SPACEBAR\n",
    "### 48 - 57 ---> 0 TO 9 (ie. Numeric)\n",
    "### 65 - 90 ---> A to Z (All Cap)\n",
    "### 97 - 122 --> a to z (all small)"
   ]
  },
  {
   "cell_type": "markdown",
   "metadata": {},
   "source": [
    "ASCII Codes : Every character has an ASCII Codes associated with it.<br> \n",
    "<a href=\"https://www.ascii-code.com/\"> ASCII Code website : </a>"
   ]
  },
  {
   "cell_type": "code",
   "execution_count": 2,
   "metadata": {},
   "outputs": [
    {
     "name": "stdout",
     "output_type": "stream",
     "text": [
      "97\n"
     ]
    }
   ],
   "source": [
    "print(ord('a'))  ##to get the corresponding code in decimal value."
   ]
  },
  {
   "cell_type": "code",
   "execution_count": 6,
   "metadata": {},
   "outputs": [
    {
     "name": "stdout",
     "output_type": "stream",
     "text": [
      "c\n"
     ]
    }
   ],
   "source": [
    "print(chr(ord('a')+2)) ##to get the corresponding character from the ASCII code value"
   ]
  },
  {
   "cell_type": "markdown",
   "metadata": {},
   "source": [
    "### Spacebar"
   ]
  },
  {
   "cell_type": "code",
   "execution_count": 2,
   "metadata": {},
   "outputs": [
    {
     "name": "stdout",
     "output_type": "stream",
     "text": [
      "32\n"
     ]
    }
   ],
   "source": [
    "print(ord(' '))"
   ]
  },
  {
   "cell_type": "markdown",
   "metadata": {},
   "source": [
    "## 1.Compare"
   ]
  },
  {
   "cell_type": "code",
   "execution_count": 13,
   "metadata": {},
   "outputs": [],
   "source": [
    "def comp(ch):\n",
    "    if 'a' <= ch <= 'z':  return 'lower'   ## if we wanna write explicitely. then\n",
    "    elif 'A' <= ch <= 'Z': return 'UPPER'  ## it would be ord('a') <= ord(ch) \n",
    "    else: return 'Not an english alpahbet' ## <=ord('b')"
   ]
  },
  {
   "cell_type": "code",
   "execution_count": 12,
   "metadata": {},
   "outputs": [
    {
     "data": {
      "text/plain": [
       "'UPPER'"
      ]
     },
     "execution_count": 12,
     "metadata": {},
     "output_type": "execute_result"
    }
   ],
   "source": [
    "ch = 'H'\n",
    "comp(ch)"
   ]
  },
  {
   "cell_type": "markdown",
   "metadata": {},
   "source": [
    "### Toggling between Upper and Lower Case :"
   ]
  },
  {
   "cell_type": "code",
   "execution_count": 17,
   "metadata": {},
   "outputs": [],
   "source": [
    "def toggle_cases(char):\n",
    "    toggled_char = ''\n",
    "    for ch in char :\n",
    "        if 'a' <= ch <= 'z':\n",
    "            ch = chr(ord(ch) - 32)\n",
    "        elif 'A' <= ch <= 'Z':\n",
    "            ch = chr(ord(ch) + 32)\n",
    "        toggled_char += ch\n",
    "    return toggled_char"
   ]
  },
  {
   "cell_type": "code",
   "execution_count": 18,
   "metadata": {},
   "outputs": [
    {
     "data": {
      "text/plain": [
       "'hELLO'"
      ]
     },
     "execution_count": 18,
     "metadata": {},
     "output_type": "execute_result"
    }
   ],
   "source": [
    "char = 'Hello'\n",
    "toggle_cases(char)"
   ]
  },
  {
   "cell_type": "markdown",
   "metadata": {},
   "source": [
    "## BETTER APPROACH"
   ]
  },
  {
   "cell_type": "code",
   "execution_count": 19,
   "metadata": {},
   "outputs": [
    {
     "name": "stdout",
     "output_type": "stream",
     "text": [
      "asdasdfasfsdfssdf ASDASDFASFSDFSSDF\n"
     ]
    }
   ],
   "source": [
    "char = 'ASDasdFASfsdfsSdf'\n",
    "char_low = char.lower()\n",
    "char_up = char.upper()\n",
    "print(char_low, char_up)"
   ]
  }
 ],
 "metadata": {
  "interpreter": {
   "hash": "ac67a110c22b5a2dbfbee94e330edc65ab8c73ef4fe4729cecc84c9bf1ab600c"
  },
  "kernelspec": {
   "display_name": "Python 3.9.7 ('base')",
   "language": "python",
   "name": "python3"
  },
  "language_info": {
   "codemirror_mode": {
    "name": "ipython",
    "version": 3
   },
   "file_extension": ".py",
   "mimetype": "text/x-python",
   "name": "python",
   "nbconvert_exporter": "python",
   "pygments_lexer": "ipython3",
   "version": "3.9.7"
  },
  "orig_nbformat": 4
 },
 "nbformat": 4,
 "nbformat_minor": 2
}
