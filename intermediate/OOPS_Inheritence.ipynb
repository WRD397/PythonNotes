{
 "cells": [
  {
   "cell_type": "markdown",
   "metadata": {},
   "source": [
    "Under Employee class there may be Programmer, "
   ]
  },
  {
   "cell_type": "markdown",
   "metadata": {},
   "source": [
    "## SINGLE INHERITENCE"
   ]
  },
  {
   "cell_type": "code",
   "execution_count": 21,
   "metadata": {},
   "outputs": [],
   "source": [
    "class Employee:         \n",
    "    no_of_employee = 500\n",
    "    bonus = 8\n",
    "    no_of_leaves = 80\n",
    "\n",
    "    def __init__(self, First_name, Last_name, Salary, Role):\n",
    "        self.fname = First_name\n",
    "        self.lname = Last_name\n",
    "        self.salary = Salary\n",
    "        self.role = Role\n",
    "### Here fname, lname... are the instance variables, Firts_name, LAst_name are just random variables, assigned to instance variabes.\n",
    "\n",
    "    def print_details(self):\n",
    "        return f\"Name is {self.fname} {self.lname}. Salary is {self.salary}. Role is {self.role}\"\n",
    "\n",
    "    @classmethod\n",
    "    def from_string(cls, string):\n",
    "        string_to_list = string.split('-')\n",
    "        return cls(string_to_list[0], string_to_list[1], string_to_list[2], string_to_list[3])\n",
    "\n",
    "harry = Employee(\"Harry\", \"Jackson\", 50000, \"Instructor\")      \n",
    "rohan = Employee(\"Rohan\", \"Das\", 40000, \"Intern\")\n",
    "karan = Employee.from_string(\"Karan-Johar-551-Joker\")\n",
    "\n",
    "\n",
    "\n",
    "\n",
    "\n",
    "\n",
    "## Let's ake a subclass or child class of the main class Employee...\n",
    "\n",
    "class Programmer(Employee):\n",
    "\n",
    "    def __init__(self, First_name, Last_name, Salary, Role, Programming_language, Experience):\n",
    "        self.fname = First_name\n",
    "        self.lname = Last_name\n",
    "        self.salary = Salary\n",
    "        self.role = Role\n",
    "        self.prog_lang = Programming_language\n",
    "        self.exp = Experience\n",
    "\n",
    "    def print_prog_details(self):\n",
    "        print (f\"The Programmer's Name is {self.fname} {self.lname}, Salary is {self.salary}, Role is {self.role}, His preferred language is {self.prog_lang}, He has {self.exp} of experience\",end = '/n')\n",
    "\n",
    "\n",
    "subham = Programmer(\"Subham\", \"Ghosh\", 55000, \"Developer\",[\"python\"],\"2 yrs\")\n",
    "writ = Programmer(\"Writ\", \"Dey\", 60000, \"Data Scientist\",['python','cpp'],'1 yr')\n",
    "\n",
    "### The moment we are creating an Instance here, the constructor being automatically called, \n"
   ]
  },
  {
   "cell_type": "code",
   "execution_count": 4,
   "metadata": {},
   "outputs": [
    {
     "data": {
      "text/plain": [
       "\"The Programmer's Name is Subham Ghosh, Salary is 55000, Role is Developer, His preferred language is ['python'], He has 2 yrs of experience\""
      ]
     },
     "execution_count": 4,
     "metadata": {},
     "output_type": "execute_result"
    }
   ],
   "source": [
    "subham.print_prog_details()"
   ]
  },
  {
   "cell_type": "code",
   "execution_count": 5,
   "metadata": {},
   "outputs": [
    {
     "data": {
      "text/plain": [
       "'Name is Subham Ghosh. Salary is 55000. Role is Developer'"
      ]
     },
     "execution_count": 5,
     "metadata": {},
     "output_type": "execute_result"
    }
   ],
   "source": [
    "subham.print_details()"
   ]
  },
  {
   "cell_type": "code",
   "execution_count": 22,
   "metadata": {},
   "outputs": [
    {
     "ename": "TypeError",
     "evalue": "__init__() missing 2 required positional arguments: 'Programming_language' and 'Experience'",
     "output_type": "error",
     "traceback": [
      "\u001b[1;31m---------------------------------------------------------------------------\u001b[0m",
      "\u001b[1;31mTypeError\u001b[0m                                 Traceback (most recent call last)",
      "\u001b[1;32m~\\AppData\\Local\\Temp/ipykernel_5128/2583909176.py\u001b[0m in \u001b[0;36m<module>\u001b[1;34m\u001b[0m\n\u001b[1;32m----> 1\u001b[1;33m \u001b[0mkashyap\u001b[0m \u001b[1;33m=\u001b[0m \u001b[0mProgrammer\u001b[0m\u001b[1;33m.\u001b[0m\u001b[0mfrom_string\u001b[0m\u001b[1;33m(\u001b[0m\u001b[1;34m\"Kashyap-Misra-42000-JavaDev-['Java','cpp']-4 yrs\"\u001b[0m\u001b[1;33m)\u001b[0m\u001b[1;33m\u001b[0m\u001b[1;33m\u001b[0m\u001b[0m\n\u001b[0m",
      "\u001b[1;32m~\\AppData\\Local\\Temp/ipykernel_5128/608100660.py\u001b[0m in \u001b[0;36mfrom_string\u001b[1;34m(cls, string)\u001b[0m\n\u001b[0;32m     17\u001b[0m     \u001b[1;32mdef\u001b[0m \u001b[0mfrom_string\u001b[0m\u001b[1;33m(\u001b[0m\u001b[0mcls\u001b[0m\u001b[1;33m,\u001b[0m \u001b[0mstring\u001b[0m\u001b[1;33m)\u001b[0m\u001b[1;33m:\u001b[0m\u001b[1;33m\u001b[0m\u001b[1;33m\u001b[0m\u001b[0m\n\u001b[0;32m     18\u001b[0m         \u001b[0mstring_to_list\u001b[0m \u001b[1;33m=\u001b[0m \u001b[0mstring\u001b[0m\u001b[1;33m.\u001b[0m\u001b[0msplit\u001b[0m\u001b[1;33m(\u001b[0m\u001b[1;34m'-'\u001b[0m\u001b[1;33m)\u001b[0m\u001b[1;33m\u001b[0m\u001b[1;33m\u001b[0m\u001b[0m\n\u001b[1;32m---> 19\u001b[1;33m         \u001b[1;32mreturn\u001b[0m \u001b[0mcls\u001b[0m\u001b[1;33m(\u001b[0m\u001b[0mstring_to_list\u001b[0m\u001b[1;33m[\u001b[0m\u001b[1;36m0\u001b[0m\u001b[1;33m]\u001b[0m\u001b[1;33m,\u001b[0m \u001b[0mstring_to_list\u001b[0m\u001b[1;33m[\u001b[0m\u001b[1;36m1\u001b[0m\u001b[1;33m]\u001b[0m\u001b[1;33m,\u001b[0m \u001b[0mstring_to_list\u001b[0m\u001b[1;33m[\u001b[0m\u001b[1;36m2\u001b[0m\u001b[1;33m]\u001b[0m\u001b[1;33m,\u001b[0m \u001b[0mstring_to_list\u001b[0m\u001b[1;33m[\u001b[0m\u001b[1;36m3\u001b[0m\u001b[1;33m]\u001b[0m\u001b[1;33m)\u001b[0m\u001b[1;33m\u001b[0m\u001b[1;33m\u001b[0m\u001b[0m\n\u001b[0m\u001b[0;32m     20\u001b[0m \u001b[1;33m\u001b[0m\u001b[0m\n\u001b[0;32m     21\u001b[0m \u001b[0mharry\u001b[0m \u001b[1;33m=\u001b[0m \u001b[0mEmployee\u001b[0m\u001b[1;33m(\u001b[0m\u001b[1;34m\"Harry\"\u001b[0m\u001b[1;33m,\u001b[0m \u001b[1;34m\"Jackson\"\u001b[0m\u001b[1;33m,\u001b[0m \u001b[1;36m50000\u001b[0m\u001b[1;33m,\u001b[0m \u001b[1;34m\"Instructor\"\u001b[0m\u001b[1;33m)\u001b[0m\u001b[1;33m\u001b[0m\u001b[1;33m\u001b[0m\u001b[0m\n",
      "\u001b[1;31mTypeError\u001b[0m: __init__() missing 2 required positional arguments: 'Programming_language' and 'Experience'"
     ]
    }
   ],
   "source": [
    "kashyap = Programmer.from_string(\"Kashyap-Misra-42000-JavaDev-['Java','cpp']-4 yrs\")"
   ]
  },
  {
   "cell_type": "markdown",
   "metadata": {},
   "source": [
    "<ul>\n",
    "# Thus we made a subclass of the main class or they ae called <b>Super CLass</b> or <b>Parent Class</B>.<br>\n",
    "# Now the instances of the subclass will have the same common attributes along with which they are having some extra attributes # preferred language nd experience. So we copied the same constructor __ init __ from the super class and modify it. <br>\n",
    "# The instances of the subclass will be able to access all the methods of the superclass as well as of course the methods of the current class.\n",
    "#But as it can be seen, tht the class methods of a super cant be called by the subclass instances. Because a class method depends on the __ init __ of that individual class, the moment we change the class and modify the init, class methods wont execute anymore.\n",
    "</ul> "
   ]
  },
  {
   "cell_type": "markdown",
   "metadata": {},
   "source": [
    "## MULTIPLE INHERITENCE"
   ]
  },
  {
   "cell_type": "code",
   "execution_count": 23,
   "metadata": {},
   "outputs": [],
   "source": [
    "class Employee:         \n",
    "    no_of_employee = 500\n",
    "    bonus = 8\n",
    "    no_of_leaves = 80\n",
    "\n",
    "# Constructor\n",
    "    def __init__(self, First_name, Last_name, Salary, Role):\n",
    "        self.fname = First_name\n",
    "        self.lname = Last_name\n",
    "        self.salary = Salary\n",
    "        self.role = Role\n",
    "### Here fname, lname... are the instance variables, Firts_name, LAst_name are just random variables, assigned to instance variabes.\n",
    "\n",
    "    def print_details(self):\n",
    "        return f\"Name is {self.fname} {self.lname}. Salary is {self.salary}. Role is {self.role}\"\n",
    "\n",
    "    @classmethod\n",
    "    def from_string(cls, string):\n",
    "        string_to_list = string.split('-')\n",
    "        return cls(string_to_list[0], string_to_list[1], string_to_list[2], string_to_list[3])\n",
    "\n",
    "harry = Employee(\"Harry\", \"Jackson\", 50000, \"Instructor\")      \n",
    "rohan = Employee(\"Rohan\", \"Das\", 40000, \"Intern\")\n",
    "karan = Employee.from_string(\"Karan-Johar-551-Joker\")\n",
    "\n",
    "\n",
    "\n",
    "\n",
    "\n",
    "\n",
    "## let's build another Class like Employee.\n",
    "class Player:\n",
    "    no_of_games = 4\n",
    "    no_of_leaves = 140\n",
    "\n",
    "# CONSTRUCTOR\n",
    "    def __init__(self, Name, Game):\n",
    "        self.name = Name\n",
    "        self.game = Game\n",
    "    \n",
    "    def print_player_details(self):\n",
    "        print(F\"The Name is {self.name}. Game is {self.game}\")\n",
    "\n",
    "kashyap = Player(\"Kashyap\",['football'])"
   ]
  },
  {
   "cell_type": "code",
   "execution_count": 25,
   "metadata": {},
   "outputs": [],
   "source": [
    "class Cool_Employee(Employee, Player):\n",
    "    pass\n",
    "\n",
    "mudit = Cool_Employee('Mudit','Sharma',56000,'DevOps')"
   ]
  },
  {
   "cell_type": "code",
   "execution_count": 26,
   "metadata": {},
   "outputs": [
    {
     "ename": "TypeError",
     "evalue": "__init__() missing 2 required positional arguments: 'Salary' and 'Role'",
     "output_type": "error",
     "traceback": [
      "\u001b[1;31m---------------------------------------------------------------------------\u001b[0m",
      "\u001b[1;31mTypeError\u001b[0m                                 Traceback (most recent call last)",
      "\u001b[1;32m~\\AppData\\Local\\Temp/ipykernel_5128/436773190.py\u001b[0m in \u001b[0;36m<module>\u001b[1;34m\u001b[0m\n\u001b[1;32m----> 1\u001b[1;33m \u001b[0mjatin\u001b[0m \u001b[1;33m=\u001b[0m \u001b[0mCool_Employee\u001b[0m\u001b[1;33m(\u001b[0m\u001b[1;34m'Jatin Katyal'\u001b[0m\u001b[1;33m,\u001b[0m \u001b[1;34m'Rugby'\u001b[0m \u001b[1;33m)\u001b[0m\u001b[1;33m\u001b[0m\u001b[1;33m\u001b[0m\u001b[0m\n\u001b[0m",
      "\u001b[1;31mTypeError\u001b[0m: __init__() missing 2 required positional arguments: 'Salary' and 'Role'"
     ]
    }
   ],
   "source": [
    "jatin = Cool_Employee('Jatin Katyal', 'Rugby' )"
   ]
  },
  {
   "cell_type": "markdown",
   "metadata": {},
   "source": [
    "Notice here, even if we are inheriting from both the classes , as mentioned <b> Employee first </b>; so the instance will want to take the arguments according to the Employee class constructor."
   ]
  },
  {
   "cell_type": "code",
   "execution_count": 27,
   "metadata": {},
   "outputs": [
    {
     "data": {
      "text/plain": [
       "80"
      ]
     },
     "execution_count": 27,
     "metadata": {},
     "output_type": "execute_result"
    }
   ],
   "source": [
    "mudit.no_of_leaves"
   ]
  },
  {
   "cell_type": "markdown",
   "metadata": {},
   "source": [
    "similarly, no_of_leaves is taking the value as assigned in Employee class, not as in Player class.<br>\n",
    "<big> # So, we can fairly say that Cool_Programmer will access the objects of it's own first then will go to the fist Class we mentioned in the bracket, then will go to the next Class we mentioned."
   ]
  },
  {
   "cell_type": "markdown",
   "metadata": {},
   "source": [
    "# <B>MULTILEVEL INHERITENCE</B>"
   ]
  },
  {
   "cell_type": "markdown",
   "metadata": {},
   "source": [
    "multilevel inheritence is as follows in short"
   ]
  },
  {
   "cell_type": "code",
   "execution_count": 28,
   "metadata": {},
   "outputs": [],
   "source": [
    "class Father():\n",
    "    pass\n",
    "\n",
    "class Son(Father):\n",
    "    pass\n",
    "\n",
    "class Grandson(Son):\n",
    "    pass"
   ]
  },
  {
   "cell_type": "code",
   "execution_count": 33,
   "metadata": {},
   "outputs": [],
   "source": [
    "class Father():\n",
    "    hobby = 'outdoor games'\n",
    "    game = 'basketball'\n",
    "\n",
    "darry = Father()\n",
    "\n",
    "\n",
    "class Son(Father):\n",
    "    hobby = 'dancing'\n",
    "    dance = 'HipHop'\n",
    "    dance_type = 1\n",
    "    practice = 5\n",
    "\n",
    "    def practice_freq(self):\n",
    "        return f\"I practice dancing for {self.practice} no of times\"\n",
    "\n",
    "larry = Son()\n",
    "\n",
    "\n",
    "class Grandson(Son):\n",
    "    dance_type = 6\n",
    "\n",
    "    def practice_freq(self):\n",
    "        return f\"Hii there !!\"\\\n",
    "                f\"I practice dancing for {self.practice} no of times\"\\\n",
    "                f\"I love it as hellll !!\"\n",
    "\n",
    "robert = Grandson()"
   ]
  },
  {
   "cell_type": "code",
   "execution_count": 35,
   "metadata": {},
   "outputs": [
    {
     "name": "stdout",
     "output_type": "stream",
     "text": [
      "Hii there !!I practice dancing for 5 no of timesI love it as hellll !!\n",
      "dancing\n",
      "basketball\n"
     ]
    }
   ],
   "source": [
    "print(robert.practice_freq())\n",
    "print(robert.hobby)\n",
    "print(robert.game)"
   ]
  },
  {
   "cell_type": "markdown",
   "metadata": {},
   "source": [
    "Notice here, when two variable names are same then First it will look for the value in the current class, then will go to the upper class (son), Then will go again to the upper class(father)."
   ]
  }
 ],
 "metadata": {
  "interpreter": {
   "hash": "ac67a110c22b5a2dbfbee94e330edc65ab8c73ef4fe4729cecc84c9bf1ab600c"
  },
  "kernelspec": {
   "display_name": "Python 3.9.7 ('base')",
   "language": "python",
   "name": "python3"
  },
  "language_info": {
   "codemirror_mode": {
    "name": "ipython",
    "version": 3
   },
   "file_extension": ".py",
   "mimetype": "text/x-python",
   "name": "python",
   "nbconvert_exporter": "python",
   "pygments_lexer": "ipython3",
   "version": "3.9.7"
  },
  "orig_nbformat": 4
 },
 "nbformat": 4,
 "nbformat_minor": 2
}
