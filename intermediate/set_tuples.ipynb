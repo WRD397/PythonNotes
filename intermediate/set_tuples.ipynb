{
 "cells": [
  {
   "cell_type": "markdown",
   "metadata": {},
   "source": [
    "Which of the options can be used to remove the duplicates of tuples from the list of tuples?\n",
    "\n",
    "For eg. arr= [(1,2),(2,3),(2,3),(1,2),(5,6)]\n",
    "\n",
    "output arr: [(1,2),(2,3),(5,6)]"
   ]
  },
  {
   "cell_type": "code",
   "execution_count": 1,
   "metadata": {},
   "outputs": [],
   "source": [
    "#[ item for item in set (tuple(i) for i in arr )]\n",
    "# OR,\n",
    "#list (set ( [ i for i in arr ]))\n",
    "# OR,\n",
    "#[ (a,b) for i, [a,b] in enumerate(arr) if not any (c==b for _, c in arr[ : i])]"
   ]
  }
 ],
 "metadata": {
  "interpreter": {
   "hash": "ac67a110c22b5a2dbfbee94e330edc65ab8c73ef4fe4729cecc84c9bf1ab600c"
  },
  "kernelspec": {
   "display_name": "Python 3.9.7 ('base')",
   "language": "python",
   "name": "python3"
  },
  "language_info": {
   "codemirror_mode": {
    "name": "ipython",
    "version": 3
   },
   "file_extension": ".py",
   "mimetype": "text/x-python",
   "name": "python",
   "nbconvert_exporter": "python",
   "pygments_lexer": "ipython3",
   "version": "3.9.7"
  },
  "orig_nbformat": 4
 },
 "nbformat": 4,
 "nbformat_minor": 2
}
