
{
 "cells": [
  {
   "cell_type": "markdown",
   "id": "91bd03ac",
   "metadata": {},
   "source": [
    "# MODULES"
   ]
  },
  {
   "cell_type": "code",
   "execution_count": 2,
   "id": "abceb356",
   "metadata": {},
   "outputs": [],
   "source": [
    "import numpy as np\n",
    "import sympy as smp\n",
    "import matplotlib.pyplot as plt"
   ]
  },
  {
   "cell_type": "markdown",
   "id": "3bae0e40",
   "metadata": {},
   "source": [
    "# Integration"
   ]
  },
  {
   "cell_type": "code",
   "execution_count": null,
   "id": "745812df",
   "metadata": {},
   "outputs": [],
   "source": [
    "\n",
    "x=smp.symbols('x',real=True)     #defining symbols\n",
    "\n",
    "f1=(x**3)*smp.tan(x)+(x**4)*smp.sec(x)*smp.sec(x)-2\n",
    "f2=x+(x**4)*smp.tan(x)\n",
    "f=f1/f2\n",
    "\n",
    "smp.integrate(f,x)"
   ]
  },
  {
   "cell_type": "markdown",
   "id": "bae20662",
   "metadata": {},
   "source": [
    "# Limit"
   ]
  },
  {
   "cell_type": "code",
   "execution_count": 18,
   "id": "50be58ee",
   "metadata": {},
   "outputs": [
    {
     "data": {
      "text/latex": [
       "$\\displaystyle 1$"
      ],
      "text/plain": [
       "1"
      ]
     },
     "execution_count": 18,
     "metadata": {},
     "output_type": "execute_result"
    }
   ],
   "source": [
    "f=smp.sin((x/2)+smp.sin(x))\n",
    "\n",
    "smp.limit(f,x,smp.pi)"
   ]
  },
  {
   "cell_type": "code",
   "execution_count": 20,
   "id": "3426e09a",
   "metadata": {},
   "outputs": [
    {
     "data": {
      "text/latex": [
       "$\\displaystyle 2$"
      ],
      "text/plain": [
       "2"
      ]
     },
     "execution_count": 20,
     "metadata": {},
     "output_type": "execute_result"
    }
   ],
   "source": [
    "#LIMIT_with_direction\n",
    "\n",
    "f=2*smp.exp(1/x)/(smp.exp(1/x)+1)\n",
    "smp.limit(f,x,0,'+')                   #ie. from positive direction"
   ]
  },
  {
   "cell_type": "code",
   "execution_count": 21,
   "id": "14f161bf",
   "metadata": {},
   "outputs": [
    {
     "data": {
      "text/latex": [
       "$\\displaystyle 0$"
      ],
      "text/plain": [
       "0"
      ]
     },
     "execution_count": 21,
     "metadata": {},
     "output_type": "execute_result"
    }
   ],
   "source": [
    "f=2*smp.exp(1/x)/(smp.exp(1/x)+1)\n",
    "smp.limit(f,x,0,'-')"
   ]
  },
  {
   "cell_type": "code",
   "execution_count": 25,
   "id": "cb901501",
   "metadata": {},
   "outputs": [
    {
     "data": {
      "text/latex": [
       "$\\displaystyle 0$"
      ],
      "text/plain": [
       "0"
      ]
     },
     "execution_count": 25,
     "metadata": {},
     "output_type": "execute_result"
    }
   ],
   "source": [
    "#LIMIT_infinity\n",
    "\n",
    "f=(smp.cos(x)-1)/x\n",
    "smp.limit(f,x,smp.oo)          #smp.oo denotes 'infinity'"
   ]
  },
  {
   "cell_type": "markdown",
   "id": "1a9de2fc",
   "metadata": {},
   "source": [
    "# Matrix"
   ]
  },
  {
   "cell_type": "code",
   "execution_count": 19,
   "id": "9ba3f335",
   "metadata": {},
   "outputs": [
    {
     "data": {
      "text/plain": [
       "(array([[ 1,  2, -2],\n",
       "        [-1,  3,  0],\n",
       "        [ 0, -2,  1]]),\n",
       " 0.9999999999999998,\n",
       " array([[3., 2., 6.],\n",
       "        [1., 1., 2.],\n",
       "        [2., 2., 5.]]))"
      ]
     },
     "execution_count": 19,
     "metadata": {},
     "output_type": "execute_result"
    }
   ],
   "source": [
    "#INVERSE MATRIX (Using numpy)\n",
    "\n",
    "M=np.array([[1,2,-2],[-1,3,0],[0,-2,1]])\n",
    "InvM=np.linalg.inv(M)                          #Inverse of M using numpy\n",
    "DetM=np.linalg.det(M)\n",
    "M,DetM,InvM"
   ]
  },
  {
   "cell_type": "code",
   "execution_count": 43,
   "id": "4e2f77db",
   "metadata": {},
   "outputs": [
    {
     "data": {
      "text/latex": [
       "$\\displaystyle a^{4} x^{4} + b^{4} x^{4} + c^{4} x^{4} + x^{6}$"
      ],
      "text/plain": [
       "a**4*x**4 + b**4*x**4 + c**4*x**4 + x**6"
      ]
     },
     "execution_count": 43,
     "metadata": {},
     "output_type": "execute_result"
    }
   ],
   "source": [
    "#DET MATRIX (Using sympy)\n",
    "\n",
    "a,b,c,x=smp.symbols('a,b,c,x')\n",
    "\n",
    "M=smp.Matrix([[a**4+x**2,a**2*b**2,a**2*c**2],[a**2*b**2,b**4+x**2,b**2*c**2],[a**2*c**2,b**2*c**2,c**4+x**2]])\n",
    "detM=smp.det(M)\n",
    "detM\n"
   ]
  },
  {
   "cell_type": "markdown",
   "id": "97aac1d3",
   "metadata": {},
   "source": [
    "# Derivative"
   ]
  },
  {
   "cell_type": "code",
   "execution_count": 3,
   "id": "27a08bcc",
   "metadata": {},
   "outputs": [
    {
     "data": {
      "text/latex": [
       "$\\displaystyle e^{- a \\sin{\\left(x^{2} \\right)}} \\log{\\left(\\frac{c \\sin^{2}{\\left(x \\right)}}{x} \\right)} \\sin{\\left(b^{x} \\right)}$"
      ],
      "text/plain": [
       "exp(-a*sin(x**2))*log(c*sin(x)**2/x)*sin(b**x)"
      ]
     },
     "execution_count": 3,
     "metadata": {},
     "output_type": "execute_result"
    }
   ],
   "source": [
    "x,a,b,c=smp.symbols('x,a,b,c',real=True)\n",
    "f=smp.exp(-a*smp.sin(x**2))*smp.sin(b**x)*smp.log(c*smp.sin(x)**2/x)\n",
    "f"
   ]
  },
  {
   "cell_type": "code",
   "execution_count": 3,
   "id": "a7e01c06",
   "metadata": {},
   "outputs": [
    {
     "data": {
      "text/latex": [
       "$\\displaystyle - 2 a x e^{- a \\sin{\\left(x^{2} \\right)}} \\log{\\left(\\frac{c \\sin^{2}{\\left(x \\right)}}{x} \\right)} \\sin{\\left(b^{x} \\right)} \\cos{\\left(x^{2} \\right)} + b^{x} e^{- a \\sin{\\left(x^{2} \\right)}} \\log{\\left(b \\right)} \\log{\\left(\\frac{c \\sin^{2}{\\left(x \\right)}}{x} \\right)} \\cos{\\left(b^{x} \\right)} + \\frac{x \\left(\\frac{2 c \\sin{\\left(x \\right)} \\cos{\\left(x \\right)}}{x} - \\frac{c \\sin^{2}{\\left(x \\right)}}{x^{2}}\\right) e^{- a \\sin{\\left(x^{2} \\right)}} \\sin{\\left(b^{x} \\right)}}{c \\sin^{2}{\\left(x \\right)}}$"
      ],
      "text/plain": [
       "-2*a*x*exp(-a*sin(x**2))*log(c*sin(x)**2/x)*sin(b**x)*cos(x**2) + b**x*exp(-a*sin(x**2))*log(b)*log(c*sin(x)**2/x)*cos(b**x) + x*(2*c*sin(x)*cos(x)/x - c*sin(x)**2/x**2)*exp(-a*sin(x**2))*sin(b**x)/(c*sin(x)**2)"
      ]
     },
     "execution_count": 3,
     "metadata": {},
     "output_type": "execute_result"
    }
   ],
   "source": [
    "smp.diff(f,x)     #1st order derivative wrt x  "
   ]
  },
  {
   "cell_type": "code",
   "execution_count": 5,
   "id": "28407ebb",
   "metadata": {},
   "outputs": [
    {
     "data": {
      "text/latex": [
       "$\\displaystyle \\left(\\frac{24 a b^{x} x \\left(b^{x} \\sin{\\left(b^{x} \\right)} - \\cos{\\left(b^{x} \\right)}\\right) \\left(2 \\cos{\\left(x \\right)} - \\frac{\\sin{\\left(x \\right)}}{x}\\right) \\log{\\left(b \\right)}^{2} \\cos{\\left(x^{2} \\right)}}{\\sin{\\left(x \\right)}} + 8 a b^{x} x \\left(b^{2 x} \\cos{\\left(b^{x} \\right)} + 3 b^{x} \\sin{\\left(b^{x} \\right)} - \\cos{\\left(b^{x} \\right)}\\right) \\log{\\left(b \\right)}^{3} \\log{\\left(\\frac{c \\sin^{2}{\\left(x \\right)}}{x} \\right)} \\cos{\\left(x^{2} \\right)} + \\frac{24 a b^{x} x \\left(\\frac{2 \\left(2 \\cos{\\left(x \\right)} - \\frac{\\sin{\\left(x \\right)}}{x}\\right) \\cos{\\left(x \\right)}}{\\sin{\\left(x \\right)}} + \\frac{2 \\left(\\sin^{2}{\\left(x \\right)} - \\cos^{2}{\\left(x \\right)} + \\frac{2 \\sin{\\left(x \\right)} \\cos{\\left(x \\right)}}{x} - \\frac{\\sin^{2}{\\left(x \\right)}}{x^{2}}\\right)}{\\sin{\\left(x \\right)}} - \\frac{2 \\cos{\\left(x \\right)} - \\frac{\\sin{\\left(x \\right)}}{x}}{x}\\right) \\log{\\left(b \\right)} \\cos{\\left(b^{x} \\right)} \\cos{\\left(x^{2} \\right)}}{\\sin{\\left(x \\right)}} + 16 a b^{x} x \\left(- 2 a^{2} x^{2} \\cos^{3}{\\left(x^{2} \\right)} - 6 a x^{2} \\sin{\\left(x^{2} \\right)} \\cos{\\left(x^{2} \\right)} + 3 a \\cos^{2}{\\left(x^{2} \\right)} + 2 x^{2} \\cos{\\left(x^{2} \\right)} + 3 \\sin{\\left(x^{2} \\right)}\\right) \\log{\\left(b \\right)} \\log{\\left(\\frac{c \\sin^{2}{\\left(x \\right)}}{x} \\right)} \\cos{\\left(b^{x} \\right)} - 12 a b^{x} \\left(b^{x} \\sin{\\left(b^{x} \\right)} - \\cos{\\left(b^{x} \\right)}\\right) \\left(2 a x^{2} \\cos^{2}{\\left(x^{2} \\right)} + 2 x^{2} \\sin{\\left(x^{2} \\right)} - \\cos{\\left(x^{2} \\right)}\\right) \\log{\\left(b \\right)}^{2} \\log{\\left(\\frac{c \\sin^{2}{\\left(x \\right)}}{x} \\right)} + \\frac{24 a b^{x} \\left(2 \\cos{\\left(x \\right)} - \\frac{\\sin{\\left(x \\right)}}{x}\\right) \\left(2 a x^{2} \\cos^{2}{\\left(x^{2} \\right)} + 2 x^{2} \\sin{\\left(x^{2} \\right)} - \\cos{\\left(x^{2} \\right)}\\right) \\log{\\left(b \\right)} \\cos{\\left(b^{x} \\right)}}{\\sin{\\left(x \\right)}} + \\frac{16 a x \\left(2 \\cos{\\left(x \\right)} - \\frac{\\sin{\\left(x \\right)}}{x}\\right) \\left(- 2 a^{2} x^{2} \\cos^{3}{\\left(x^{2} \\right)} - 6 a x^{2} \\sin{\\left(x^{2} \\right)} \\cos{\\left(x^{2} \\right)} + 3 a \\cos^{2}{\\left(x^{2} \\right)} + 2 x^{2} \\cos{\\left(x^{2} \\right)} + 3 \\sin{\\left(x^{2} \\right)}\\right) \\sin{\\left(b^{x} \\right)}}{\\sin{\\left(x \\right)}} + \\frac{16 a x \\left(- \\frac{3 \\left(2 \\cos{\\left(x \\right)} - \\frac{\\sin{\\left(x \\right)}}{x}\\right) \\cos^{2}{\\left(x \\right)}}{\\sin^{2}{\\left(x \\right)}} - \\frac{4 \\left(\\sin^{2}{\\left(x \\right)} - \\cos^{2}{\\left(x \\right)} + \\frac{2 \\sin{\\left(x \\right)} \\cos{\\left(x \\right)}}{x} - \\frac{\\sin^{2}{\\left(x \\right)}}{x^{2}}\\right) \\cos{\\left(x \\right)}}{\\sin^{2}{\\left(x \\right)}} + \\frac{4 \\sin{\\left(x \\right)} \\cos{\\left(x \\right)} - \\frac{3 \\sin^{2}{\\left(x \\right)}}{x} + \\frac{3 \\cos^{2}{\\left(x \\right)}}{x} - \\frac{6 \\sin{\\left(x \\right)} \\cos{\\left(x \\right)}}{x^{2}} + \\frac{3 \\sin^{2}{\\left(x \\right)}}{x^{3}}}{\\sin{\\left(x \\right)}} - 2 \\cos{\\left(x \\right)} + \\frac{2 \\left(2 \\cos{\\left(x \\right)} - \\frac{\\sin{\\left(x \\right)}}{x}\\right) \\cos{\\left(x \\right)}}{x \\sin{\\left(x \\right)}} + \\frac{2 \\left(\\sin^{2}{\\left(x \\right)} - \\cos^{2}{\\left(x \\right)} + \\frac{2 \\sin{\\left(x \\right)} \\cos{\\left(x \\right)}}{x} - \\frac{\\sin^{2}{\\left(x \\right)}}{x^{2}}\\right)}{x \\sin{\\left(x \\right)}} + \\frac{\\sin{\\left(x \\right)}}{x}\\right) \\sin{\\left(b^{x} \\right)} \\cos{\\left(x^{2} \\right)}}{\\sin{\\left(x \\right)}} - \\frac{12 a \\left(2 a x^{2} \\cos^{2}{\\left(x^{2} \\right)} + 2 x^{2} \\sin{\\left(x^{2} \\right)} - \\cos{\\left(x^{2} \\right)}\\right) \\left(\\frac{2 \\left(2 \\cos{\\left(x \\right)} - \\frac{\\sin{\\left(x \\right)}}{x}\\right) \\cos{\\left(x \\right)}}{\\sin{\\left(x \\right)}} + \\frac{2 \\left(\\sin^{2}{\\left(x \\right)} - \\cos^{2}{\\left(x \\right)} + \\frac{2 \\sin{\\left(x \\right)} \\cos{\\left(x \\right)}}{x} - \\frac{\\sin^{2}{\\left(x \\right)}}{x^{2}}\\right)}{\\sin{\\left(x \\right)}} - \\frac{2 \\cos{\\left(x \\right)} - \\frac{\\sin{\\left(x \\right)}}{x}}{x}\\right) \\sin{\\left(b^{x} \\right)}}{\\sin{\\left(x \\right)}} + 4 a \\left(4 a^{3} x^{4} \\cos^{4}{\\left(x^{2} \\right)} + 24 a^{2} x^{4} \\sin{\\left(x^{2} \\right)} \\cos^{2}{\\left(x^{2} \\right)} - 12 a^{2} x^{2} \\cos^{3}{\\left(x^{2} \\right)} + 12 a x^{4} \\sin^{2}{\\left(x^{2} \\right)} - 16 a x^{4} \\cos^{2}{\\left(x^{2} \\right)} - 36 a x^{2} \\sin{\\left(x^{2} \\right)} \\cos{\\left(x^{2} \\right)} + 3 a \\cos^{2}{\\left(x^{2} \\right)} - 4 x^{4} \\sin{\\left(x^{2} \\right)} + 12 x^{2} \\cos{\\left(x^{2} \\right)} + 3 \\sin{\\left(x^{2} \\right)}\\right) \\log{\\left(\\frac{c \\sin^{2}{\\left(x \\right)}}{x} \\right)} \\sin{\\left(b^{x} \\right)} + \\frac{6 b^{x} \\left(b^{x} \\sin{\\left(b^{x} \\right)} - \\cos{\\left(b^{x} \\right)}\\right) \\left(\\frac{2 \\left(2 \\cos{\\left(x \\right)} - \\frac{\\sin{\\left(x \\right)}}{x}\\right) \\cos{\\left(x \\right)}}{\\sin{\\left(x \\right)}} + \\frac{2 \\left(\\sin^{2}{\\left(x \\right)} - \\cos^{2}{\\left(x \\right)} + \\frac{2 \\sin{\\left(x \\right)} \\cos{\\left(x \\right)}}{x} - \\frac{\\sin^{2}{\\left(x \\right)}}{x^{2}}\\right)}{\\sin{\\left(x \\right)}} - \\frac{2 \\cos{\\left(x \\right)} - \\frac{\\sin{\\left(x \\right)}}{x}}{x}\\right) \\log{\\left(b \\right)}^{2}}{\\sin{\\left(x \\right)}} - \\frac{4 b^{x} \\left(2 \\cos{\\left(x \\right)} - \\frac{\\sin{\\left(x \\right)}}{x}\\right) \\left(b^{2 x} \\cos{\\left(b^{x} \\right)} + 3 b^{x} \\sin{\\left(b^{x} \\right)} - \\cos{\\left(b^{x} \\right)}\\right) \\log{\\left(b \\right)}^{3}}{\\sin{\\left(x \\right)}} + b^{x} \\left(b^{3 x} \\sin{\\left(b^{x} \\right)} - 6 b^{2 x} \\cos{\\left(b^{x} \\right)} - 7 b^{x} \\sin{\\left(b^{x} \\right)} + \\cos{\\left(b^{x} \\right)}\\right) \\log{\\left(b \\right)}^{4} \\log{\\left(\\frac{c \\sin^{2}{\\left(x \\right)}}{x} \\right)} - \\frac{8 b^{x} \\left(- \\frac{3 \\left(2 \\cos{\\left(x \\right)} - \\frac{\\sin{\\left(x \\right)}}{x}\\right) \\cos^{2}{\\left(x \\right)}}{\\sin^{2}{\\left(x \\right)}} - \\frac{4 \\left(\\sin^{2}{\\left(x \\right)} - \\cos^{2}{\\left(x \\right)} + \\frac{2 \\sin{\\left(x \\right)} \\cos{\\left(x \\right)}}{x} - \\frac{\\sin^{2}{\\left(x \\right)}}{x^{2}}\\right) \\cos{\\left(x \\right)}}{\\sin^{2}{\\left(x \\right)}} + \\frac{4 \\sin{\\left(x \\right)} \\cos{\\left(x \\right)} - \\frac{3 \\sin^{2}{\\left(x \\right)}}{x} + \\frac{3 \\cos^{2}{\\left(x \\right)}}{x} - \\frac{6 \\sin{\\left(x \\right)} \\cos{\\left(x \\right)}}{x^{2}} + \\frac{3 \\sin^{2}{\\left(x \\right)}}{x^{3}}}{\\sin{\\left(x \\right)}} - 2 \\cos{\\left(x \\right)} + \\frac{2 \\left(2 \\cos{\\left(x \\right)} - \\frac{\\sin{\\left(x \\right)}}{x}\\right) \\cos{\\left(x \\right)}}{x \\sin{\\left(x \\right)}} + \\frac{2 \\left(\\sin^{2}{\\left(x \\right)} - \\cos^{2}{\\left(x \\right)} + \\frac{2 \\sin{\\left(x \\right)} \\cos{\\left(x \\right)}}{x} - \\frac{\\sin^{2}{\\left(x \\right)}}{x^{2}}\\right)}{x \\sin{\\left(x \\right)}} + \\frac{\\sin{\\left(x \\right)}}{x}\\right) \\log{\\left(b \\right)} \\cos{\\left(b^{x} \\right)}}{\\sin{\\left(x \\right)}} - \\frac{2 \\left(\\frac{8 \\left(2 \\cos{\\left(x \\right)} - \\frac{\\sin{\\left(x \\right)}}{x}\\right) \\cos{\\left(x \\right)}}{\\sin{\\left(x \\right)}} + \\frac{12 \\left(2 \\cos{\\left(x \\right)} - \\frac{\\sin{\\left(x \\right)}}{x}\\right) \\cos^{3}{\\left(x \\right)}}{\\sin^{3}{\\left(x \\right)}} + \\frac{6 \\left(\\sin^{2}{\\left(x \\right)} - \\cos^{2}{\\left(x \\right)} + \\frac{2 \\sin{\\left(x \\right)} \\cos{\\left(x \\right)}}{x} - \\frac{\\sin^{2}{\\left(x \\right)}}{x^{2}}\\right)}{\\sin{\\left(x \\right)}} + \\frac{18 \\left(\\sin^{2}{\\left(x \\right)} - \\cos^{2}{\\left(x \\right)} + \\frac{2 \\sin{\\left(x \\right)} \\cos{\\left(x \\right)}}{x} - \\frac{\\sin^{2}{\\left(x \\right)}}{x^{2}}\\right) \\cos^{2}{\\left(x \\right)}}{\\sin^{3}{\\left(x \\right)}} - \\frac{6 \\left(4 \\sin{\\left(x \\right)} \\cos{\\left(x \\right)} - \\frac{3 \\sin^{2}{\\left(x \\right)}}{x} + \\frac{3 \\cos^{2}{\\left(x \\right)}}{x} - \\frac{6 \\sin{\\left(x \\right)} \\cos{\\left(x \\right)}}{x^{2}} + \\frac{3 \\sin^{2}{\\left(x \\right)}}{x^{3}}\\right) \\cos{\\left(x \\right)}}{\\sin^{2}{\\left(x \\right)}} - \\frac{4 \\left(\\sin^{2}{\\left(x \\right)} - \\cos^{2}{\\left(x \\right)} + \\frac{4 \\sin{\\left(x \\right)} \\cos{\\left(x \\right)}}{x} - \\frac{3 \\sin^{2}{\\left(x \\right)}}{x^{2}} + \\frac{3 \\cos^{2}{\\left(x \\right)}}{x^{2}} - \\frac{6 \\sin{\\left(x \\right)} \\cos{\\left(x \\right)}}{x^{3}} + \\frac{3 \\sin^{2}{\\left(x \\right)}}{x^{4}}\\right)}{\\sin{\\left(x \\right)}} - \\frac{3 \\left(2 \\cos{\\left(x \\right)} - \\frac{\\sin{\\left(x \\right)}}{x}\\right)}{x} - \\frac{9 \\left(2 \\cos{\\left(x \\right)} - \\frac{\\sin{\\left(x \\right)}}{x}\\right) \\cos^{2}{\\left(x \\right)}}{x \\sin^{2}{\\left(x \\right)}} - \\frac{12 \\left(\\sin^{2}{\\left(x \\right)} - \\cos^{2}{\\left(x \\right)} + \\frac{2 \\sin{\\left(x \\right)} \\cos{\\left(x \\right)}}{x} - \\frac{\\sin^{2}{\\left(x \\right)}}{x^{2}}\\right) \\cos{\\left(x \\right)}}{x \\sin^{2}{\\left(x \\right)}} + \\frac{3 \\left(4 \\sin{\\left(x \\right)} \\cos{\\left(x \\right)} - \\frac{3 \\sin^{2}{\\left(x \\right)}}{x} + \\frac{3 \\cos^{2}{\\left(x \\right)}}{x} - \\frac{6 \\sin{\\left(x \\right)} \\cos{\\left(x \\right)}}{x^{2}} + \\frac{3 \\sin^{2}{\\left(x \\right)}}{x^{3}}\\right)}{x \\sin{\\left(x \\right)}}\\right) \\sin{\\left(b^{x} \\right)}}{\\sin{\\left(x \\right)}}\\right) e^{- a \\sin{\\left(x^{2} \\right)}}$"
      ],
      "text/plain": [
       "(24*a*b**x*x*(b**x*sin(b**x) - cos(b**x))*(2*cos(x) - sin(x)/x)*log(b)**2*cos(x**2)/sin(x) + 8*a*b**x*x*(b**(2*x)*cos(b**x) + 3*b**x*sin(b**x) - cos(b**x))*log(b)**3*log(c*sin(x)**2/x)*cos(x**2) + 24*a*b**x*x*(2*(2*cos(x) - sin(x)/x)*cos(x)/sin(x) + 2*(sin(x)**2 - cos(x)**2 + 2*sin(x)*cos(x)/x - sin(x)**2/x**2)/sin(x) - (2*cos(x) - sin(x)/x)/x)*log(b)*cos(b**x)*cos(x**2)/sin(x) + 16*a*b**x*x*(-2*a**2*x**2*cos(x**2)**3 - 6*a*x**2*sin(x**2)*cos(x**2) + 3*a*cos(x**2)**2 + 2*x**2*cos(x**2) + 3*sin(x**2))*log(b)*log(c*sin(x)**2/x)*cos(b**x) - 12*a*b**x*(b**x*sin(b**x) - cos(b**x))*(2*a*x**2*cos(x**2)**2 + 2*x**2*sin(x**2) - cos(x**2))*log(b)**2*log(c*sin(x)**2/x) + 24*a*b**x*(2*cos(x) - sin(x)/x)*(2*a*x**2*cos(x**2)**2 + 2*x**2*sin(x**2) - cos(x**2))*log(b)*cos(b**x)/sin(x) + 16*a*x*(2*cos(x) - sin(x)/x)*(-2*a**2*x**2*cos(x**2)**3 - 6*a*x**2*sin(x**2)*cos(x**2) + 3*a*cos(x**2)**2 + 2*x**2*cos(x**2) + 3*sin(x**2))*sin(b**x)/sin(x) + 16*a*x*(-3*(2*cos(x) - sin(x)/x)*cos(x)**2/sin(x)**2 - 4*(sin(x)**2 - cos(x)**2 + 2*sin(x)*cos(x)/x - sin(x)**2/x**2)*cos(x)/sin(x)**2 + (4*sin(x)*cos(x) - 3*sin(x)**2/x + 3*cos(x)**2/x - 6*sin(x)*cos(x)/x**2 + 3*sin(x)**2/x**3)/sin(x) - 2*cos(x) + 2*(2*cos(x) - sin(x)/x)*cos(x)/(x*sin(x)) + 2*(sin(x)**2 - cos(x)**2 + 2*sin(x)*cos(x)/x - sin(x)**2/x**2)/(x*sin(x)) + sin(x)/x)*sin(b**x)*cos(x**2)/sin(x) - 12*a*(2*a*x**2*cos(x**2)**2 + 2*x**2*sin(x**2) - cos(x**2))*(2*(2*cos(x) - sin(x)/x)*cos(x)/sin(x) + 2*(sin(x)**2 - cos(x)**2 + 2*sin(x)*cos(x)/x - sin(x)**2/x**2)/sin(x) - (2*cos(x) - sin(x)/x)/x)*sin(b**x)/sin(x) + 4*a*(4*a**3*x**4*cos(x**2)**4 + 24*a**2*x**4*sin(x**2)*cos(x**2)**2 - 12*a**2*x**2*cos(x**2)**3 + 12*a*x**4*sin(x**2)**2 - 16*a*x**4*cos(x**2)**2 - 36*a*x**2*sin(x**2)*cos(x**2) + 3*a*cos(x**2)**2 - 4*x**4*sin(x**2) + 12*x**2*cos(x**2) + 3*sin(x**2))*log(c*sin(x)**2/x)*sin(b**x) + 6*b**x*(b**x*sin(b**x) - cos(b**x))*(2*(2*cos(x) - sin(x)/x)*cos(x)/sin(x) + 2*(sin(x)**2 - cos(x)**2 + 2*sin(x)*cos(x)/x - sin(x)**2/x**2)/sin(x) - (2*cos(x) - sin(x)/x)/x)*log(b)**2/sin(x) - 4*b**x*(2*cos(x) - sin(x)/x)*(b**(2*x)*cos(b**x) + 3*b**x*sin(b**x) - cos(b**x))*log(b)**3/sin(x) + b**x*(b**(3*x)*sin(b**x) - 6*b**(2*x)*cos(b**x) - 7*b**x*sin(b**x) + cos(b**x))*log(b)**4*log(c*sin(x)**2/x) - 8*b**x*(-3*(2*cos(x) - sin(x)/x)*cos(x)**2/sin(x)**2 - 4*(sin(x)**2 - cos(x)**2 + 2*sin(x)*cos(x)/x - sin(x)**2/x**2)*cos(x)/sin(x)**2 + (4*sin(x)*cos(x) - 3*sin(x)**2/x + 3*cos(x)**2/x - 6*sin(x)*cos(x)/x**2 + 3*sin(x)**2/x**3)/sin(x) - 2*cos(x) + 2*(2*cos(x) - sin(x)/x)*cos(x)/(x*sin(x)) + 2*(sin(x)**2 - cos(x)**2 + 2*sin(x)*cos(x)/x - sin(x)**2/x**2)/(x*sin(x)) + sin(x)/x)*log(b)*cos(b**x)/sin(x) - 2*(8*(2*cos(x) - sin(x)/x)*cos(x)/sin(x) + 12*(2*cos(x) - sin(x)/x)*cos(x)**3/sin(x)**3 + 6*(sin(x)**2 - cos(x)**2 + 2*sin(x)*cos(x)/x - sin(x)**2/x**2)/sin(x) + 18*(sin(x)**2 - cos(x)**2 + 2*sin(x)*cos(x)/x - sin(x)**2/x**2)*cos(x)**2/sin(x)**3 - 6*(4*sin(x)*cos(x) - 3*sin(x)**2/x + 3*cos(x)**2/x - 6*sin(x)*cos(x)/x**2 + 3*sin(x)**2/x**3)*cos(x)/sin(x)**2 - 4*(sin(x)**2 - cos(x)**2 + 4*sin(x)*cos(x)/x - 3*sin(x)**2/x**2 + 3*cos(x)**2/x**2 - 6*sin(x)*cos(x)/x**3 + 3*sin(x)**2/x**4)/sin(x) - 3*(2*cos(x) - sin(x)/x)/x - 9*(2*cos(x) - sin(x)/x)*cos(x)**2/(x*sin(x)**2) - 12*(sin(x)**2 - cos(x)**2 + 2*sin(x)*cos(x)/x - sin(x)**2/x**2)*cos(x)/(x*sin(x)**2) + 3*(4*sin(x)*cos(x) - 3*sin(x)**2/x + 3*cos(x)**2/x - 6*sin(x)*cos(x)/x**2 + 3*sin(x)**2/x**3)/(x*sin(x)))*sin(b**x)/sin(x))*exp(-a*sin(x**2))"
      ]
     },
     "execution_count": 5,
     "metadata": {},
     "output_type": "execute_result"
    }
   ],
   "source": [
    "d4fdx4=smp.diff(f,x,4)               #derivative of order 2 wrt x \n",
    "d4fdx4"
   ]
  },
  {
   "cell_type": "code",
   "execution_count": 49,
   "id": "b3c70366",
   "metadata": {},
   "outputs": [
    {
     "data": {
      "text/latex": [
       "$\\displaystyle 116.239800708873$"
      ],
      "text/plain": [
       "116.239800708873"
      ]
     },
     "execution_count": 49,
     "metadata": {},
     "output_type": "execute_result"
    }
   ],
   "source": [
    "#Derivative at a Point\n",
    "\n",
    "value=dfdx.subs([(x,4),(a,1),(b,2),(c,3)]).evalf()\n",
    "value"
   ]
  },
  {
   "cell_type": "markdown",
   "id": "53a0483b",
   "metadata": {},
   "source": [
    "# plotting"
   ]
  },
  {
   "cell_type": "code",
   "execution_count": null,
   "id": "6ea07cad",
   "metadata": {},
   "outputs": [],
   "source": [
    "#Predefined Function\n",
    "\n",
    "\n",
    "\n",
    "def f(x):\n",
    "    return smp.tan(2*x)\n",
    "   \n",
    "#=smp.symbols('x')\n",
    "#=a*x**3+b*x**2+c*x                  #writing the function again so that it becomes symbolic \n",
    "\n",
    "#1=smp.diff(F,x)                     #D1 is in symbolic form as its derived using 'sympy'\n",
    "#1_f=smp.lambdify((x,a,b,c),D1)      #converting the symbolic form into a numeric form to make it plot-ready\n",
    "\n",
    "\n",
    "x=np.linspace(-4*np.pi,4*np.pi,100)\n",
    "y=f(x)\n",
    "#yy=D1_f(x,a=3,b=9,c=27)           #when you assigning the values to the args. in a func converted from symbolic using lambdify, dont just assign the values as f(x,3,9,27), assign them seperately as f(x,a=3,b=9,c=27)\n",
    "\n",
    "plt.figure(figsize=(10,5))\n",
    "plt.xticks(color=\"white\")\n",
    "plt.yticks(color=\"white\")\n",
    "plt.grid()\n",
    "plt.title('TestPlot',color='white',fontsize=15)\n",
    "plt.xlabel('$x$',color='white')\n",
    "\n",
    "\n",
    "plt.plot(y,linestyle='--',color='red',label='y vs x')                #by default it will plot against x\n",
    "#plt.plot(yy,linestyle='-.',color='blue',label='dy/dx vs x')\n",
    "\n",
    "\n",
    "plt.legend(title='Lines',labelcolor=['red','blue'],facecolor='lightgrey',loc='upper left')\n",
    "#plt.legend(prop={'weight':'bold', 'size':15})              #these two lines (the upper one and this one) will not be effective simultaneously."
   ]
  },
  {
   "cell_type": "code",
   "execution_count": null,
   "id": "d173f95c",
   "metadata": {},
   "outputs": [],
   "source": []
  }
 ],
 "metadata": {
  "kernelspec": {
   "display_name": "Python 3",
   "language": "python",
   "name": "python3"
  },
  "language_info": {
   "codemirror_mode": {
    "name": "ipython",
    "version": 3
   },
   "file_extension": ".py",
   "mimetype": "text/x-python",
   "name": "python",
   "nbconvert_exporter": "python",
   "pygments_lexer": "ipython3",
   "version": "3.8.8"
  }
 },
 "nbformat": 4,
 "nbformat_minor": 5
}
