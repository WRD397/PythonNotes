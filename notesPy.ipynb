{
 "cells": [
  {
   "cell_type": "markdown",
   "metadata": {},
   "source": [
    "Swap two variables"
   ]
  },
  {
   "cell_type": "code",
   "execution_count": 4,
   "metadata": {},
   "outputs": [
    {
     "name": "stdout",
     "output_type": "stream",
     "text": [
      "a = [3, 2, 1]\n",
      "b = [1, 2, 3]\n",
      "c = [8, 9, 10]\n",
      "d = [5, 6, 7]\n"
     ]
    }
   ],
   "source": [
    "a=[1,2,3]\n",
    "b=[3,2,1]\n",
    "\n",
    "#swapping a and b\n",
    "tmp=a         #it empties the variable a as the value of a goes to tmp\n",
    "a=b\n",
    "b=tmp \n",
    "print(\"a =\", a)\n",
    "print(\"b =\", b)\n",
    "\n",
    "#####T R I C K#####\n",
    "c=[5,6,7]\n",
    "d=[8,9,10]\n",
    "\n",
    "#swapping\n",
    "c,d=d,c\n",
    "print(\"c =\",c)\n",
    "print(\"d =\",d)\n"
   ]
  },
  {
   "cell_type": "markdown",
   "metadata": {},
   "source": []
  }
 ],
 "metadata": {
  "interpreter": {
   "hash": "af48433064443deead373d3655a34402dd7aa2a545508497f616e9ce5086c9c6"
  },
  "kernelspec": {
   "display_name": "Python 3.9.7 ('base')",
   "language": "python",
   "name": "python3"
  },
  "language_info": {
   "codemirror_mode": {
    "name": "ipython",
    "version": 3
   },
   "file_extension": ".py",
   "mimetype": "text/x-python",
   "name": "python",
   "nbconvert_exporter": "python",
   "pygments_lexer": "ipython3",
   "version": "3.9.7"
  },
  "orig_nbformat": 4
 },
 "nbformat": 4,
 "nbformat_minor": 2
}
