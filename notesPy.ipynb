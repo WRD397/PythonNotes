{
 "cells": [
  {
   "cell_type": "markdown",
   "metadata": {},
   "source": [
    "Swap two variables"
   ]
  },
  {
   "cell_type": "code",
   "execution_count": 4,
   "metadata": {},
   "outputs": [
    {
     "name": "stdout",
     "output_type": "stream",
     "text": [
      "a = [3, 2, 1]\n",
      "b = [1, 2, 3]\n",
      "c = [8, 9, 10]\n",
      "d = [5, 6, 7]\n"
     ]
    }
   ],
   "source": [
    "a=[1,2,3]\n",
    "b=[3,2,1]\n",
    "\n",
    "#swapping a and b\n",
    "tmp=a         #it empties the variable a as the value of a goes to tmp\n",
    "a=b\n",
    "b=tmp \n",
    "print(\"a =\", a)\n",
    "print(\"b =\", b)\n",
    "\n",
    "##### T R I C K #####\n",
    "c=[5,6,7]\n",
    "d=[8,9,10]\n",
    "\n",
    "#swapping\n",
    "c,d=d,c\n",
    "print(\"c =\",c)\n",
    "print(\"d =\",d)\n"
   ]
  },
  {
   "cell_type": "markdown",
   "metadata": {},
   "source": [
    "min term and max term"
   ]
  },
  {
   "cell_type": "code",
   "execution_count": 2,
   "metadata": {},
   "outputs": [
    {
     "name": "stdout",
     "output_type": "stream",
     "text": [
      "minimum = 5\n",
      "maximum = 106\n"
     ]
    }
   ],
   "source": [
    "a=[5,106,79]\n",
    "minimum = min (a)\n",
    "maximum = max (a)\n",
    "\n",
    "print(\"minimum =\",minimum)\n",
    "print(\"maximum =\",maximum)\n",
    "\n"
   ]
  },
  {
   "cell_type": "markdown",
   "metadata": {},
   "source": [
    "Defining a function with optional argument"
   ]
  },
  {
   "cell_type": "code",
   "execution_count": 1,
   "metadata": {},
   "outputs": [],
   "source": [
    "def to_smash(total_candies,n=3):\n",
    "    \n",
    "    \n",
    "    \"\"\"Return the number of leftover candies that must be smashed after distributing the given number of candies evenly between n friends (by default n=3)\n",
    "    ie. if u dont mention n then n will be taken as 3\n",
    "    \"\"\"\n",
    "\n",
    "    return total_candies % n\n",
    "\n",
    " \n",
    "\n",
    "#Another example\n",
    "\"\"\"ie. if u mention who='some name', then it will print it..otherwise it will print collins...\"\"\"\n",
    "def greet(who='collins'):\n",
    "    print(greet(who))\n"
   ]
  },
  {
   "cell_type": "code",
   "execution_count": null,
   "metadata": {},
   "outputs": [],
   "source": [
    "greet()\n",
    "greet(who='Adam')\n",
    "greet(who='George')\n"
   ]
  },
  {
   "cell_type": "code",
   "execution_count": 9,
   "metadata": {},
   "outputs": [
    {
     "name": "stdout",
     "output_type": "stream",
     "text": [
      "1\n",
      "0\n",
      "3\n"
     ]
    }
   ],
   "source": [
    "print(to_smash(91))\n",
    "print(to_smash(15))\n",
    "print(to_smash(15,4))"
   ]
  },
  {
   "cell_type": "markdown",
   "metadata": {},
   "source": [
    "Functions inside a Function"
   ]
  },
  {
   "cell_type": "code",
   "execution_count": 1,
   "metadata": {},
   "outputs": [],
   "source": [
    "def multby5(x):\n",
    "    return 5*x"
   ]
  },
  {
   "cell_type": "code",
   "execution_count": 2,
   "metadata": {},
   "outputs": [
    {
     "name": "stdout",
     "output_type": "stream",
     "text": [
      "5 \n",
      " 25\n"
     ]
    }
   ],
   "source": [
    "print(\n",
    "    multby5(1),'\\n',\n",
    "    multby5(5)\n",
    ")"
   ]
  },
  {
   "cell_type": "code",
   "execution_count": 3,
   "metadata": {},
   "outputs": [],
   "source": [
    "#SIMILARLY\n",
    "def call(fn,arg):\n",
    "    return fn(arg)\n",
    "\n",
    "def sqrdcall(fn,arg):\n",
    "    return fn(fn(arg))\n",
    "\n"
   ]
  },
  {
   "cell_type": "code",
   "execution_count": 4,
   "metadata": {},
   "outputs": [
    {
     "name": "stdout",
     "output_type": "stream",
     "text": [
      "5 \n",
      " 25\n"
     ]
    }
   ],
   "source": [
    "print(\n",
    "    call(multby5,1),'\\n',\n",
    "    sqrdcall(multby5,1)\n",
    "    )"
   ]
  },
  {
   "cell_type": "code",
   "execution_count": 6,
   "metadata": {},
   "outputs": [
    {
     "name": "stdout",
     "output_type": "stream",
     "text": [
      "which number is biggest ?? among 100,51,14 =  100 \n",
      " which number is the biggest modulo 5? =  14\n"
     ]
    }
   ],
   "source": [
    "def mod_5(x):\n",
    "    \"\"\"Return the reminder of x ater dividing by 5\"\"\"\n",
    "    return x % 5\n",
    "\n",
    "print (\n",
    "    \"which number is biggest ?? among 100,51,14 = \", max(100,50,14),'\\n',\n",
    "    \"which number is the biggest modulo 5? = \",max(100,51,14,key=mod_5)\n",
    ")"
   ]
  },
  {
   "cell_type": "markdown",
   "metadata": {},
   "source": [
    "Rounding Off\n"
   ]
  },
  {
   "cell_type": "code",
   "execution_count": 12,
   "metadata": {},
   "outputs": [
    {
     "name": "stdout",
     "output_type": "stream",
     "text": [
      "500.0\n",
      "490.0\n",
      "1000.0\n"
     ]
    }
   ],
   "source": [
    "\"\"\"\n",
    "the ndigit positive means it will simply round off upto that decimal points..\n",
    "\n",
    "in help(round) it's mentioend that ndigits can be negative. It means...\n",
    "-1 means it will round off to nearest 10\n",
    "-2 means it will round off to nearest 100\n",
    ".\n",
    ".\n",
    ".\n",
    "\"\"\"\n",
    "\n",
    "print (round(488.56,-2))\n",
    "print (round(488.56,-1))\n",
    "print (round(688.36,-3))"
   ]
  }
 ],
 "metadata": {
  "interpreter": {
   "hash": "af48433064443deead373d3655a34402dd7aa2a545508497f616e9ce5086c9c6"
  },
  "kernelspec": {
   "display_name": "Python 3.9.7 ('base')",
   "language": "python",
   "name": "python3"
  },
  "language_info": {
   "codemirror_mode": {
    "name": "ipython",
    "version": 3
   },
   "file_extension": ".py",
   "mimetype": "text/x-python",
   "name": "python",
   "nbconvert_exporter": "python",
   "pygments_lexer": "ipython3",
   "version": "3.10.4"
  },
  "orig_nbformat": 4
 },
 "nbformat": 4,
 "nbformat_minor": 2
}
