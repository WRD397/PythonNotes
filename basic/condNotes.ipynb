{
 "cells": [
  {
   "cell_type": "markdown",
   "metadata": {},
   "source": [
    "Booleans"
   ]
  },
  {
   "cell_type": "code",
   "execution_count": 1,
   "metadata": {},
   "outputs": [
    {
     "name": "stdout",
     "output_type": "stream",
     "text": [
      "<class 'bool'>\n"
     ]
    }
   ],
   "source": [
    "x=True\n",
    "print(type(x))"
   ]
  },
  {
   "cell_type": "code",
   "execution_count": 2,
   "metadata": {},
   "outputs": [
    {
     "name": "stdout",
     "output_type": "stream",
     "text": [
      "False\n",
      "True\n",
      "True\n"
     ]
    }
   ],
   "source": [
    "### Some boolean expressions\n",
    "print (50==30)\n",
    "print (50>=30)\n",
    "print (50!=30)"
   ]
  },
  {
   "cell_type": "code",
   "execution_count": 1,
   "metadata": {},
   "outputs": [
    {
     "name": "stdout",
     "output_type": "stream",
     "text": [
      "False\n",
      "False\n",
      "True\n"
     ]
    }
   ],
   "source": [
    "def can_run_for_pres(age,is_natural_born):\n",
    "    return (age>=35) and is_natural_born\n",
    "    ##ie. the age has to be in accordance to this condition as well as the 'is_natural_born part has to be 'True'.\n",
    "    ##'and' , 'or' , 'not' can be used to combine multiple boolean values.\n",
    "\n",
    "\"\"\"ie. to run for president position u gotta be minimum 35 years old and a natural born US citizenship\"\"\"\n",
    "\n",
    "print (can_run_for_pres(19,True))       ##ie. we as the 'is_natural_born' part is not a string so we can use boolean value 'True' or 'False' to represent whether this part true or not\n",
    "print (can_run_for_pres(35,False))\n",
    "print (can_run_for_pres(69,True))"
   ]
  },
  {
   "cell_type": "code",
   "execution_count": 2,
   "metadata": {},
   "outputs": [
    {
     "data": {
      "text/plain": [
       "True"
      ]
     },
     "execution_count": 2,
     "metadata": {},
     "output_type": "execute_result"
    }
   ],
   "source": [
    "True or True and False  ##as And operation precedes over Or operation"
   ]
  },
  {
   "cell_type": "markdown",
   "metadata": {},
   "source": [
    "A Kaggle Problem"
   ]
  },
  {
   "cell_type": "code",
   "execution_count": 1,
   "metadata": {},
   "outputs": [],
   "source": [
    "\"\"\"The boolena variables #ketchup , #mustard , #onion represent wether a customer wants a particular topping on their hot dog. We want to implement a number of boolean function that correspond to some yes-no question about the customer's order. For example...\"\"\"\n",
    "\n",
    "def onionless(ketchup, mustard,onion):\n",
    "    #return whether the customer does'nt want onions.\n",
    "    return not onion "
   ]
  },
  {
   "cell_type": "code",
   "execution_count": 2,
   "metadata": {},
   "outputs": [
    {
     "data": {
      "text/plain": [
       "True"
      ]
     },
     "execution_count": 2,
     "metadata": {},
     "output_type": "execute_result"
    }
   ],
   "source": [
    "onionless(True,True,False)"
   ]
  },
  {
   "cell_type": "code",
   "execution_count": 3,
   "metadata": {},
   "outputs": [],
   "source": [
    "\"\"\"Return whether the customer wants \"the works\" (all 3 toppings)\"\"\"\n",
    "def wants_all_toppings(ketchup, mustard, onion):\n",
    "    return ketchup and mustard and onion\n",
    "    "
   ]
  },
  {
   "cell_type": "code",
   "execution_count": 4,
   "metadata": {},
   "outputs": [],
   "source": [
    "\"\"\"Return whether the customer wants a plain hot dog with no toppings.\"\"\"\n",
    "\n",
    "def wants_plain_hotdog(ketchup, mustard, onion):\n",
    "    return not ( ketchup or mustard or onion )\n",
    "\n",
    "#not ketchup and not mustard and not onion \n",
    "#we can factor out using boolean algebra Abar.Bbar.Cbar=(A+B+C)bar"
   ]
  },
  {
   "cell_type": "code",
   "execution_count": 5,
   "metadata": {},
   "outputs": [],
   "source": [
    " \"\"\"Return whether the customer wants either ketchup or mustard, but not both. You may be familiar with this operation under the name \"exclusive or\")\"\"\"\n",
    "def exactly_one_sauce(ketchup, mustard, onion):\n",
    "    \n",
    "    return ketchup ^ mustard\n",
    "\n",
    "    # ^ sign reprsents EX OR operation\n",
    "    "
   ]
  },
  {
   "cell_type": "code",
   "execution_count": 6,
   "metadata": {},
   "outputs": [
    {
     "data": {
      "text/plain": [
       "True"
      ]
     },
     "execution_count": 6,
     "metadata": {},
     "output_type": "execute_result"
    }
   ],
   "source": [
    "exactly_one_sauce(False,True,False)"
   ]
  },
  {
   "cell_type": "code",
   "execution_count": null,
   "metadata": {},
   "outputs": [],
   "source": [
    "\"\"\"\n",
    "######IMPORTANT\n",
    "\n",
    "We’ve seen that calling bool() on an integer returns False if it’s equal to 0 and True otherwise. What happens if we call int() on a bool? Try it out in the notebook cell below.\n",
    "Can you take advantage of this to write a succinct function that corresponds to the English sentence \"does the customer want exactly one topping?\"?\n",
    "\"\"\"\n"
   ]
  },
  {
   "cell_type": "code",
   "execution_count": null,
   "metadata": {},
   "outputs": [],
   "source": [
    "\n",
    "\"\"\"Return whether the customer wants exactly one of the three available toppings\n",
    "    on their hot dog.\"\"\"\n",
    "def exactly_one_topping(ketchup, mustard, onion):\n",
    "    return int(ketchup)+int(mustard)+int(onion)==1\n",
    "    \n",
    "###ie. int(true)=1 and int(false)=0 so , only 1 0 0 , 0 1 0, 0 0 1 states are allowed.\n",
    "# ie. only the algebric summation equals 1 is allowed "
   ]
  },
  {
   "cell_type": "code",
   "execution_count": null,
   "metadata": {},
   "outputs": [],
   "source": [
    "\"\"\"METHOD 2\"\"\"\n",
    "def exactly_one_topping(ketchup, mustard, onion):\n",
    "    if (ketchup==True and mustard==True and onion==True):\n",
    "        return int (False) \n",
    "    else :\n",
    "        return int (ketchup ^ mustard ^ onion) \n"
   ]
  },
  {
   "cell_type": "code",
   "execution_count": 3,
   "metadata": {},
   "outputs": [
    {
     "ename": "NameError",
     "evalue": "name 'have_umbrella' is not defined",
     "output_type": "error",
     "traceback": [
      "\u001b[1;31m---------------------------------------------------------------------------\u001b[0m",
      "\u001b[1;31mNameError\u001b[0m                                 Traceback (most recent call last)",
      "\u001b[1;32me:\\VSCode\\Python\\condNotes.ipynb Cell 6'\u001b[0m in \u001b[0;36m<cell line: 7>\u001b[1;34m()\u001b[0m\n\u001b[0;32m      <a href='vscode-notebook-cell:/e%3A/VSCode/Python/condNotes.ipynb#ch0000005?line=0'>1</a>\u001b[0m \u001b[39m\"\"\"I am safe from weather...\u001b[39;00m\n\u001b[0;32m      <a href='vscode-notebook-cell:/e%3A/VSCode/Python/condNotes.ipynb#ch0000005?line=1'>2</a>\u001b[0m \u001b[39m. if I have an umbrella...\u001b[39;00m\n\u001b[0;32m      <a href='vscode-notebook-cell:/e%3A/VSCode/Python/condNotes.ipynb#ch0000005?line=2'>3</a>\u001b[0m \u001b[39m. or if the rain isn't too heavy and I have a hood...\u001b[39;00m\n\u001b[0;32m      <a href='vscode-notebook-cell:/e%3A/VSCode/Python/condNotes.ipynb#ch0000005?line=3'>4</a>\u001b[0m \u001b[39m. otherwise, I'm still fine unless it's raining and it's a workday\u001b[39;00m\n\u001b[0;32m      <a href='vscode-notebook-cell:/e%3A/VSCode/Python/condNotes.ipynb#ch0000005?line=4'>5</a>\u001b[0m \u001b[39m\"\"\"\u001b[39;00m\n\u001b[0;32m      <a href='vscode-notebook-cell:/e%3A/VSCode/Python/condNotes.ipynb#ch0000005?line=5'>6</a>\u001b[0m prepared_for_weather \u001b[39m=\u001b[39m (\n\u001b[1;32m----> <a href='vscode-notebook-cell:/e%3A/VSCode/Python/condNotes.ipynb#ch0000005?line=6'>7</a>\u001b[0m     have_umbrella\n\u001b[0;32m      <a href='vscode-notebook-cell:/e%3A/VSCode/Python/condNotes.ipynb#ch0000005?line=7'>8</a>\u001b[0m     \u001b[39mor\u001b[39;00m ((rain \u001b[39m<\u001b[39m \u001b[39m5\u001b[39m) \u001b[39mand\u001b[39;00m have_hood)\n\u001b[0;32m      <a href='vscode-notebook-cell:/e%3A/VSCode/Python/condNotes.ipynb#ch0000005?line=8'>9</a>\u001b[0m     \u001b[39mor\u001b[39;00m (\u001b[39mnot\u001b[39;00m (rain \u001b[39m>\u001b[39m \u001b[39m0\u001b[39m \u001b[39mand\u001b[39;00m is_workday))\n\u001b[0;32m     <a href='vscode-notebook-cell:/e%3A/VSCode/Python/condNotes.ipynb#ch0000005?line=9'>10</a>\u001b[0m )\n",
      "\u001b[1;31mNameError\u001b[0m: name 'have_umbrella' is not defined"
     ]
    }
   ],
   "source": [
    "\"\"\"I am safe from weather...\n",
    ". if I have an umbrella...\n",
    ". or if the rain isn't too heavy and I have a hood...\n",
    ". otherwise, I'm still fine unless it's raining and it's a workday\n",
    "\"\"\"\n",
    "\n",
    "\"\"\"\n",
    "prepared_for_weather = (\n",
    "    have_umbrella\n",
    "    or ((rain < 5) and have_hood)\n",
    "    or (not (rain > 0 and is_workday))\n",
    ") \"\"\""
   ]
  }
 ],
 "metadata": {
  "interpreter": {
   "hash": "882a8addb5a32e5e18b8cddcdf3ac52d873ca6e47cfe2accaa2b2a4a7bd8ae01"
  },
  "kernelspec": {
   "display_name": "Python 3.10.4 64-bit",
   "language": "python",
   "name": "python3"
  },
  "language_info": {
   "codemirror_mode": {
    "name": "ipython",
    "version": 3
   },
   "file_extension": ".py",
   "mimetype": "text/x-python",
   "name": "python",
   "nbconvert_exporter": "python",
   "pygments_lexer": "ipython3",
   "version": "3.10.4"
  },
  "orig_nbformat": 4
 },
 "nbformat": 4,
 "nbformat_minor": 2
}
