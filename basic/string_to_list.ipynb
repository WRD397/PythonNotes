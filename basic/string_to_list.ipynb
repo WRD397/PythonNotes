{
 "cells": [
  {
   "cell_type": "code",
   "execution_count": 3,
   "metadata": {},
   "outputs": [
    {
     "name": "stdout",
     "output_type": "stream",
     "text": [
      "The original string is : GeeksforGeeks\n",
      "The resultant list of characters :  ['G', 'e', 'e', 'k', 's', 'f', 'o', 'r', 'G', 'e', 'e', 'k', 's']\n"
     ]
    }
   ],
   "source": [
    "# Python3 code to demonstrate\n",
    "# splitting string to list of characters.\n",
    "# using list slicing\n",
    "\n",
    "# initializing string\n",
    "test_string = \"GeeksforGeeks\"\n",
    "\n",
    "# printing original string\n",
    "print (\"The original string is : \" + str(test_string))\n",
    "\n",
    "# using list slicing\n",
    "# for splitting string to list of characters\n",
    "res = []\n",
    "res[:] = test_string\n",
    "\n",
    "# printing result\n",
    "print (\"The resultant list of characters : \", res)"
   ]
  },
  {
   "cell_type": "markdown",
   "metadata": {},
   "source": [
    "### OR, USING list()"
   ]
  },
  {
   "cell_type": "code",
   "execution_count": 4,
   "metadata": {},
   "outputs": [
    {
     "name": "stdout",
     "output_type": "stream",
     "text": [
      "The original string is : GeeksforGeeks\n",
      "The resultant list of characters : ['G', 'e', 'e', 'k', 's', 'f', 'o', 'r', 'G', 'e', 'e', 'k', 's']\n"
     ]
    }
   ],
   "source": [
    "# Python3 code to demonstrate\n",
    "# splitting string to list of characters.\n",
    "# using list()\n",
    "\n",
    "# initializing string\n",
    "test_string = \"GeeksforGeeks\"\n",
    "\n",
    "# printing original string\n",
    "print (\"The original string is : \" + test_string)\n",
    "\n",
    "# using list()\n",
    "# for splitting string to list of characters\n",
    "res = list(test_string)\n",
    "\n",
    "# printing result\n",
    "print (\"The resultant list of characters : {}\".format(res))\n"
   ]
  },
  {
   "cell_type": "markdown",
   "metadata": {},
   "source": [
    "### OR, map( lambda )"
   ]
  },
  {
   "cell_type": "code",
   "execution_count": 5,
   "metadata": {},
   "outputs": [
    {
     "name": "stdout",
     "output_type": "stream",
     "text": [
      "The original string is : GeeksforGeeks\n",
      "The resultant list of characters :  ['G', 'e', 'e', 'k', 's', 'f', 'o', 'r', 'G', 'e', 'e', 'k', 's']\n"
     ]
    }
   ],
   "source": [
    "# Python3 code to demonstrate\n",
    "# splitting string to list of characters.\n",
    "# using map() + lambda\n",
    "\n",
    "# initializing string\n",
    "test_string = \"GeeksforGeeks\"\n",
    "\n",
    "# printing original string\n",
    "print (\"The original string is : \" + str(test_string))\n",
    "\n",
    "# using map() + lambda\n",
    "# for splitting string to list of characters\n",
    "res = list(map(lambda i:i, test_string))\n",
    "\n",
    "# printing result\n",
    "print (\"The resultant list of characters : \",res)\n"
   ]
  }
 ],
 "metadata": {
  "interpreter": {
   "hash": "ac67a110c22b5a2dbfbee94e330edc65ab8c73ef4fe4729cecc84c9bf1ab600c"
  },
  "kernelspec": {
   "display_name": "Python 3.9.7 ('base')",
   "language": "python",
   "name": "python3"
  },
  "language_info": {
   "codemirror_mode": {
    "name": "ipython",
    "version": 3
   },
   "file_extension": ".py",
   "mimetype": "text/x-python",
   "name": "python",
   "nbconvert_exporter": "python",
   "pygments_lexer": "ipython3",
   "version": "3.9.7"
  },
  "orig_nbformat": 4
 },
 "nbformat": 4,
 "nbformat_minor": 2
}
