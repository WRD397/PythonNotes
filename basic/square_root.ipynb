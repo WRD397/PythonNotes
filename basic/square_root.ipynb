{
 "cells": [
  {
   "cell_type": "markdown",
   "metadata": {},
   "source": [
    "## NEWTON'S METHOD"
   ]
  },
  {
   "cell_type": "code",
   "execution_count": 1,
   "metadata": {},
   "outputs": [
    {
     "name": "stdout",
     "output_type": "stream",
     "text": [
      "10.0\n"
     ]
    }
   ],
   "source": [
    "def sqrt(num):\n",
    "    left = 0\n",
    "    right = num\n",
    "    mid = (left + right) / 2\n",
    "    sq = mid * mid\n",
    "    while sq != num:\n",
    "        if sq < num :\n",
    "            left = mid\n",
    "        else :\n",
    "            right = mid\n",
    "        mid = (left + right) / 2\n",
    "        sq = mid * mid\n",
    "    return mid\n",
    "print (sqrt(100))"
   ]
  },
  {
   "cell_type": "markdown",
   "metadata": {},
   "source": [
    "<p>but the code is still bugy. because the sq variable is not necessarily an integer number, it may be a float or a fraction number. In that case, it may happen that the sq will never be equal to num or will take too much time to be equal with it.Eg. you wont be able to det sqrt of 102 with this code </p>\n",
    "<p> so we change while sq != num to while abs(sq-num)>0.0000001 ie. a very small number. Thus if the difference becomes much smller then the loop will stop.</p>"
   ]
  },
  {
   "cell_type": "code",
   "execution_count": 4,
   "metadata": {},
   "outputs": [
    {
     "name": "stdout",
     "output_type": "stream",
     "text": [
      "10.099505424499512\n"
     ]
    }
   ],
   "source": [
    "def sqrt(num):\n",
    "    left = 0\n",
    "    right = num\n",
    "    mid = (left + right) / 2\n",
    "    sq = mid * mid\n",
    "    while abs(sq - num) > 0.0001:   ##to increase the accurace simply make this number much smaller\n",
    "        if sq < num :\n",
    "            left = mid\n",
    "        else :\n",
    "            right = mid\n",
    "        mid = (left + right) / 2\n",
    "        sq = mid * mid\n",
    "    return mid\n",
    "print (sqrt(102))"
   ]
  }
 ],
 "metadata": {
  "interpreter": {
   "hash": "ac67a110c22b5a2dbfbee94e330edc65ab8c73ef4fe4729cecc84c9bf1ab600c"
  },
  "kernelspec": {
   "display_name": "Python 3.9.7 ('base')",
   "language": "python",
   "name": "python3"
  },
  "language_info": {
   "codemirror_mode": {
    "name": "ipython",
    "version": 3
   },
   "file_extension": ".py",
   "mimetype": "text/x-python",
   "name": "python",
   "nbconvert_exporter": "python",
   "pygments_lexer": "ipython3",
   "version": "3.9.7"
  },
  "orig_nbformat": 4
 },
 "nbformat": 4,
 "nbformat_minor": 2
}
