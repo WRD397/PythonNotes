{
 "cells": [
  {
   "cell_type": "code",
   "execution_count": 1,
   "metadata": {},
   "outputs": [],
   "source": [
    "s = 'abcdefghijklmnopqurtuvwxyz ABCDEFGHIJKLMNOPQRSTUVWXYZ 1234567890 abcdef .[{()\\^$|?*+ scalerab.com scaler.com 321-555-4321 123.555.1234 Mr. Varma Mr Anant Ms Nandini Mrs. Singh Mr. T writd97@gmail.com writ.in.gargi.gmail.com k@yahoo.com lkjll.in writ.in.gargi@gmail.com writ.abrata.ds@gmail.ac.in davemartin@bogusemail.com'"
   ]
  },
  {
   "cell_type": "code",
   "execution_count": 31,
   "metadata": {},
   "outputs": [],
   "source": [
    "import re\n",
    "def finder(pattern,s) :\n",
    "    it = re.finditer(pattern,s)\n",
    "    return it "
   ]
  },
  {
   "cell_type": "markdown",
   "metadata": {},
   "source": [
    "## Find 'scaler.com'"
   ]
  },
  {
   "cell_type": "code",
   "execution_count": 26,
   "metadata": {},
   "outputs": [
    {
     "data": {
      "text/plain": [
       "[<re.Match object; span=(98, 108), match='scaler.com'>]"
      ]
     },
     "execution_count": 26,
     "metadata": {},
     "output_type": "execute_result"
    }
   ],
   "source": [
    "pattern = 'scaler\\.com'\n",
    "finder(pattern,s)"
   ]
  },
  {
   "cell_type": "markdown",
   "metadata": {},
   "source": [
    "## Parse the Phone Numbers"
   ]
  },
  {
   "cell_type": "code",
   "execution_count": 27,
   "metadata": {},
   "outputs": [
    {
     "data": {
      "text/plain": [
       "[<re.Match object; span=(109, 121), match='321-555-4321'>,\n",
       " <re.Match object; span=(122, 134), match='123.555.1234'>]"
      ]
     },
     "execution_count": 27,
     "metadata": {},
     "output_type": "execute_result"
    }
   ],
   "source": [
    "pattern1 = '\\d\\d\\d[-\\.]\\d\\d\\d[-\\.]\\d\\d\\d\\d'\n",
    "finder(pattern1,s)"
   ]
  },
  {
   "cell_type": "markdown",
   "metadata": {},
   "source": [
    "better approach with quantifiers"
   ]
  },
  {
   "cell_type": "code",
   "execution_count": 28,
   "metadata": {},
   "outputs": [
    {
     "data": {
      "text/plain": [
       "[<re.Match object; span=(109, 121), match='321-555-4321'>,\n",
       " <re.Match object; span=(122, 134), match='123.555.1234'>]"
      ]
     },
     "execution_count": 28,
     "metadata": {},
     "output_type": "execute_result"
    }
   ],
   "source": [
    "pattern2 ='\\d{3}[-.]\\d{3}[-.]\\d{4}'\n",
    "finder(pattern2,s)"
   ]
  },
  {
   "cell_type": "markdown",
   "metadata": {},
   "source": [
    "## Look for names where names start with Mr."
   ]
  },
  {
   "cell_type": "code",
   "execution_count": 22,
   "metadata": {},
   "outputs": [
    {
     "data": {
      "text/plain": [
       "['Mr. Varma', 'Mr Anant', 'Mr. T']"
      ]
     },
     "execution_count": 22,
     "metadata": {},
     "output_type": "execute_result"
    }
   ],
   "source": [
    "pattern3 = 'Mr\\.?\\s\\w*'\n",
    "finder(pattern3,s)"
   ]
  },
  {
   "cell_type": "markdown",
   "metadata": {},
   "source": [
    "## Now, lets say looking for all the names available."
   ]
  },
  {
   "cell_type": "code",
   "execution_count": 7,
   "metadata": {},
   "outputs": [
    {
     "data": {
      "text/plain": [
       "['Mr. Varma', 'Mr Anant', 'Ms Nandini', 'Mrs. Singh', 'Mr. T']"
      ]
     },
     "execution_count": 7,
     "metadata": {},
     "output_type": "execute_result"
    }
   ],
   "source": [
    "pattern4 = 'M[rs][.\\ss][\\s\\.]{0,2}[A-z]*'\n",
    "finder(pattern4,s)"
   ]
  },
  {
   "cell_type": "markdown",
   "metadata": {},
   "source": [
    "But we can go with grouping for a better aproach"
   ]
  },
  {
   "cell_type": "code",
   "execution_count": 30,
   "metadata": {},
   "outputs": [
    {
     "data": {
      "text/plain": [
       "[<re.Match object; span=(135, 144), match='Mr. Varma'>,\n",
       " <re.Match object; span=(145, 153), match='Mr Anant'>,\n",
       " <re.Match object; span=(154, 164), match='Ms Nandini'>,\n",
       " <re.Match object; span=(165, 175), match='Mrs. Singh'>,\n",
       " <re.Match object; span=(176, 181), match='Mr. T'>]"
      ]
     },
     "execution_count": 30,
     "metadata": {},
     "output_type": "execute_result"
    }
   ],
   "source": [
    "pattern5 = 'M(r|s|rs)\\.?\\s[A-Z][a-z]*'\n",
    "finder(pattern5, s)"
   ]
  },
  {
   "cell_type": "code",
   "execution_count": 33,
   "metadata": {},
   "outputs": [],
   "source": [
    "pat = '(\\w+[\\.-])*\\w+@(\\w+[\\.-])*\\w{2,3}'\n",
    "hi = finder(pat, s)"
   ]
  },
  {
   "cell_type": "code",
   "execution_count": 34,
   "metadata": {},
   "outputs": [],
   "source": [
    "for ele in hi : print(ele)"
   ]
  }
 ],
 "metadata": {
  "kernelspec": {
   "display_name": "Python 3.9.7 ('base')",
   "language": "python",
   "name": "python3"
  },
  "language_info": {
   "codemirror_mode": {
    "name": "ipython",
    "version": 3
   },
   "file_extension": ".py",
   "mimetype": "text/x-python",
   "name": "python",
   "nbconvert_exporter": "python",
   "pygments_lexer": "ipython3",
   "version": "3.9.7"
  },
  "orig_nbformat": 4,
  "vscode": {
   "interpreter": {
    "hash": "ac67a110c22b5a2dbfbee94e330edc65ab8c73ef4fe4729cecc84c9bf1ab600c"
   }
  }
 },
 "nbformat": 4,
 "nbformat_minor": 2
}
