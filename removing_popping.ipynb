{
 "cells": [
  {
   "cell_type": "code",
   "execution_count": 1,
   "metadata": {},
   "outputs": [
    {
     "name": "stdout",
     "output_type": "stream",
     "text": [
      "[2, 3, 4, 1]\n",
      "[3, 4, 1]\n"
     ]
    }
   ],
   "source": [
    "list = [2,3,4,5,1]\n",
    "rem = [5,1]\n",
    "list.remove(5)\n",
    "print(list)\n",
    "list.remove(2)\n",
    "print(list)"
   ]
  },
  {
   "cell_type": "code",
   "execution_count": 7,
   "metadata": {},
   "outputs": [],
   "source": [
    "def popping(list):\n",
    "\n",
    "    for i in range(len(list)//2):\n",
    "        print('for {}th iteration'.format(i))\n",
    "        print(list)\n",
    "        print('popped 0th :',list.pop(0))\n",
    "        print('popped last :',list.pop(-1))\n",
    "        print('new list :',list, end = '\\n\\n')\n"
   ]
  },
  {
   "cell_type": "code",
   "execution_count": 9,
   "metadata": {},
   "outputs": [
    {
     "name": "stdout",
     "output_type": "stream",
     "text": [
      "for 0th iteration\n",
      "[2, 3, 5, 3, 4, 0, 7]\n",
      "popped 0th : 2\n",
      "popped last : 7\n",
      "new list : [3, 5, 3, 4, 0]\n",
      "\n",
      "for 1th iteration\n",
      "[3, 5, 3, 4, 0]\n",
      "popped 0th : 3\n",
      "popped last : 0\n",
      "new list : [5, 3, 4]\n",
      "\n",
      "for 2th iteration\n",
      "[5, 3, 4]\n",
      "popped 0th : 5\n",
      "popped last : 4\n",
      "new list : [3]\n",
      "\n"
     ]
    }
   ],
   "source": [
    "lst = [2,3,5,3,4,0,7]\n",
    "popping(lst)"
   ]
  }
 ],
 "metadata": {
  "interpreter": {
   "hash": "ac67a110c22b5a2dbfbee94e330edc65ab8c73ef4fe4729cecc84c9bf1ab600c"
  },
  "kernelspec": {
   "display_name": "Python 3.9.7 ('base')",
   "language": "python",
   "name": "python3"
  },
  "language_info": {
   "codemirror_mode": {
    "name": "ipython",
    "version": 3
   },
   "file_extension": ".py",
   "mimetype": "text/x-python",
   "name": "python",
   "nbconvert_exporter": "python",
   "pygments_lexer": "ipython3",
   "version": "3.9.7"
  },
  "orig_nbformat": 4
 },
 "nbformat": 4,
 "nbformat_minor": 2
}
