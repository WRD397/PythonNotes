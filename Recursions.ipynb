{
 "cells": [
  {
   "cell_type": "markdown",
   "metadata": {},
   "source": [
    "#### Factorial_ITERATIVE"
   ]
  },
  {
   "cell_type": "code",
   "execution_count": 2,
   "metadata": {},
   "outputs": [
    {
     "data": {
      "text/plain": [
       "120"
      ]
     },
     "execution_count": 2,
     "metadata": {},
     "output_type": "execute_result"
    }
   ],
   "source": [
    "def factorial(n):\n",
    "    \"\"\"\n",
    "    :param n : Integer\n",
    "    : return: n*n-1*n-2....1\n",
    "    now n factorial = (n-1) factorial\n",
    "    \n",
    "    \"\"\"\n",
    "    fac = 1\n",
    "    for i in range(n):\n",
    "        fac = fac*(i+1)\n",
    "    \n",
    "    return fac\n",
    "\n",
    "number = int(input(\"Enter the Number: \"))\n",
    "factorial (number) "
   ]
  },
  {
   "cell_type": "markdown",
   "metadata": {},
   "source": [
    "#### Factorial_RECURSIVE"
   ]
  },
  {
   "cell_type": "code",
   "execution_count": 3,
   "metadata": {},
   "outputs": [
    {
     "data": {
      "text/plain": [
       "120"
      ]
     },
     "execution_count": 3,
     "metadata": {},
     "output_type": "execute_result"
    }
   ],
   "source": [
    "def fac_rec(n):\n",
    "    if n == 0 :\n",
    "        return 1\n",
    "    else : \n",
    "        return n * fac_rec(n-1)\n",
    "\n",
    "fac_rec(5)"
   ]
  },
  {
   "cell_type": "markdown",
   "metadata": {},
   "source": [
    "#### Fibonacci"
   ]
  },
  {
   "cell_type": "code",
   "execution_count": 8,
   "metadata": {},
   "outputs": [
    {
     "name": "stdout",
     "output_type": "stream",
     "text": [
      "[0, 1, 1, 2, 3, 5, 8, 13, 21, 34]\n"
     ]
    }
   ],
   "source": [
    "\"\"\"\n",
    "Fiboacci Series def :\n",
    "A[i+2] = A[i] + A[i+1]\n",
    "\"\"\"\n",
    "n = int(input(\"Give the number upto which Fibonacci series is to be made : \"))\n",
    "Fibo = []\n",
    "\n",
    "for i in range (0,n):\n",
    "\n",
    "    ### RECURSIVE definition\n",
    "    def fibo(i):              ###basically returning the i th term of the Fibonacci Series.\n",
    "        if i == 0: return 0\n",
    "        elif i == 1: return 1\n",
    "        else:\n",
    "            return fibo(i-1) + fibo(i-2)\n",
    "\n",
    "    Fibo.append(fibo(i))\n",
    "\n",
    "print (Fibo)"
   ]
  },
  {
   "cell_type": "markdown",
   "metadata": {},
   "source": [
    "### <p>Let’s write a function that sums every number from 0 to the given input.</p>\n",
    "##### <p> RECURSIVE </p>"
   ]
  },
  {
   "cell_type": "code",
   "execution_count": 11,
   "metadata": {},
   "outputs": [
    {
     "data": {
      "text/plain": [
       "55"
      ]
     },
     "execution_count": 11,
     "metadata": {},
     "output_type": "execute_result"
    }
   ],
   "source": [
    "def sum_to_one(n):\n",
    "   if n == 0 : return 0\n",
    "   elif n == 1 : return 1\n",
    "   else : \n",
    "     return n + sum_to_one(n-1)\n",
    "sum_to_one(10)"
   ]
  },
  {
   "cell_type": "code",
   "execution_count": 24,
   "metadata": {},
   "outputs": [
    {
     "data": {
      "text/plain": [
       "'Donny'"
      ]
     },
     "execution_count": 24,
     "metadata": {},
     "output_type": "execute_result"
    }
   ],
   "source": [
    "def solve(A):\n",
    "        if A == 1 : return 'Ponny'\n",
    "        elif A == 2 : return 'Donny'\n",
    "        else :\n",
    "            import random\n",
    "            k = random.randint(1,A-1)\n",
    "            return solve(A-k)\n",
    "\n",
    "A = 9\n",
    "solve(A)"
   ]
  }
 ],
 "metadata": {
  "interpreter": {
   "hash": "ac67a110c22b5a2dbfbee94e330edc65ab8c73ef4fe4729cecc84c9bf1ab600c"
  },
  "kernelspec": {
   "display_name": "Python 3.9.7 ('base')",
   "language": "python",
   "name": "python3"
  },
  "language_info": {
   "codemirror_mode": {
    "name": "ipython",
    "version": 3
   },
   "file_extension": ".py",
   "mimetype": "text/x-python",
   "name": "python",
   "nbconvert_exporter": "python",
   "pygments_lexer": "ipython3",
   "version": "3.9.7"
  },
  "orig_nbformat": 4
 },
 "nbformat": 4,
 "nbformat_minor": 2
}
